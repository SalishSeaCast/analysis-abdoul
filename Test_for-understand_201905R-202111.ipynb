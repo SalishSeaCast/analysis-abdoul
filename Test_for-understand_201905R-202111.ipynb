{
 "cells": [
  {
   "attachments": {},
   "cell_type": "markdown",
   "metadata": {},
   "source": [
    "TEST, Understand Susan's Oxygen Script"
   ]
  },
  {
   "cell_type": "code",
   "execution_count": 1,
   "metadata": {},
   "outputs": [],
   "source": [
    "import cmocean.cm as cm\n",
    "import datetime as dt\n",
    "import matplotlib.pyplot as plt\n",
    "from matplotlib.colors import LogNorm\n",
    "import numpy as np\n",
    "import pandas as pd\n",
    "# import statfieldodels.api as sm\n",
    "import xarray as xr\n",
    "\n",
    "from salishsea_tools import viz_tools"
   ]
  },
  {
   "attachments": {},
   "cell_type": "markdown",
   "metadata": {},
   "source": [
    "Bot data from 2011 - 2019  \n",
    "PSF data from 2015 - 2017??"
   ]
  },
  {
   "cell_type": "code",
   "execution_count": null,
   "metadata": {},
   "outputs": [],
   "source": [
    "field = 'Dissolved Oxygen'\n",
    "obsn = 'Oxygen_Dissolved'\n",
    "modn = 'mod_dissolved_oxygen'\n",
    "vmax = 420\n",
    "vmin = 30\n",
    "dbin = 10\n",
    "scale = 260\n",
    "\n",
    "cmap = 'pink_r'#cm.rain #cm.ice_r #'ocean_r' #'pink_r'"
   ]
  },
  {
   "cell_type": "code",
   "execution_count": null,
   "metadata": {},
   "outputs": [],
   "source": []
  }
 ],
 "metadata": {
  "kernelspec": {
   "display_name": "analysis-abdoul",
   "language": "python",
   "name": "python3"
  },
  "language_info": {
   "codemirror_mode": {
    "name": "ipython",
    "version": 3
   },
   "file_extension": ".py",
   "mimetype": "text/x-python",
   "name": "python",
   "nbconvert_exporter": "python",
   "pygments_lexer": "ipython3",
   "version": "3.11.3"
  },
  "orig_nbformat": 4
 },
 "nbformat": 4,
 "nbformat_minor": 2
}
