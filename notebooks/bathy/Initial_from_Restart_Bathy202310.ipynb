{
 "cells": [
  {
   "cell_type": "markdown",
   "metadata": {},
   "source": [
    "Create a TS+biology tracers initial file for one bathymetry based on a restart file from a different bathymetry"
   ]
  },
  {
   "cell_type": "code",
   "execution_count": 1,
   "metadata": {},
   "outputs": [],
   "source": [
    "import netCDF4 as nc\n",
    "import xarray as xr\n",
    "import numpy as np \n",
    "\n",
    "from salishsea_tools import nc_tools\n",
    "\n",
    "%matplotlib inline"
   ]
  },
  {
   "cell_type": "markdown",
   "metadata": {},
   "source": [
    "# New Bathymetry (via its mesh mask)"
   ]
  },
  {
   "cell_type": "code",
   "execution_count": 2,
   "metadata": {},
   "outputs": [],
   "source": [
    "mesh = nc.Dataset('/ocean/atall/MOAD/analysis-abdoul/notebooks/bathy/mesh_mask_202310b.nc')\n",
    "mbathy = mesh.variables['mbathy'][0,:,:]\n",
    "#used to calculate number of vertical ocean grid cells at each (i,j) (1=land point)\n",
    "gdepw = mesh.variables['gdepw_0'][0,:,:,:]\n",
    "surface_tmask = mesh.variables['tmask'][0,0,:,:]\n",
    "surface_tmask = np.abs(surface_tmask-1)\n",
    "tmask = mesh.variables['tmask'][0,:,:,:]\n",
    "tmask = np.abs(tmask-1)\n",
    "lats = mesh.variables['nav_lat'][:]\n",
    "lons = mesh.variables['nav_lon'][:]\n",
    "mesh.close()"
   ]
  },
  {
   "cell_type": "code",
   "execution_count": 3,
   "metadata": {},
   "outputs": [],
   "source": [
    "# calculate bathymetry based on meshmask\n",
    "NEMO_bathy = np.zeros(mbathy.shape)\n",
    "for i in range(NEMO_bathy.shape[1]):\n",
    "    for j in range(NEMO_bathy.shape[0]):\n",
    "        level = mbathy[j,i]\n",
    "        NEMO_bathy[j,i] = gdepw[level,j,i]\n",
    "NEMO_bathy = np.ma.masked_array(NEMO_bathy, mask = surface_tmask)"
   ]
  },
  {
   "cell_type": "markdown",
   "metadata": {},
   "source": [
    "# Old Bathymetry (based on its mesh mask)"
   ]
  },
  {
   "cell_type": "code",
   "execution_count": 4,
   "metadata": {},
   "outputs": [],
   "source": [
    "oldmesh = nc.Dataset('/ocean/atall/MOAD/grid/mesh_mask202108.nc')\n",
    "oldmbathy =oldmesh.variables['mbathy'][0,:,:] \n",
    "#used to calculate number of vertical ocean grid cells at each (i,j) (1=land point)\n",
    "oldgdepw = oldmesh.variables['gdepw_0'][0,:,:,:]\n",
    "oldsurface_tmask = oldmesh.variables['tmask'][0,0,:,:]\n",
    "oldsurface_tmask = np.abs(oldsurface_tmask-1)\n",
    "oldtmask = oldmesh.variables['tmask'][0,:,:,:]\n",
    "oldtmask = np.abs(oldtmask-1)\n",
    "oldmesh.close()"
   ]
  },
  {
   "cell_type": "code",
   "execution_count": 5,
   "metadata": {},
   "outputs": [
    {
     "data": {
      "text/plain": [
       "39"
      ]
     },
     "execution_count": 5,
     "metadata": {},
     "output_type": "execute_result"
    }
   ],
   "source": [
    "np.max(oldmbathy)"
   ]
  },
  {
   "cell_type": "markdown",
   "metadata": {},
   "source": [
    "# Restart Files to Get Tracers (TS and Biology)"
   ]
  },
  {
   "cell_type": "code",
   "execution_count": 6,
   "metadata": {},
   "outputs": [],
   "source": [
    "dataphys = nc.Dataset('/results2/SalishSea/nowcast-green.202111/10aug19/SalishSea_13903920_restart.nc')\n",
    "databio = nc.Dataset('/results2/SalishSea/nowcast-green.202111/10aug19/SalishSea_13903920_restart_trc.nc')   "
   ]
  },
  {
   "cell_type": "code",
   "execution_count": 7,
   "metadata": {},
   "outputs": [
    {
     "name": "stdout",
     "output_type": "stream",
     "text": [
      "TRNDON\n",
      "TRNMICZ\n",
      "TRNMYRI\n",
      "TRNNH4\n",
      "TRNNO3\n",
      "TRNTRA\n",
      "TRNPHY\n",
      "TRNDIAT\n",
      "TRNPON\n",
      "TRNSi\n",
      "TRNbSi\n",
      "TRNDIC\n",
      "TRNTA\n",
      "TRNO2\n",
      "TRBDON\n",
      "TRBMICZ\n",
      "TRBMYRI\n",
      "TRBNH4\n",
      "TRBNO3\n",
      "TRBTRA\n",
      "TRBPHY\n",
      "TRBDIAT\n",
      "TRBPON\n",
      "TRBSi\n",
      "TRBbSi\n",
      "TRBDIC\n",
      "TRBTA\n",
      "TRBO2\n"
     ]
    }
   ],
   "source": [
    "physical = ['tn', 'sn',\n",
    "           'tb', 'sb']\n",
    "biological = ['TRNDON', 'TRNMICZ','TRNMYRI','TRNNH4','TRNNO3','TRNTRA',\n",
    "              'TRNPHY','TRNDIAT','TRNPON','TRNSi','TRNbSi',\n",
    "              'TRNDIC', 'TRNTA', 'TRNO2',\n",
    "             'TRBDON', 'TRBMICZ','TRBMYRI','TRBNH4','TRBNO3','TRBTRA',\n",
    "              'TRBPHY','TRBDIAT','TRBPON','TRBSi','TRBbSi',\n",
    "             'TRBDIC', 'TRBTA', 'TRBO2']\n",
    "varas = {}\n",
    "for vb in physical:\n",
    "    varas[vb] = dataphys.variables[vb][0, :]\n",
    "for vb in biological:\n",
    "    print (vb)\n",
    "    varas[vb] = databio.variables[vb][0, :]\n",
    "#dataphys.close()\n",
    "#databio.close()\n",
    "varall = physical + biological"
   ]
  },
  {
   "cell_type": "markdown",
   "metadata": {},
   "source": [
    "# Fill in any Missing Data Points"
   ]
  },
  {
   "cell_type": "code",
   "execution_count": 8,
   "metadata": {},
   "outputs": [],
   "source": [
    "def find_mean(varas, varall, i, j, k, dd, oldtmask):\n",
    "    for vb in varall:\n",
    "        imin = max(i-dd, 0)\n",
    "        imax = min(i+dd, 897)\n",
    "        jmin = max(j-dd, 0)\n",
    "        jmax = min(j+dd, 397)\n",
    "        temporary = np.sum(varas[vb][k, imin:imax+1, jmin:jmax+1]*(1-oldtmask[k, imin:imax+1, jmin:jmax+1]))\n",
    "        count = np.sum(1-oldtmask[k, imin:imax+1, jmin:jmax+1])\n",
    "        if count == 0:\n",
    "            varas[vb][k, i, j] = 0\n",
    "        else:\n",
    "            varas[vb][k, i, j] = temporary/count\n",
    "    return varas"
   ]
  },
  {
   "cell_type": "code",
   "execution_count": 9,
   "metadata": {},
   "outputs": [],
   "source": [
    "def fillit(kmax, oldtmask, varas, varall):\n",
    "    dd = 1\n",
    "    bad = 1\n",
    "    while bad > 0:\n",
    "        dd += 1\n",
    "        good = 1\n",
    "        while good > 0:\n",
    "            good = 0; bad = 0; already = 0\n",
    "            for k in range(kmax+1):\n",
    "                for i in range(1, 898):\n",
    "                    for j in range(1, 398):\n",
    "                        if tmask[k,i,j] < oldtmask[k,i,j]:\n",
    "                            if varas['sn'][k, i, j] > 0:\n",
    "                                already = already + 1\n",
    "                            else:\n",
    "                                varas = find_mean(varas, varall, i, j, k, dd, oldtmask)\n",
    "                                if varas['sn'][k, i, j] > 0:\n",
    "                                    good = good + 1\n",
    "                                else:\n",
    "                                    bad = bad + 1\n",
    "                                    if dd > 5:\n",
    "                                        print (k, i, j)\n",
    "            print ('dd', dd, 'good', good)\n",
    "            print ('already', already, 'bad', bad)"
   ]
  },
  {
   "cell_type": "markdown",
   "metadata": {},
   "source": [
    "This can take a very long time if the bathymetries are very different, aka add a new long river.  If you want you can do it in pieces by starting with the first argument at say 5 and then slowly increasing it.  You do need to go to 39 finally. For new bathy201702 versus old bathy201702 its fast."
   ]
  },
  {
   "cell_type": "code",
   "execution_count": 10,
   "metadata": {},
   "outputs": [
    {
     "name": "stdout",
     "output_type": "stream",
     "text": [
      "dd 2 good 172\n",
      "already 0 bad 67\n",
      "dd 2 good 0\n",
      "already 172 bad 67\n",
      "dd 3 good 17\n",
      "already 172 bad 50\n",
      "dd 3 good 0\n",
      "already 189 bad 50\n",
      "dd 4 good 16\n",
      "already 189 bad 34\n",
      "dd 4 good 0\n",
      "already 205 bad 34\n",
      "dd 5 good 11\n",
      "already 205 bad 23\n",
      "dd 5 good 0\n",
      "already 216 bad 23\n",
      "26 361 240\n",
      "26 362 218\n",
      "26 362 219\n",
      "26 363 218\n",
      "26 363 219\n",
      "26 363 220\n",
      "26 363 221\n",
      "26 364 235\n",
      "26 364 236\n",
      "26 364 237\n",
      "27 361 228\n",
      "27 362 228\n",
      "dd 6 good 11\n",
      "already 216 bad 12\n",
      "26 361 240\n",
      "26 362 218\n",
      "26 362 219\n",
      "26 363 218\n",
      "26 363 219\n",
      "26 363 220\n",
      "26 363 221\n",
      "26 364 235\n",
      "26 364 236\n",
      "26 364 237\n",
      "27 361 228\n",
      "27 362 228\n",
      "dd 6 good 0\n",
      "already 227 bad 12\n",
      "26 362 219\n",
      "26 363 219\n",
      "26 363 220\n",
      "26 364 236\n",
      "26 364 237\n",
      "27 361 228\n",
      "27 362 228\n",
      "dd 7 good 5\n",
      "already 227 bad 7\n",
      "26 362 219\n",
      "26 363 219\n",
      "26 363 220\n",
      "26 364 236\n",
      "26 364 237\n",
      "27 361 228\n",
      "27 362 228\n",
      "dd 7 good 0\n",
      "already 232 bad 7\n",
      "26 364 237\n",
      "27 361 228\n",
      "27 362 228\n",
      "dd 8 good 4\n",
      "already 232 bad 3\n",
      "26 364 237\n",
      "27 361 228\n",
      "27 362 228\n",
      "dd 8 good 0\n",
      "already 236 bad 3\n",
      "27 361 228\n",
      "27 362 228\n",
      "dd 9 good 1\n",
      "already 236 bad 2\n",
      "27 361 228\n",
      "27 362 228\n",
      "dd 9 good 0\n",
      "already 237 bad 2\n",
      "27 361 228\n",
      "27 362 228\n",
      "dd 10 good 0\n",
      "already 237 bad 2\n",
      "27 361 228\n",
      "27 362 228\n",
      "dd 11 good 0\n",
      "already 237 bad 2\n",
      "27 361 228\n",
      "27 362 228\n",
      "dd 12 good 0\n",
      "already 237 bad 2\n",
      "27 361 228\n",
      "27 362 228\n",
      "dd 13 good 0\n",
      "already 237 bad 2\n",
      "27 361 228\n",
      "27 362 228\n",
      "dd 14 good 0\n",
      "already 237 bad 2\n",
      "27 361 228\n",
      "27 362 228\n",
      "dd 15 good 0\n",
      "already 237 bad 2\n",
      "dd 16 good 2\n",
      "already 237 bad 0\n",
      "dd 16 good 0\n",
      "already 239 bad 0\n"
     ]
    }
   ],
   "source": [
    "fillit(39, oldtmask, varas, varall)"
   ]
  },
  {
   "cell_type": "markdown",
   "metadata": {},
   "source": [
    "# Write Initial File"
   ]
  },
  {
   "cell_type": "code",
   "execution_count": 11,
   "metadata": {},
   "outputs": [
    {
     "name": "stdout",
     "output_type": "stream",
     "text": [
      "file format: NETCDF4\n",
      "Conventions: CF-1.6\n",
      "title: All tracers for Bathymetry 202310b from nowcast-green 10aug19b, with N and Si inc.\n",
      "institution: Dept of Earth, Ocean & Atmospheric Sciences, University of British Columbia\n",
      "source: REQUIRED\n",
      "references: REQUIRED\n",
      "history: [2023-10-29 21:15:55] Created netCDF4 zlib=True dataset.\n",
      "comment: All Tracers, physical and biological\n"
     ]
    },
    {
     "name": "stderr",
     "output_type": "stream",
     "text": [
      "not found!\n"
     ]
    },
    {
     "data": {
      "text/plain": [
       "<class 'netCDF4._netCDF4.Dimension'> (unlimited): name = 't', size = 0"
      ]
     },
     "execution_count": 11,
     "metadata": {},
     "output_type": "execute_result"
    }
   ],
   "source": [
    "# build nc file\n",
    "#new_initialfile = nc.Dataset('restart_phybio_13903920_10aug19.nc', 'w')\n",
    "new_initialfile = nc.Dataset('restart_phybio_13903920_10aug19b.nc', 'w')\n",
    "nc_tools.init_dataset_attrs(\n",
    "    new_initialfile, \n",
    "    title='All tracers for Bathymetry 202310b from nowcast-green 10aug19b, with N and Si inc.', \n",
    "    notebook_name='/ocean/atall/MOAD/analysis-abdoul/notebooks/bathy/Initial_from_Restart_Bathy202310', \n",
    "    nc_filepath='/ocean/atall/MOAD/analysis-abdoul/notebooks/bathy/restart_phybio_13903920_10aug19b.nc',\n",
    "    comment='All Tracers, physical and biological')\n",
    "new_initialfile.createDimension('y', 898)\n",
    "new_initialfile.createDimension('x', 398)\n",
    "new_initialfile.createDimension('z', 40)\n",
    "new_initialfile.createDimension('t', None)"
   ]
  },
  {
   "cell_type": "code",
   "execution_count": 12,
   "metadata": {},
   "outputs": [
    {
     "name": "stdout",
     "output_type": "stream",
     "text": [
      "tn 26.25\n",
      "sn 34.0625\n",
      "tb 26.25\n",
      "sb 34.0625\n",
      "TRNDON 8.6875\n",
      "TRNMICZ 1.0625\n",
      "TRNMYRI 0.0\n",
      "TRNNH4 5.6875\n",
      "TRNNO3 36.75\n",
      "TRNTRA 25.9375\n",
      "TRNPHY 4.875\n",
      "TRNDIAT 15.1875\n",
      "TRNPON 4.5625\n",
      "TRNSi 147.0625\n",
      "TRNbSi 99.625\n",
      "TRNDIC 2333.0\n",
      "TRNTA 2326.625\n",
      "TRNO2 405.25\n",
      "TRBDON 8.6875\n",
      "TRBMICZ 1.0625\n",
      "TRBMYRI 0.0\n",
      "TRBNH4 5.6875\n",
      "TRBNO3 36.75\n",
      "TRBTRA 25.9375\n",
      "TRBPHY 4.875\n",
      "TRBDIAT 15.1875\n",
      "TRBPON 4.5625\n",
      "TRBSi 147.125\n",
      "TRBbSi 99.625\n",
      "TRBDIC 2333.0\n",
      "TRBTA 2326.625\n",
      "TRBO2 405.25\n"
     ]
    },
    {
     "data": {
      "text/plain": [
       "<class 'netCDF4._netCDF4.Dataset'>\n",
       "root group (NETCDF4 data model, file format HDF5):\n",
       "    Conventions: CF-1.6\n",
       "    title: All tracers for Bathymetry 202310b from nowcast-green 10aug19b, with N and Si inc.\n",
       "    institution: Dept of Earth, Ocean & Atmospheric Sciences, University of British Columbia\n",
       "    source: REQUIRED\n",
       "    references: REQUIRED\n",
       "    history: [2023-10-29 21:15:55] Created netCDF4 zlib=True dataset.\n",
       "    comment: All Tracers, physical and biological\n",
       "    dimensions(sizes): y(898), x(398), z(40), t(1)\n",
       "    variables(dimensions): float64 tn(t, z, y, x), float64 sn(t, z, y, x), float64 tb(t, z, y, x), float64 sb(t, z, y, x), float64 TRNDON(t, z, y, x), float64 TRNMICZ(t, z, y, x), float64 TRNMYRI(t, z, y, x), float64 TRNNH4(t, z, y, x), float64 TRNNO3(t, z, y, x), float64 TRNTRA(t, z, y, x), float64 TRNPHY(t, z, y, x), float64 TRNDIAT(t, z, y, x), float64 TRNPON(t, z, y, x), float64 TRNSi(t, z, y, x), float64 TRNbSi(t, z, y, x), float64 TRNDIC(t, z, y, x), float64 TRNTA(t, z, y, x), float64 TRNO2(t, z, y, x), float64 TRBDON(t, z, y, x), float64 TRBMICZ(t, z, y, x), float64 TRBMYRI(t, z, y, x), float64 TRBNH4(t, z, y, x), float64 TRBNO3(t, z, y, x), float64 TRBTRA(t, z, y, x), float64 TRBPHY(t, z, y, x), float64 TRBDIAT(t, z, y, x), float64 TRBPON(t, z, y, x), float64 TRBSi(t, z, y, x), float64 TRBbSi(t, z, y, x), float64 TRBDIC(t, z, y, x), float64 TRBTA(t, z, y, x), float64 TRBO2(t, z, y, x)\n",
       "    groups: "
      ]
     },
     "execution_count": 12,
     "metadata": {},
     "output_type": "execute_result"
    }
   ],
   "source": [
    "thevara = {}\n",
    "for vb in varall:\n",
    "    thevara[vb] = new_initialfile.createVariable(\n",
    "        vb, 'float64', ('t', 'z', 'y', 'x'), zlib=True,\n",
    "        least_significant_digit=1e-5, fill_value=-99)\n",
    "    thevara[vb][0] = varas[vb]\n",
    "    print (vb, np.max(thevara[vb]))\n",
    "new_initialfile"
   ]
  },
  {
   "cell_type": "code",
   "execution_count": 13,
   "metadata": {},
   "outputs": [],
   "source": [
    "new_initialfile.close()"
   ]
  },
  {
   "cell_type": "markdown",
   "metadata": {},
   "source": [
    "# Copy variables in the old restart files to the new one and correct the salinity"
   ]
  },
  {
   "cell_type": "code",
   "execution_count": 14,
   "metadata": {},
   "outputs": [],
   "source": [
    "var_phy_to_copy = {'nav_lon','nav_lat','nav_lev','time_counter','rnf_b', 'sfx_b', 'rotn', 'vtau_b', 'rdttra1', 'avt', 'nav_lon', 'qns_b', 'vn', 'hdivn', 'time_counter', 'en', 'hdivb', 'sshb', 'rhop', 'ndastp', 'adatrj', 'fse3t_n', 'ssh_ibb', 'avm', 'avmu', 'mxln', 'sshn', 'sbc_sc_b', 'nav_lev', 'emp_b', 'qsr_hc_b', 'sbc_hc_b', 'rnf_sc_b', 'vb2_b', 'ub2_b', 'nav_lat', 'ub', 'rotb', 'fse3t_b', 'un', 'rdt', 'utau_b', 'fraqsr_1lev', 'avmv', 'vb', 'kt', 'rnf_hc_b'}\n",
    "var_bio_to_copy = {'rnf_pis_DIC_b', 'rnf_pis_MYRI_b', 'sbc_DON_b', 'sbc_bSi_b', 'nav_lon', 'rnf_pis_PON_b', 'rnf_pis_PHY_b', 'time_counter', 'rnf_pis_MICZ_b', 'sbc_TA_b', 'rdttrc1', 'rnf_pis_TRA_b', 'ndastp', 'sbc_Si_b', 'rnf_pis_TA_b', 'adatrj', 'rnf_pis_bSi_b', 'sbc_PHY_b', 'nav_lev', 'sbc_DIC_b', 'sbc_DIAT_b', 'sbc_O2_b', 'sbc_MYRI_b', 'rnf_pis_NO3_b', 'rnf_pis_DON_b', 'sbc_MICZ_b', 'sbc_PON_b', 'sbc_NH4_b', 'rnf_pis_O2_b', 'nav_lat', 'sbc_TRA_b', 'kt', 'rnf_pis_DIAT_b', 'rnf_pis_Si_b', 'rnf_pis_NH4_b', 'sbc_NO3_b'}"
   ]
  },
  {
   "cell_type": "code",
   "execution_count": 15,
   "metadata": {},
   "outputs": [],
   "source": [
    "dfphy = xr.open_dataset('SalishSea_13903920_restart.nc') # Copy from /results2/SalishSea/nowcast-green.202111/10aug19/\n",
    "dfbio = xr.open_dataset('SalishSea_13903920_restart_trc.nc') # same as above\n",
    "#dfnew = xr.open_dataset('restart_phybio_13903920_10aug19.nc')\n",
    "dfnew = xr.open_dataset('restart_phybio_13903920_10aug19b.nc')"
   ]
  },
  {
   "cell_type": "code",
   "execution_count": 16,
   "metadata": {},
   "outputs": [
    {
     "data": {
      "text/html": [
       "<div><svg style=\"position: absolute; width: 0; height: 0; overflow: hidden\">\n",
       "<defs>\n",
       "<symbol id=\"icon-database\" viewBox=\"0 0 32 32\">\n",
       "<path d=\"M16 0c-8.837 0-16 2.239-16 5v4c0 2.761 7.163 5 16 5s16-2.239 16-5v-4c0-2.761-7.163-5-16-5z\"></path>\n",
       "<path d=\"M16 17c-8.837 0-16-2.239-16-5v6c0 2.761 7.163 5 16 5s16-2.239 16-5v-6c0 2.761-7.163 5-16 5z\"></path>\n",
       "<path d=\"M16 26c-8.837 0-16-2.239-16-5v6c0 2.761 7.163 5 16 5s16-2.239 16-5v-6c0 2.761-7.163 5-16 5z\"></path>\n",
       "</symbol>\n",
       "<symbol id=\"icon-file-text2\" viewBox=\"0 0 32 32\">\n",
       "<path d=\"M28.681 7.159c-0.694-0.947-1.662-2.053-2.724-3.116s-2.169-2.030-3.116-2.724c-1.612-1.182-2.393-1.319-2.841-1.319h-15.5c-1.378 0-2.5 1.121-2.5 2.5v27c0 1.378 1.122 2.5 2.5 2.5h23c1.378 0 2.5-1.122 2.5-2.5v-19.5c0-0.448-0.137-1.23-1.319-2.841zM24.543 5.457c0.959 0.959 1.712 1.825 2.268 2.543h-4.811v-4.811c0.718 0.556 1.584 1.309 2.543 2.268zM28 29.5c0 0.271-0.229 0.5-0.5 0.5h-23c-0.271 0-0.5-0.229-0.5-0.5v-27c0-0.271 0.229-0.5 0.5-0.5 0 0 15.499-0 15.5 0v7c0 0.552 0.448 1 1 1h7v19.5z\"></path>\n",
       "<path d=\"M23 26h-14c-0.552 0-1-0.448-1-1s0.448-1 1-1h14c0.552 0 1 0.448 1 1s-0.448 1-1 1z\"></path>\n",
       "<path d=\"M23 22h-14c-0.552 0-1-0.448-1-1s0.448-1 1-1h14c0.552 0 1 0.448 1 1s-0.448 1-1 1z\"></path>\n",
       "<path d=\"M23 18h-14c-0.552 0-1-0.448-1-1s0.448-1 1-1h14c0.552 0 1 0.448 1 1s-0.448 1-1 1z\"></path>\n",
       "</symbol>\n",
       "</defs>\n",
       "</svg>\n",
       "<style>/* CSS stylesheet for displaying xarray objects in jupyterlab.\n",
       " *\n",
       " */\n",
       "\n",
       ":root {\n",
       "  --xr-font-color0: var(--jp-content-font-color0, rgba(0, 0, 0, 1));\n",
       "  --xr-font-color2: var(--jp-content-font-color2, rgba(0, 0, 0, 0.54));\n",
       "  --xr-font-color3: var(--jp-content-font-color3, rgba(0, 0, 0, 0.38));\n",
       "  --xr-border-color: var(--jp-border-color2, #e0e0e0);\n",
       "  --xr-disabled-color: var(--jp-layout-color3, #bdbdbd);\n",
       "  --xr-background-color: var(--jp-layout-color0, white);\n",
       "  --xr-background-color-row-even: var(--jp-layout-color1, white);\n",
       "  --xr-background-color-row-odd: var(--jp-layout-color2, #eeeeee);\n",
       "}\n",
       "\n",
       "html[theme=dark],\n",
       "body[data-theme=dark],\n",
       "body.vscode-dark {\n",
       "  --xr-font-color0: rgba(255, 255, 255, 1);\n",
       "  --xr-font-color2: rgba(255, 255, 255, 0.54);\n",
       "  --xr-font-color3: rgba(255, 255, 255, 0.38);\n",
       "  --xr-border-color: #1F1F1F;\n",
       "  --xr-disabled-color: #515151;\n",
       "  --xr-background-color: #111111;\n",
       "  --xr-background-color-row-even: #111111;\n",
       "  --xr-background-color-row-odd: #313131;\n",
       "}\n",
       "\n",
       ".xr-wrap {\n",
       "  display: block !important;\n",
       "  min-width: 300px;\n",
       "  max-width: 700px;\n",
       "}\n",
       "\n",
       ".xr-text-repr-fallback {\n",
       "  /* fallback to plain text repr when CSS is not injected (untrusted notebook) */\n",
       "  display: none;\n",
       "}\n",
       "\n",
       ".xr-header {\n",
       "  padding-top: 6px;\n",
       "  padding-bottom: 6px;\n",
       "  margin-bottom: 4px;\n",
       "  border-bottom: solid 1px var(--xr-border-color);\n",
       "}\n",
       "\n",
       ".xr-header > div,\n",
       ".xr-header > ul {\n",
       "  display: inline;\n",
       "  margin-top: 0;\n",
       "  margin-bottom: 0;\n",
       "}\n",
       "\n",
       ".xr-obj-type,\n",
       ".xr-array-name {\n",
       "  margin-left: 2px;\n",
       "  margin-right: 10px;\n",
       "}\n",
       "\n",
       ".xr-obj-type {\n",
       "  color: var(--xr-font-color2);\n",
       "}\n",
       "\n",
       ".xr-sections {\n",
       "  padding-left: 0 !important;\n",
       "  display: grid;\n",
       "  grid-template-columns: 150px auto auto 1fr 20px 20px;\n",
       "}\n",
       "\n",
       ".xr-section-item {\n",
       "  display: contents;\n",
       "}\n",
       "\n",
       ".xr-section-item input {\n",
       "  display: none;\n",
       "}\n",
       "\n",
       ".xr-section-item input + label {\n",
       "  color: var(--xr-disabled-color);\n",
       "}\n",
       "\n",
       ".xr-section-item input:enabled + label {\n",
       "  cursor: pointer;\n",
       "  color: var(--xr-font-color2);\n",
       "}\n",
       "\n",
       ".xr-section-item input:enabled + label:hover {\n",
       "  color: var(--xr-font-color0);\n",
       "}\n",
       "\n",
       ".xr-section-summary {\n",
       "  grid-column: 1;\n",
       "  color: var(--xr-font-color2);\n",
       "  font-weight: 500;\n",
       "}\n",
       "\n",
       ".xr-section-summary > span {\n",
       "  display: inline-block;\n",
       "  padding-left: 0.5em;\n",
       "}\n",
       "\n",
       ".xr-section-summary-in:disabled + label {\n",
       "  color: var(--xr-font-color2);\n",
       "}\n",
       "\n",
       ".xr-section-summary-in + label:before {\n",
       "  display: inline-block;\n",
       "  content: '►';\n",
       "  font-size: 11px;\n",
       "  width: 15px;\n",
       "  text-align: center;\n",
       "}\n",
       "\n",
       ".xr-section-summary-in:disabled + label:before {\n",
       "  color: var(--xr-disabled-color);\n",
       "}\n",
       "\n",
       ".xr-section-summary-in:checked + label:before {\n",
       "  content: '▼';\n",
       "}\n",
       "\n",
       ".xr-section-summary-in:checked + label > span {\n",
       "  display: none;\n",
       "}\n",
       "\n",
       ".xr-section-summary,\n",
       ".xr-section-inline-details {\n",
       "  padding-top: 4px;\n",
       "  padding-bottom: 4px;\n",
       "}\n",
       "\n",
       ".xr-section-inline-details {\n",
       "  grid-column: 2 / -1;\n",
       "}\n",
       "\n",
       ".xr-section-details {\n",
       "  display: none;\n",
       "  grid-column: 1 / -1;\n",
       "  margin-bottom: 5px;\n",
       "}\n",
       "\n",
       ".xr-section-summary-in:checked ~ .xr-section-details {\n",
       "  display: contents;\n",
       "}\n",
       "\n",
       ".xr-array-wrap {\n",
       "  grid-column: 1 / -1;\n",
       "  display: grid;\n",
       "  grid-template-columns: 20px auto;\n",
       "}\n",
       "\n",
       ".xr-array-wrap > label {\n",
       "  grid-column: 1;\n",
       "  vertical-align: top;\n",
       "}\n",
       "\n",
       ".xr-preview {\n",
       "  color: var(--xr-font-color3);\n",
       "}\n",
       "\n",
       ".xr-array-preview,\n",
       ".xr-array-data {\n",
       "  padding: 0 5px !important;\n",
       "  grid-column: 2;\n",
       "}\n",
       "\n",
       ".xr-array-data,\n",
       ".xr-array-in:checked ~ .xr-array-preview {\n",
       "  display: none;\n",
       "}\n",
       "\n",
       ".xr-array-in:checked ~ .xr-array-data,\n",
       ".xr-array-preview {\n",
       "  display: inline-block;\n",
       "}\n",
       "\n",
       ".xr-dim-list {\n",
       "  display: inline-block !important;\n",
       "  list-style: none;\n",
       "  padding: 0 !important;\n",
       "  margin: 0;\n",
       "}\n",
       "\n",
       ".xr-dim-list li {\n",
       "  display: inline-block;\n",
       "  padding: 0;\n",
       "  margin: 0;\n",
       "}\n",
       "\n",
       ".xr-dim-list:before {\n",
       "  content: '(';\n",
       "}\n",
       "\n",
       ".xr-dim-list:after {\n",
       "  content: ')';\n",
       "}\n",
       "\n",
       ".xr-dim-list li:not(:last-child):after {\n",
       "  content: ',';\n",
       "  padding-right: 5px;\n",
       "}\n",
       "\n",
       ".xr-has-index {\n",
       "  font-weight: bold;\n",
       "}\n",
       "\n",
       ".xr-var-list,\n",
       ".xr-var-item {\n",
       "  display: contents;\n",
       "}\n",
       "\n",
       ".xr-var-item > div,\n",
       ".xr-var-item label,\n",
       ".xr-var-item > .xr-var-name span {\n",
       "  background-color: var(--xr-background-color-row-even);\n",
       "  margin-bottom: 0;\n",
       "}\n",
       "\n",
       ".xr-var-item > .xr-var-name:hover span {\n",
       "  padding-right: 5px;\n",
       "}\n",
       "\n",
       ".xr-var-list > li:nth-child(odd) > div,\n",
       ".xr-var-list > li:nth-child(odd) > label,\n",
       ".xr-var-list > li:nth-child(odd) > .xr-var-name span {\n",
       "  background-color: var(--xr-background-color-row-odd);\n",
       "}\n",
       "\n",
       ".xr-var-name {\n",
       "  grid-column: 1;\n",
       "}\n",
       "\n",
       ".xr-var-dims {\n",
       "  grid-column: 2;\n",
       "}\n",
       "\n",
       ".xr-var-dtype {\n",
       "  grid-column: 3;\n",
       "  text-align: right;\n",
       "  color: var(--xr-font-color2);\n",
       "}\n",
       "\n",
       ".xr-var-preview {\n",
       "  grid-column: 4;\n",
       "}\n",
       "\n",
       ".xr-index-preview {\n",
       "  grid-column: 2 / 5;\n",
       "  color: var(--xr-font-color2);\n",
       "}\n",
       "\n",
       ".xr-var-name,\n",
       ".xr-var-dims,\n",
       ".xr-var-dtype,\n",
       ".xr-preview,\n",
       ".xr-attrs dt {\n",
       "  white-space: nowrap;\n",
       "  overflow: hidden;\n",
       "  text-overflow: ellipsis;\n",
       "  padding-right: 10px;\n",
       "}\n",
       "\n",
       ".xr-var-name:hover,\n",
       ".xr-var-dims:hover,\n",
       ".xr-var-dtype:hover,\n",
       ".xr-attrs dt:hover {\n",
       "  overflow: visible;\n",
       "  width: auto;\n",
       "  z-index: 1;\n",
       "}\n",
       "\n",
       ".xr-var-attrs,\n",
       ".xr-var-data,\n",
       ".xr-index-data {\n",
       "  display: none;\n",
       "  background-color: var(--xr-background-color) !important;\n",
       "  padding-bottom: 5px !important;\n",
       "}\n",
       "\n",
       ".xr-var-attrs-in:checked ~ .xr-var-attrs,\n",
       ".xr-var-data-in:checked ~ .xr-var-data,\n",
       ".xr-index-data-in:checked ~ .xr-index-data {\n",
       "  display: block;\n",
       "}\n",
       "\n",
       ".xr-var-data > table {\n",
       "  float: right;\n",
       "}\n",
       "\n",
       ".xr-var-name span,\n",
       ".xr-var-data,\n",
       ".xr-index-name div,\n",
       ".xr-index-data,\n",
       ".xr-attrs {\n",
       "  padding-left: 25px !important;\n",
       "}\n",
       "\n",
       ".xr-attrs,\n",
       ".xr-var-attrs,\n",
       ".xr-var-data,\n",
       ".xr-index-data {\n",
       "  grid-column: 1 / -1;\n",
       "}\n",
       "\n",
       "dl.xr-attrs {\n",
       "  padding: 0;\n",
       "  margin: 0;\n",
       "  display: grid;\n",
       "  grid-template-columns: 125px auto;\n",
       "}\n",
       "\n",
       ".xr-attrs dt,\n",
       ".xr-attrs dd {\n",
       "  padding: 0;\n",
       "  margin: 0;\n",
       "  float: left;\n",
       "  padding-right: 10px;\n",
       "  width: auto;\n",
       "}\n",
       "\n",
       ".xr-attrs dt {\n",
       "  font-weight: normal;\n",
       "  grid-column: 1;\n",
       "}\n",
       "\n",
       ".xr-attrs dt:hover span {\n",
       "  display: inline-block;\n",
       "  background: var(--xr-background-color);\n",
       "  padding-right: 10px;\n",
       "}\n",
       "\n",
       ".xr-attrs dd {\n",
       "  grid-column: 2;\n",
       "  white-space: pre-wrap;\n",
       "  word-break: break-all;\n",
       "}\n",
       "\n",
       ".xr-icon-database,\n",
       ".xr-icon-file-text2,\n",
       ".xr-no-icon {\n",
       "  display: inline-block;\n",
       "  vertical-align: middle;\n",
       "  width: 1em;\n",
       "  height: 1.5em !important;\n",
       "  stroke-width: 0;\n",
       "  stroke: currentColor;\n",
       "  fill: currentColor;\n",
       "}\n",
       "</style><pre class='xr-text-repr-fallback'>&lt;xarray.Dataset&gt;\n",
       "Dimensions:         (t: 1, z: 40, y: 898, x: 398)\n",
       "Dimensions without coordinates: t, z, y, x\n",
       "Data variables: (12/104)\n",
       "    tn              (t, z, y, x) float64 ...\n",
       "    sn              (t, z, y, x) float64 ...\n",
       "    tb              (t, z, y, x) float64 ...\n",
       "    sb              (t, z, y, x) float64 ...\n",
       "    TRNDON          (t, z, y, x) float64 ...\n",
       "    TRNMICZ         (t, z, y, x) float64 ...\n",
       "    ...              ...\n",
       "    rnf_pis_bSi_b   (t, y, x) float64 ...\n",
       "    rnf_pis_TA_b    (t, y, x) float64 ...\n",
       "    sbc_MICZ_b      (t, y, x) float64 ...\n",
       "    rnf_pis_O2_b    (t, y, x) float64 ...\n",
       "    rnf_pis_TRA_b   (t, y, x) float64 ...\n",
       "    sbc_DIC_b       (t, y, x) float64 ...\n",
       "Attributes:\n",
       "    Conventions:  CF-1.6\n",
       "    title:        All tracers for Bathymetry 202310b from nowcast-green 10aug...\n",
       "    institution:  Dept of Earth, Ocean &amp; Atmospheric Sciences, University of ...\n",
       "    source:       REQUIRED\n",
       "    references:   REQUIRED\n",
       "    history:      [2023-10-29 21:15:55] Created netCDF4 zlib=True dataset.\n",
       "    comment:      All Tracers, physical and biological</pre><div class='xr-wrap' style='display:none'><div class='xr-header'><div class='xr-obj-type'>xarray.Dataset</div></div><ul class='xr-sections'><li class='xr-section-item'><input id='section-afb73d7a-6c90-484a-9cea-850ef0c96047' class='xr-section-summary-in' type='checkbox' disabled ><label for='section-afb73d7a-6c90-484a-9cea-850ef0c96047' class='xr-section-summary'  title='Expand/collapse section'>Dimensions:</label><div class='xr-section-inline-details'><ul class='xr-dim-list'><li><span>t</span>: 1</li><li><span>z</span>: 40</li><li><span>y</span>: 898</li><li><span>x</span>: 398</li></ul></div><div class='xr-section-details'></div></li><li class='xr-section-item'><input id='section-463d2339-7eda-4037-aa8c-ef92519c2177' class='xr-section-summary-in' type='checkbox' disabled ><label for='section-463d2339-7eda-4037-aa8c-ef92519c2177' class='xr-section-summary'  title='Expand/collapse section'>Coordinates: <span>(0)</span></label><div class='xr-section-inline-details'></div><div class='xr-section-details'><ul class='xr-var-list'></ul></div></li><li class='xr-section-item'><input id='section-c8be046a-8ab9-4c32-b6c7-3f0dad3bce12' class='xr-section-summary-in' type='checkbox'  ><label for='section-c8be046a-8ab9-4c32-b6c7-3f0dad3bce12' class='xr-section-summary' >Data variables: <span>(104)</span></label><div class='xr-section-inline-details'></div><div class='xr-section-details'><ul class='xr-var-list'><li class='xr-var-item'><div class='xr-var-name'><span>tn</span></div><div class='xr-var-dims'>(t, z, y, x)</div><div class='xr-var-dtype'>float64</div><div class='xr-var-preview xr-preview'>...</div><input id='attrs-c784e0f6-d99c-412c-87fe-2bee5d27c526' class='xr-var-attrs-in' type='checkbox' disabled><label for='attrs-c784e0f6-d99c-412c-87fe-2bee5d27c526' title='Show/Hide attributes'><svg class='icon xr-icon-file-text2'><use xlink:href='#icon-file-text2'></use></svg></label><input id='data-b5cce0eb-6a0a-40e3-bf04-3bc40186a302' class='xr-var-data-in' type='checkbox'><label for='data-b5cce0eb-6a0a-40e3-bf04-3bc40186a302' title='Show/Hide data repr'><svg class='icon xr-icon-database'><use xlink:href='#icon-database'></use></svg></label><div class='xr-var-attrs'><dl class='xr-attrs'></dl></div><div class='xr-var-data'><pre>[14296160 values with dtype=float64]</pre></div></li><li class='xr-var-item'><div class='xr-var-name'><span>sn</span></div><div class='xr-var-dims'>(t, z, y, x)</div><div class='xr-var-dtype'>float64</div><div class='xr-var-preview xr-preview'>...</div><input id='attrs-c22a9d9e-38a7-42c5-bb75-592d791da645' class='xr-var-attrs-in' type='checkbox' disabled><label for='attrs-c22a9d9e-38a7-42c5-bb75-592d791da645' title='Show/Hide attributes'><svg class='icon xr-icon-file-text2'><use xlink:href='#icon-file-text2'></use></svg></label><input id='data-88170067-f3d6-4938-a1c5-066f82fd60ff' class='xr-var-data-in' type='checkbox'><label for='data-88170067-f3d6-4938-a1c5-066f82fd60ff' title='Show/Hide data repr'><svg class='icon xr-icon-database'><use xlink:href='#icon-database'></use></svg></label><div class='xr-var-attrs'><dl class='xr-attrs'></dl></div><div class='xr-var-data'><pre>[14296160 values with dtype=float64]</pre></div></li><li class='xr-var-item'><div class='xr-var-name'><span>tb</span></div><div class='xr-var-dims'>(t, z, y, x)</div><div class='xr-var-dtype'>float64</div><div class='xr-var-preview xr-preview'>...</div><input id='attrs-826b3d91-4b11-4efc-82ce-2dca440178b6' class='xr-var-attrs-in' type='checkbox' disabled><label for='attrs-826b3d91-4b11-4efc-82ce-2dca440178b6' title='Show/Hide attributes'><svg class='icon xr-icon-file-text2'><use xlink:href='#icon-file-text2'></use></svg></label><input id='data-08ef142f-fbd2-4d0f-9bd8-666dc4b663b1' class='xr-var-data-in' type='checkbox'><label for='data-08ef142f-fbd2-4d0f-9bd8-666dc4b663b1' title='Show/Hide data repr'><svg class='icon xr-icon-database'><use xlink:href='#icon-database'></use></svg></label><div class='xr-var-attrs'><dl class='xr-attrs'></dl></div><div class='xr-var-data'><pre>[14296160 values with dtype=float64]</pre></div></li><li class='xr-var-item'><div class='xr-var-name'><span>sb</span></div><div class='xr-var-dims'>(t, z, y, x)</div><div class='xr-var-dtype'>float64</div><div class='xr-var-preview xr-preview'>...</div><input id='attrs-8bafcc1d-f7bb-47df-94c7-c7d95776f2b2' class='xr-var-attrs-in' type='checkbox' disabled><label for='attrs-8bafcc1d-f7bb-47df-94c7-c7d95776f2b2' title='Show/Hide attributes'><svg class='icon xr-icon-file-text2'><use xlink:href='#icon-file-text2'></use></svg></label><input id='data-f82473c9-6b13-4725-ac93-2eaa0bc59bb4' class='xr-var-data-in' type='checkbox'><label for='data-f82473c9-6b13-4725-ac93-2eaa0bc59bb4' title='Show/Hide data repr'><svg class='icon xr-icon-database'><use xlink:href='#icon-database'></use></svg></label><div class='xr-var-attrs'><dl class='xr-attrs'></dl></div><div class='xr-var-data'><pre>[14296160 values with dtype=float64]</pre></div></li><li class='xr-var-item'><div class='xr-var-name'><span>TRNDON</span></div><div class='xr-var-dims'>(t, z, y, x)</div><div class='xr-var-dtype'>float64</div><div class='xr-var-preview xr-preview'>...</div><input id='attrs-48cba4be-e99f-4cac-90ef-0d8c5837c984' class='xr-var-attrs-in' type='checkbox' disabled><label for='attrs-48cba4be-e99f-4cac-90ef-0d8c5837c984' title='Show/Hide attributes'><svg class='icon xr-icon-file-text2'><use xlink:href='#icon-file-text2'></use></svg></label><input id='data-43b61d1d-90a6-462a-9396-22684785618c' class='xr-var-data-in' type='checkbox'><label for='data-43b61d1d-90a6-462a-9396-22684785618c' title='Show/Hide data repr'><svg class='icon xr-icon-database'><use xlink:href='#icon-database'></use></svg></label><div class='xr-var-attrs'><dl class='xr-attrs'></dl></div><div class='xr-var-data'><pre>[14296160 values with dtype=float64]</pre></div></li><li class='xr-var-item'><div class='xr-var-name'><span>TRNMICZ</span></div><div class='xr-var-dims'>(t, z, y, x)</div><div class='xr-var-dtype'>float64</div><div class='xr-var-preview xr-preview'>...</div><input id='attrs-cd6d0447-1376-4a87-b73a-0189255640df' class='xr-var-attrs-in' type='checkbox' disabled><label for='attrs-cd6d0447-1376-4a87-b73a-0189255640df' title='Show/Hide attributes'><svg class='icon xr-icon-file-text2'><use xlink:href='#icon-file-text2'></use></svg></label><input id='data-ce3ab10c-d998-40f1-921f-8d92728084c9' class='xr-var-data-in' type='checkbox'><label for='data-ce3ab10c-d998-40f1-921f-8d92728084c9' title='Show/Hide data repr'><svg class='icon xr-icon-database'><use xlink:href='#icon-database'></use></svg></label><div class='xr-var-attrs'><dl class='xr-attrs'></dl></div><div class='xr-var-data'><pre>[14296160 values with dtype=float64]</pre></div></li><li class='xr-var-item'><div class='xr-var-name'><span>TRNMYRI</span></div><div class='xr-var-dims'>(t, z, y, x)</div><div class='xr-var-dtype'>float64</div><div class='xr-var-preview xr-preview'>...</div><input id='attrs-1dc76ecc-ddc0-47ec-a1b4-2ea09512cd63' class='xr-var-attrs-in' type='checkbox' disabled><label for='attrs-1dc76ecc-ddc0-47ec-a1b4-2ea09512cd63' title='Show/Hide attributes'><svg class='icon xr-icon-file-text2'><use xlink:href='#icon-file-text2'></use></svg></label><input id='data-7092fa35-a7b0-4c6b-97d8-106ed61d7f69' class='xr-var-data-in' type='checkbox'><label for='data-7092fa35-a7b0-4c6b-97d8-106ed61d7f69' title='Show/Hide data repr'><svg class='icon xr-icon-database'><use xlink:href='#icon-database'></use></svg></label><div class='xr-var-attrs'><dl class='xr-attrs'></dl></div><div class='xr-var-data'><pre>[14296160 values with dtype=float64]</pre></div></li><li class='xr-var-item'><div class='xr-var-name'><span>TRNNH4</span></div><div class='xr-var-dims'>(t, z, y, x)</div><div class='xr-var-dtype'>float64</div><div class='xr-var-preview xr-preview'>...</div><input id='attrs-fbc9c60d-eb13-4c78-ba7b-0253ede3a27f' class='xr-var-attrs-in' type='checkbox' disabled><label for='attrs-fbc9c60d-eb13-4c78-ba7b-0253ede3a27f' title='Show/Hide attributes'><svg class='icon xr-icon-file-text2'><use xlink:href='#icon-file-text2'></use></svg></label><input id='data-ca029ad9-e8e0-4fc9-8331-d7ca062482cd' class='xr-var-data-in' type='checkbox'><label for='data-ca029ad9-e8e0-4fc9-8331-d7ca062482cd' title='Show/Hide data repr'><svg class='icon xr-icon-database'><use xlink:href='#icon-database'></use></svg></label><div class='xr-var-attrs'><dl class='xr-attrs'></dl></div><div class='xr-var-data'><pre>[14296160 values with dtype=float64]</pre></div></li><li class='xr-var-item'><div class='xr-var-name'><span>TRNNO3</span></div><div class='xr-var-dims'>(t, z, y, x)</div><div class='xr-var-dtype'>float64</div><div class='xr-var-preview xr-preview'>...</div><input id='attrs-3c8f70a3-2099-407c-99ff-b8d87c0f682d' class='xr-var-attrs-in' type='checkbox' disabled><label for='attrs-3c8f70a3-2099-407c-99ff-b8d87c0f682d' title='Show/Hide attributes'><svg class='icon xr-icon-file-text2'><use xlink:href='#icon-file-text2'></use></svg></label><input id='data-31652281-4535-40d3-a444-13a0dad0fdfe' class='xr-var-data-in' type='checkbox'><label for='data-31652281-4535-40d3-a444-13a0dad0fdfe' title='Show/Hide data repr'><svg class='icon xr-icon-database'><use xlink:href='#icon-database'></use></svg></label><div class='xr-var-attrs'><dl class='xr-attrs'></dl></div><div class='xr-var-data'><pre>[14296160 values with dtype=float64]</pre></div></li><li class='xr-var-item'><div class='xr-var-name'><span>TRNTRA</span></div><div class='xr-var-dims'>(t, z, y, x)</div><div class='xr-var-dtype'>float64</div><div class='xr-var-preview xr-preview'>...</div><input id='attrs-b98340e4-1330-4f35-a2df-ab4b8441e35c' class='xr-var-attrs-in' type='checkbox' disabled><label for='attrs-b98340e4-1330-4f35-a2df-ab4b8441e35c' title='Show/Hide attributes'><svg class='icon xr-icon-file-text2'><use xlink:href='#icon-file-text2'></use></svg></label><input id='data-bc9eb19e-2930-495a-9efb-faa9dc0d3cd1' class='xr-var-data-in' type='checkbox'><label for='data-bc9eb19e-2930-495a-9efb-faa9dc0d3cd1' title='Show/Hide data repr'><svg class='icon xr-icon-database'><use xlink:href='#icon-database'></use></svg></label><div class='xr-var-attrs'><dl class='xr-attrs'></dl></div><div class='xr-var-data'><pre>[14296160 values with dtype=float64]</pre></div></li><li class='xr-var-item'><div class='xr-var-name'><span>TRNPHY</span></div><div class='xr-var-dims'>(t, z, y, x)</div><div class='xr-var-dtype'>float64</div><div class='xr-var-preview xr-preview'>...</div><input id='attrs-f9ea995f-645a-407d-bcf2-24534c3612cc' class='xr-var-attrs-in' type='checkbox' disabled><label for='attrs-f9ea995f-645a-407d-bcf2-24534c3612cc' title='Show/Hide attributes'><svg class='icon xr-icon-file-text2'><use xlink:href='#icon-file-text2'></use></svg></label><input id='data-e351d62b-2a6d-45c5-9229-442481d9fa45' class='xr-var-data-in' type='checkbox'><label for='data-e351d62b-2a6d-45c5-9229-442481d9fa45' title='Show/Hide data repr'><svg class='icon xr-icon-database'><use xlink:href='#icon-database'></use></svg></label><div class='xr-var-attrs'><dl class='xr-attrs'></dl></div><div class='xr-var-data'><pre>[14296160 values with dtype=float64]</pre></div></li><li class='xr-var-item'><div class='xr-var-name'><span>TRNDIAT</span></div><div class='xr-var-dims'>(t, z, y, x)</div><div class='xr-var-dtype'>float64</div><div class='xr-var-preview xr-preview'>...</div><input id='attrs-4e125e32-42b4-40c0-89dc-19cbd75a8fe6' class='xr-var-attrs-in' type='checkbox' disabled><label for='attrs-4e125e32-42b4-40c0-89dc-19cbd75a8fe6' title='Show/Hide attributes'><svg class='icon xr-icon-file-text2'><use xlink:href='#icon-file-text2'></use></svg></label><input id='data-287ad732-bbe3-44d7-87d0-bb9ced257e7b' class='xr-var-data-in' type='checkbox'><label for='data-287ad732-bbe3-44d7-87d0-bb9ced257e7b' title='Show/Hide data repr'><svg class='icon xr-icon-database'><use xlink:href='#icon-database'></use></svg></label><div class='xr-var-attrs'><dl class='xr-attrs'></dl></div><div class='xr-var-data'><pre>[14296160 values with dtype=float64]</pre></div></li><li class='xr-var-item'><div class='xr-var-name'><span>TRNPON</span></div><div class='xr-var-dims'>(t, z, y, x)</div><div class='xr-var-dtype'>float64</div><div class='xr-var-preview xr-preview'>...</div><input id='attrs-da255ee2-7239-492c-9676-ae6f5f7e8d29' class='xr-var-attrs-in' type='checkbox' disabled><label for='attrs-da255ee2-7239-492c-9676-ae6f5f7e8d29' title='Show/Hide attributes'><svg class='icon xr-icon-file-text2'><use xlink:href='#icon-file-text2'></use></svg></label><input id='data-c96d49b8-d846-4a88-979f-01ad8436402e' class='xr-var-data-in' type='checkbox'><label for='data-c96d49b8-d846-4a88-979f-01ad8436402e' title='Show/Hide data repr'><svg class='icon xr-icon-database'><use xlink:href='#icon-database'></use></svg></label><div class='xr-var-attrs'><dl class='xr-attrs'></dl></div><div class='xr-var-data'><pre>[14296160 values with dtype=float64]</pre></div></li><li class='xr-var-item'><div class='xr-var-name'><span>TRNSi</span></div><div class='xr-var-dims'>(t, z, y, x)</div><div class='xr-var-dtype'>float64</div><div class='xr-var-preview xr-preview'>...</div><input id='attrs-b6e2580e-1e9b-423d-b322-3774e16e0979' class='xr-var-attrs-in' type='checkbox' disabled><label for='attrs-b6e2580e-1e9b-423d-b322-3774e16e0979' title='Show/Hide attributes'><svg class='icon xr-icon-file-text2'><use xlink:href='#icon-file-text2'></use></svg></label><input id='data-9a282b0e-2543-46d3-8f1d-386426c32ccf' class='xr-var-data-in' type='checkbox'><label for='data-9a282b0e-2543-46d3-8f1d-386426c32ccf' title='Show/Hide data repr'><svg class='icon xr-icon-database'><use xlink:href='#icon-database'></use></svg></label><div class='xr-var-attrs'><dl class='xr-attrs'></dl></div><div class='xr-var-data'><pre>[14296160 values with dtype=float64]</pre></div></li><li class='xr-var-item'><div class='xr-var-name'><span>TRNbSi</span></div><div class='xr-var-dims'>(t, z, y, x)</div><div class='xr-var-dtype'>float64</div><div class='xr-var-preview xr-preview'>...</div><input id='attrs-62809ff0-bdfe-4000-90d8-9493e338d48a' class='xr-var-attrs-in' type='checkbox' disabled><label for='attrs-62809ff0-bdfe-4000-90d8-9493e338d48a' title='Show/Hide attributes'><svg class='icon xr-icon-file-text2'><use xlink:href='#icon-file-text2'></use></svg></label><input id='data-b7927470-a92c-4611-b5c4-55af33aaf5b9' class='xr-var-data-in' type='checkbox'><label for='data-b7927470-a92c-4611-b5c4-55af33aaf5b9' title='Show/Hide data repr'><svg class='icon xr-icon-database'><use xlink:href='#icon-database'></use></svg></label><div class='xr-var-attrs'><dl class='xr-attrs'></dl></div><div class='xr-var-data'><pre>[14296160 values with dtype=float64]</pre></div></li><li class='xr-var-item'><div class='xr-var-name'><span>TRNDIC</span></div><div class='xr-var-dims'>(t, z, y, x)</div><div class='xr-var-dtype'>float64</div><div class='xr-var-preview xr-preview'>...</div><input id='attrs-f15fbce4-ccd9-47ff-b066-84bbafba98a1' class='xr-var-attrs-in' type='checkbox' disabled><label for='attrs-f15fbce4-ccd9-47ff-b066-84bbafba98a1' title='Show/Hide attributes'><svg class='icon xr-icon-file-text2'><use xlink:href='#icon-file-text2'></use></svg></label><input id='data-eba98503-c1a0-4894-84cf-81358bbe43d6' class='xr-var-data-in' type='checkbox'><label for='data-eba98503-c1a0-4894-84cf-81358bbe43d6' title='Show/Hide data repr'><svg class='icon xr-icon-database'><use xlink:href='#icon-database'></use></svg></label><div class='xr-var-attrs'><dl class='xr-attrs'></dl></div><div class='xr-var-data'><pre>[14296160 values with dtype=float64]</pre></div></li><li class='xr-var-item'><div class='xr-var-name'><span>TRNTA</span></div><div class='xr-var-dims'>(t, z, y, x)</div><div class='xr-var-dtype'>float64</div><div class='xr-var-preview xr-preview'>...</div><input id='attrs-d899f9e5-da38-4e88-b5a9-ab39e84c37e7' class='xr-var-attrs-in' type='checkbox' disabled><label for='attrs-d899f9e5-da38-4e88-b5a9-ab39e84c37e7' title='Show/Hide attributes'><svg class='icon xr-icon-file-text2'><use xlink:href='#icon-file-text2'></use></svg></label><input id='data-59d51a3a-9218-49d0-9be0-81d4015d31c3' class='xr-var-data-in' type='checkbox'><label for='data-59d51a3a-9218-49d0-9be0-81d4015d31c3' title='Show/Hide data repr'><svg class='icon xr-icon-database'><use xlink:href='#icon-database'></use></svg></label><div class='xr-var-attrs'><dl class='xr-attrs'></dl></div><div class='xr-var-data'><pre>[14296160 values with dtype=float64]</pre></div></li><li class='xr-var-item'><div class='xr-var-name'><span>TRNO2</span></div><div class='xr-var-dims'>(t, z, y, x)</div><div class='xr-var-dtype'>float64</div><div class='xr-var-preview xr-preview'>...</div><input id='attrs-93fe068a-8364-436a-aff0-cdb53d1d06e3' class='xr-var-attrs-in' type='checkbox' disabled><label for='attrs-93fe068a-8364-436a-aff0-cdb53d1d06e3' title='Show/Hide attributes'><svg class='icon xr-icon-file-text2'><use xlink:href='#icon-file-text2'></use></svg></label><input id='data-e598e1f6-72c4-48eb-b317-277b0b69cd54' class='xr-var-data-in' type='checkbox'><label for='data-e598e1f6-72c4-48eb-b317-277b0b69cd54' title='Show/Hide data repr'><svg class='icon xr-icon-database'><use xlink:href='#icon-database'></use></svg></label><div class='xr-var-attrs'><dl class='xr-attrs'></dl></div><div class='xr-var-data'><pre>[14296160 values with dtype=float64]</pre></div></li><li class='xr-var-item'><div class='xr-var-name'><span>TRBDON</span></div><div class='xr-var-dims'>(t, z, y, x)</div><div class='xr-var-dtype'>float64</div><div class='xr-var-preview xr-preview'>...</div><input id='attrs-00801033-626b-44b5-9375-df0bf7824eb5' class='xr-var-attrs-in' type='checkbox' disabled><label for='attrs-00801033-626b-44b5-9375-df0bf7824eb5' title='Show/Hide attributes'><svg class='icon xr-icon-file-text2'><use xlink:href='#icon-file-text2'></use></svg></label><input id='data-cad5f2b9-c2ee-4808-95cc-bf70d3a6cb19' class='xr-var-data-in' type='checkbox'><label for='data-cad5f2b9-c2ee-4808-95cc-bf70d3a6cb19' title='Show/Hide data repr'><svg class='icon xr-icon-database'><use xlink:href='#icon-database'></use></svg></label><div class='xr-var-attrs'><dl class='xr-attrs'></dl></div><div class='xr-var-data'><pre>[14296160 values with dtype=float64]</pre></div></li><li class='xr-var-item'><div class='xr-var-name'><span>TRBMICZ</span></div><div class='xr-var-dims'>(t, z, y, x)</div><div class='xr-var-dtype'>float64</div><div class='xr-var-preview xr-preview'>...</div><input id='attrs-f97bc5d9-72e2-4adb-a230-d186d2a0e796' class='xr-var-attrs-in' type='checkbox' disabled><label for='attrs-f97bc5d9-72e2-4adb-a230-d186d2a0e796' title='Show/Hide attributes'><svg class='icon xr-icon-file-text2'><use xlink:href='#icon-file-text2'></use></svg></label><input id='data-4e1e8718-0868-4865-8f54-573077b31310' class='xr-var-data-in' type='checkbox'><label for='data-4e1e8718-0868-4865-8f54-573077b31310' title='Show/Hide data repr'><svg class='icon xr-icon-database'><use xlink:href='#icon-database'></use></svg></label><div class='xr-var-attrs'><dl class='xr-attrs'></dl></div><div class='xr-var-data'><pre>[14296160 values with dtype=float64]</pre></div></li><li class='xr-var-item'><div class='xr-var-name'><span>TRBMYRI</span></div><div class='xr-var-dims'>(t, z, y, x)</div><div class='xr-var-dtype'>float64</div><div class='xr-var-preview xr-preview'>...</div><input id='attrs-569682ad-7eb5-423e-b797-8125dc9cfd1f' class='xr-var-attrs-in' type='checkbox' disabled><label for='attrs-569682ad-7eb5-423e-b797-8125dc9cfd1f' title='Show/Hide attributes'><svg class='icon xr-icon-file-text2'><use xlink:href='#icon-file-text2'></use></svg></label><input id='data-8479caac-fd12-428c-a075-14f39f82d142' class='xr-var-data-in' type='checkbox'><label for='data-8479caac-fd12-428c-a075-14f39f82d142' title='Show/Hide data repr'><svg class='icon xr-icon-database'><use xlink:href='#icon-database'></use></svg></label><div class='xr-var-attrs'><dl class='xr-attrs'></dl></div><div class='xr-var-data'><pre>[14296160 values with dtype=float64]</pre></div></li><li class='xr-var-item'><div class='xr-var-name'><span>TRBNH4</span></div><div class='xr-var-dims'>(t, z, y, x)</div><div class='xr-var-dtype'>float64</div><div class='xr-var-preview xr-preview'>...</div><input id='attrs-2bfaace6-a037-4842-9ceb-07f2948ecf2c' class='xr-var-attrs-in' type='checkbox' disabled><label for='attrs-2bfaace6-a037-4842-9ceb-07f2948ecf2c' title='Show/Hide attributes'><svg class='icon xr-icon-file-text2'><use xlink:href='#icon-file-text2'></use></svg></label><input id='data-e170b158-d756-4ffd-8f31-e1f586e91d6c' class='xr-var-data-in' type='checkbox'><label for='data-e170b158-d756-4ffd-8f31-e1f586e91d6c' title='Show/Hide data repr'><svg class='icon xr-icon-database'><use xlink:href='#icon-database'></use></svg></label><div class='xr-var-attrs'><dl class='xr-attrs'></dl></div><div class='xr-var-data'><pre>[14296160 values with dtype=float64]</pre></div></li><li class='xr-var-item'><div class='xr-var-name'><span>TRBNO3</span></div><div class='xr-var-dims'>(t, z, y, x)</div><div class='xr-var-dtype'>float64</div><div class='xr-var-preview xr-preview'>...</div><input id='attrs-c2a1f8a1-0898-451d-8196-cf8881ab02a4' class='xr-var-attrs-in' type='checkbox' disabled><label for='attrs-c2a1f8a1-0898-451d-8196-cf8881ab02a4' title='Show/Hide attributes'><svg class='icon xr-icon-file-text2'><use xlink:href='#icon-file-text2'></use></svg></label><input id='data-aba18eca-18ce-4cc8-b95b-47740f7cbaa7' class='xr-var-data-in' type='checkbox'><label for='data-aba18eca-18ce-4cc8-b95b-47740f7cbaa7' title='Show/Hide data repr'><svg class='icon xr-icon-database'><use xlink:href='#icon-database'></use></svg></label><div class='xr-var-attrs'><dl class='xr-attrs'></dl></div><div class='xr-var-data'><pre>[14296160 values with dtype=float64]</pre></div></li><li class='xr-var-item'><div class='xr-var-name'><span>TRBTRA</span></div><div class='xr-var-dims'>(t, z, y, x)</div><div class='xr-var-dtype'>float64</div><div class='xr-var-preview xr-preview'>...</div><input id='attrs-ab906ee7-0122-4516-ab38-d7dccfb3b683' class='xr-var-attrs-in' type='checkbox' disabled><label for='attrs-ab906ee7-0122-4516-ab38-d7dccfb3b683' title='Show/Hide attributes'><svg class='icon xr-icon-file-text2'><use xlink:href='#icon-file-text2'></use></svg></label><input id='data-2ae7016f-de89-41dd-afe5-07b657fa49eb' class='xr-var-data-in' type='checkbox'><label for='data-2ae7016f-de89-41dd-afe5-07b657fa49eb' title='Show/Hide data repr'><svg class='icon xr-icon-database'><use xlink:href='#icon-database'></use></svg></label><div class='xr-var-attrs'><dl class='xr-attrs'></dl></div><div class='xr-var-data'><pre>[14296160 values with dtype=float64]</pre></div></li><li class='xr-var-item'><div class='xr-var-name'><span>TRBPHY</span></div><div class='xr-var-dims'>(t, z, y, x)</div><div class='xr-var-dtype'>float64</div><div class='xr-var-preview xr-preview'>...</div><input id='attrs-fd3f2a17-7b0b-4249-bc8e-19e8aeb8ee03' class='xr-var-attrs-in' type='checkbox' disabled><label for='attrs-fd3f2a17-7b0b-4249-bc8e-19e8aeb8ee03' title='Show/Hide attributes'><svg class='icon xr-icon-file-text2'><use xlink:href='#icon-file-text2'></use></svg></label><input id='data-d34e33af-135f-41ee-8b9b-00cd4f288f4f' class='xr-var-data-in' type='checkbox'><label for='data-d34e33af-135f-41ee-8b9b-00cd4f288f4f' title='Show/Hide data repr'><svg class='icon xr-icon-database'><use xlink:href='#icon-database'></use></svg></label><div class='xr-var-attrs'><dl class='xr-attrs'></dl></div><div class='xr-var-data'><pre>[14296160 values with dtype=float64]</pre></div></li><li class='xr-var-item'><div class='xr-var-name'><span>TRBDIAT</span></div><div class='xr-var-dims'>(t, z, y, x)</div><div class='xr-var-dtype'>float64</div><div class='xr-var-preview xr-preview'>...</div><input id='attrs-5006e69e-d246-4d7a-ba35-bc7cef39a68a' class='xr-var-attrs-in' type='checkbox' disabled><label for='attrs-5006e69e-d246-4d7a-ba35-bc7cef39a68a' title='Show/Hide attributes'><svg class='icon xr-icon-file-text2'><use xlink:href='#icon-file-text2'></use></svg></label><input id='data-aacc74b6-cdda-40ce-8d43-0352333ea3ed' class='xr-var-data-in' type='checkbox'><label for='data-aacc74b6-cdda-40ce-8d43-0352333ea3ed' title='Show/Hide data repr'><svg class='icon xr-icon-database'><use xlink:href='#icon-database'></use></svg></label><div class='xr-var-attrs'><dl class='xr-attrs'></dl></div><div class='xr-var-data'><pre>[14296160 values with dtype=float64]</pre></div></li><li class='xr-var-item'><div class='xr-var-name'><span>TRBPON</span></div><div class='xr-var-dims'>(t, z, y, x)</div><div class='xr-var-dtype'>float64</div><div class='xr-var-preview xr-preview'>...</div><input id='attrs-b8a2b90d-b81d-459c-a1ff-5177ea1b3941' class='xr-var-attrs-in' type='checkbox' disabled><label for='attrs-b8a2b90d-b81d-459c-a1ff-5177ea1b3941' title='Show/Hide attributes'><svg class='icon xr-icon-file-text2'><use xlink:href='#icon-file-text2'></use></svg></label><input id='data-b2cb889b-98f3-4cb4-bbd9-adbe5ed6b348' class='xr-var-data-in' type='checkbox'><label for='data-b2cb889b-98f3-4cb4-bbd9-adbe5ed6b348' title='Show/Hide data repr'><svg class='icon xr-icon-database'><use xlink:href='#icon-database'></use></svg></label><div class='xr-var-attrs'><dl class='xr-attrs'></dl></div><div class='xr-var-data'><pre>[14296160 values with dtype=float64]</pre></div></li><li class='xr-var-item'><div class='xr-var-name'><span>TRBSi</span></div><div class='xr-var-dims'>(t, z, y, x)</div><div class='xr-var-dtype'>float64</div><div class='xr-var-preview xr-preview'>...</div><input id='attrs-5cc2adc0-0df7-4b32-a437-2c2b0ad56d2d' class='xr-var-attrs-in' type='checkbox' disabled><label for='attrs-5cc2adc0-0df7-4b32-a437-2c2b0ad56d2d' title='Show/Hide attributes'><svg class='icon xr-icon-file-text2'><use xlink:href='#icon-file-text2'></use></svg></label><input id='data-7b858929-7ea3-4b0d-a501-eb0e26366ca2' class='xr-var-data-in' type='checkbox'><label for='data-7b858929-7ea3-4b0d-a501-eb0e26366ca2' title='Show/Hide data repr'><svg class='icon xr-icon-database'><use xlink:href='#icon-database'></use></svg></label><div class='xr-var-attrs'><dl class='xr-attrs'></dl></div><div class='xr-var-data'><pre>[14296160 values with dtype=float64]</pre></div></li><li class='xr-var-item'><div class='xr-var-name'><span>TRBbSi</span></div><div class='xr-var-dims'>(t, z, y, x)</div><div class='xr-var-dtype'>float64</div><div class='xr-var-preview xr-preview'>...</div><input id='attrs-60fedd3a-7d16-46a6-bd40-abf078ca27b2' class='xr-var-attrs-in' type='checkbox' disabled><label for='attrs-60fedd3a-7d16-46a6-bd40-abf078ca27b2' title='Show/Hide attributes'><svg class='icon xr-icon-file-text2'><use xlink:href='#icon-file-text2'></use></svg></label><input id='data-6398e678-9397-44dd-9021-3947f4e46229' class='xr-var-data-in' type='checkbox'><label for='data-6398e678-9397-44dd-9021-3947f4e46229' title='Show/Hide data repr'><svg class='icon xr-icon-database'><use xlink:href='#icon-database'></use></svg></label><div class='xr-var-attrs'><dl class='xr-attrs'></dl></div><div class='xr-var-data'><pre>[14296160 values with dtype=float64]</pre></div></li><li class='xr-var-item'><div class='xr-var-name'><span>TRBDIC</span></div><div class='xr-var-dims'>(t, z, y, x)</div><div class='xr-var-dtype'>float64</div><div class='xr-var-preview xr-preview'>...</div><input id='attrs-bb3effb7-3d61-4ed3-bf55-f4292855712f' class='xr-var-attrs-in' type='checkbox' disabled><label for='attrs-bb3effb7-3d61-4ed3-bf55-f4292855712f' title='Show/Hide attributes'><svg class='icon xr-icon-file-text2'><use xlink:href='#icon-file-text2'></use></svg></label><input id='data-6b3378b6-40dc-4f0f-84fe-487f83719236' class='xr-var-data-in' type='checkbox'><label for='data-6b3378b6-40dc-4f0f-84fe-487f83719236' title='Show/Hide data repr'><svg class='icon xr-icon-database'><use xlink:href='#icon-database'></use></svg></label><div class='xr-var-attrs'><dl class='xr-attrs'></dl></div><div class='xr-var-data'><pre>[14296160 values with dtype=float64]</pre></div></li><li class='xr-var-item'><div class='xr-var-name'><span>TRBTA</span></div><div class='xr-var-dims'>(t, z, y, x)</div><div class='xr-var-dtype'>float64</div><div class='xr-var-preview xr-preview'>...</div><input id='attrs-4f129b74-07f4-438d-8d05-242fb1077abf' class='xr-var-attrs-in' type='checkbox' disabled><label for='attrs-4f129b74-07f4-438d-8d05-242fb1077abf' title='Show/Hide attributes'><svg class='icon xr-icon-file-text2'><use xlink:href='#icon-file-text2'></use></svg></label><input id='data-4c3f85a8-ce8e-4a25-9808-8be0c0e3e3a8' class='xr-var-data-in' type='checkbox'><label for='data-4c3f85a8-ce8e-4a25-9808-8be0c0e3e3a8' title='Show/Hide data repr'><svg class='icon xr-icon-database'><use xlink:href='#icon-database'></use></svg></label><div class='xr-var-attrs'><dl class='xr-attrs'></dl></div><div class='xr-var-data'><pre>[14296160 values with dtype=float64]</pre></div></li><li class='xr-var-item'><div class='xr-var-name'><span>TRBO2</span></div><div class='xr-var-dims'>(t, z, y, x)</div><div class='xr-var-dtype'>float64</div><div class='xr-var-preview xr-preview'>...</div><input id='attrs-f8fd8e5b-acf9-47a2-b9ad-dca4c5553d7a' class='xr-var-attrs-in' type='checkbox' disabled><label for='attrs-f8fd8e5b-acf9-47a2-b9ad-dca4c5553d7a' title='Show/Hide attributes'><svg class='icon xr-icon-file-text2'><use xlink:href='#icon-file-text2'></use></svg></label><input id='data-c2d15a5b-48f0-4ddc-b05f-54782a2982ba' class='xr-var-data-in' type='checkbox'><label for='data-c2d15a5b-48f0-4ddc-b05f-54782a2982ba' title='Show/Hide data repr'><svg class='icon xr-icon-database'><use xlink:href='#icon-database'></use></svg></label><div class='xr-var-attrs'><dl class='xr-attrs'></dl></div><div class='xr-var-data'><pre>[14296160 values with dtype=float64]</pre></div></li><li class='xr-var-item'><div class='xr-var-name'><span>rnf_hc_b</span></div><div class='xr-var-dims'>(t, y, x)</div><div class='xr-var-dtype'>float64</div><div class='xr-var-preview xr-preview'>...</div><input id='attrs-cebf4369-2c4b-4b3b-9af2-f5f0b9506499' class='xr-var-attrs-in' type='checkbox' disabled><label for='attrs-cebf4369-2c4b-4b3b-9af2-f5f0b9506499' title='Show/Hide attributes'><svg class='icon xr-icon-file-text2'><use xlink:href='#icon-file-text2'></use></svg></label><input id='data-a67cb4b3-9101-4426-ad59-5f0bbb7c588c' class='xr-var-data-in' type='checkbox'><label for='data-a67cb4b3-9101-4426-ad59-5f0bbb7c588c' title='Show/Hide data repr'><svg class='icon xr-icon-database'><use xlink:href='#icon-database'></use></svg></label><div class='xr-var-attrs'><dl class='xr-attrs'></dl></div><div class='xr-var-data'><pre>[357404 values with dtype=float64]</pre></div></li><li class='xr-var-item'><div class='xr-var-name'><span>rhop</span></div><div class='xr-var-dims'>(t, z, y, x)</div><div class='xr-var-dtype'>float64</div><div class='xr-var-preview xr-preview'>...</div><input id='attrs-1157928a-93fe-4f57-8b42-49f04de5b5dd' class='xr-var-attrs-in' type='checkbox' disabled><label for='attrs-1157928a-93fe-4f57-8b42-49f04de5b5dd' title='Show/Hide attributes'><svg class='icon xr-icon-file-text2'><use xlink:href='#icon-file-text2'></use></svg></label><input id='data-d4cc71e4-260a-4b4a-a143-4908aca1ea2a' class='xr-var-data-in' type='checkbox'><label for='data-d4cc71e4-260a-4b4a-a143-4908aca1ea2a' title='Show/Hide data repr'><svg class='icon xr-icon-database'><use xlink:href='#icon-database'></use></svg></label><div class='xr-var-attrs'><dl class='xr-attrs'></dl></div><div class='xr-var-data'><pre>[14296160 values with dtype=float64]</pre></div></li><li class='xr-var-item'><div class='xr-var-name'><span>en</span></div><div class='xr-var-dims'>(t, z, y, x)</div><div class='xr-var-dtype'>float64</div><div class='xr-var-preview xr-preview'>...</div><input id='attrs-2c757135-02c6-44c1-8264-05027f5c5dc8' class='xr-var-attrs-in' type='checkbox' disabled><label for='attrs-2c757135-02c6-44c1-8264-05027f5c5dc8' title='Show/Hide attributes'><svg class='icon xr-icon-file-text2'><use xlink:href='#icon-file-text2'></use></svg></label><input id='data-74947eb0-9315-4634-b2ee-f5cccd38bb5e' class='xr-var-data-in' type='checkbox'><label for='data-74947eb0-9315-4634-b2ee-f5cccd38bb5e' title='Show/Hide data repr'><svg class='icon xr-icon-database'><use xlink:href='#icon-database'></use></svg></label><div class='xr-var-attrs'><dl class='xr-attrs'></dl></div><div class='xr-var-data'><pre>[14296160 values with dtype=float64]</pre></div></li><li class='xr-var-item'><div class='xr-var-name'><span>adatrj</span></div><div class='xr-var-dims'>()</div><div class='xr-var-dtype'>float64</div><div class='xr-var-preview xr-preview'>...</div><input id='attrs-1fe16c9c-e56a-41c2-b812-31a6741f098d' class='xr-var-attrs-in' type='checkbox' disabled><label for='attrs-1fe16c9c-e56a-41c2-b812-31a6741f098d' title='Show/Hide attributes'><svg class='icon xr-icon-file-text2'><use xlink:href='#icon-file-text2'></use></svg></label><input id='data-6a523d91-5659-4195-ab51-bfefb9210cf3' class='xr-var-data-in' type='checkbox'><label for='data-6a523d91-5659-4195-ab51-bfefb9210cf3' title='Show/Hide data repr'><svg class='icon xr-icon-database'><use xlink:href='#icon-database'></use></svg></label><div class='xr-var-attrs'><dl class='xr-attrs'></dl></div><div class='xr-var-data'><pre>[1 values with dtype=float64]</pre></div></li><li class='xr-var-item'><div class='xr-var-name'><span>nav_lev</span></div><div class='xr-var-dims'>(z)</div><div class='xr-var-dtype'>float32</div><div class='xr-var-preview xr-preview'>...</div><input id='attrs-0d2be366-7eb2-4695-9798-6504d5a2d307' class='xr-var-attrs-in' type='checkbox' disabled><label for='attrs-0d2be366-7eb2-4695-9798-6504d5a2d307' title='Show/Hide attributes'><svg class='icon xr-icon-file-text2'><use xlink:href='#icon-file-text2'></use></svg></label><input id='data-6885527e-afbb-43e0-ab17-869e083c4ff7' class='xr-var-data-in' type='checkbox'><label for='data-6885527e-afbb-43e0-ab17-869e083c4ff7' title='Show/Hide data repr'><svg class='icon xr-icon-database'><use xlink:href='#icon-database'></use></svg></label><div class='xr-var-attrs'><dl class='xr-attrs'></dl></div><div class='xr-var-data'><pre>[40 values with dtype=float32]</pre></div></li><li class='xr-var-item'><div class='xr-var-name'><span>sfx_b</span></div><div class='xr-var-dims'>(t, y, x)</div><div class='xr-var-dtype'>float64</div><div class='xr-var-preview xr-preview'>...</div><input id='attrs-ff0ba98b-ed5a-4cae-9a3a-593d7530eb26' class='xr-var-attrs-in' type='checkbox' disabled><label for='attrs-ff0ba98b-ed5a-4cae-9a3a-593d7530eb26' title='Show/Hide attributes'><svg class='icon xr-icon-file-text2'><use xlink:href='#icon-file-text2'></use></svg></label><input id='data-63a9414e-7d44-420d-8d20-9c7efca520c3' class='xr-var-data-in' type='checkbox'><label for='data-63a9414e-7d44-420d-8d20-9c7efca520c3' title='Show/Hide data repr'><svg class='icon xr-icon-database'><use xlink:href='#icon-database'></use></svg></label><div class='xr-var-attrs'><dl class='xr-attrs'></dl></div><div class='xr-var-data'><pre>[357404 values with dtype=float64]</pre></div></li><li class='xr-var-item'><div class='xr-var-name'><span>rdttra1</span></div><div class='xr-var-dims'>()</div><div class='xr-var-dtype'>float64</div><div class='xr-var-preview xr-preview'>...</div><input id='attrs-9f103610-750a-47bb-97c4-f232995fd0d5' class='xr-var-attrs-in' type='checkbox' disabled><label for='attrs-9f103610-750a-47bb-97c4-f232995fd0d5' title='Show/Hide attributes'><svg class='icon xr-icon-file-text2'><use xlink:href='#icon-file-text2'></use></svg></label><input id='data-3c3ea531-0eb8-413b-a2fd-44183e210d41' class='xr-var-data-in' type='checkbox'><label for='data-3c3ea531-0eb8-413b-a2fd-44183e210d41' title='Show/Hide data repr'><svg class='icon xr-icon-database'><use xlink:href='#icon-database'></use></svg></label><div class='xr-var-attrs'><dl class='xr-attrs'></dl></div><div class='xr-var-data'><pre>[1 values with dtype=float64]</pre></div></li><li class='xr-var-item'><div class='xr-var-name'><span>sshn</span></div><div class='xr-var-dims'>(t, y, x)</div><div class='xr-var-dtype'>float64</div><div class='xr-var-preview xr-preview'>...</div><input id='attrs-ecdcb0f4-15d8-4ba4-b299-8cd2a755a6fd' class='xr-var-attrs-in' type='checkbox' disabled><label for='attrs-ecdcb0f4-15d8-4ba4-b299-8cd2a755a6fd' title='Show/Hide attributes'><svg class='icon xr-icon-file-text2'><use xlink:href='#icon-file-text2'></use></svg></label><input id='data-550ea77e-04b2-48a9-a9f7-554bb56ecfa4' class='xr-var-data-in' type='checkbox'><label for='data-550ea77e-04b2-48a9-a9f7-554bb56ecfa4' title='Show/Hide data repr'><svg class='icon xr-icon-database'><use xlink:href='#icon-database'></use></svg></label><div class='xr-var-attrs'><dl class='xr-attrs'></dl></div><div class='xr-var-data'><pre>[357404 values with dtype=float64]</pre></div></li><li class='xr-var-item'><div class='xr-var-name'><span>ndastp</span></div><div class='xr-var-dims'>()</div><div class='xr-var-dtype'>float64</div><div class='xr-var-preview xr-preview'>...</div><input id='attrs-36211895-77d4-46cf-be3e-a3dee0f3a04a' class='xr-var-attrs-in' type='checkbox' disabled><label for='attrs-36211895-77d4-46cf-be3e-a3dee0f3a04a' title='Show/Hide attributes'><svg class='icon xr-icon-file-text2'><use xlink:href='#icon-file-text2'></use></svg></label><input id='data-a70bee49-7acc-4627-9886-4e1c8789eabe' class='xr-var-data-in' type='checkbox'><label for='data-a70bee49-7acc-4627-9886-4e1c8789eabe' title='Show/Hide data repr'><svg class='icon xr-icon-database'><use xlink:href='#icon-database'></use></svg></label><div class='xr-var-attrs'><dl class='xr-attrs'></dl></div><div class='xr-var-data'><pre>[1 values with dtype=float64]</pre></div></li><li class='xr-var-item'><div class='xr-var-name'><span>sbc_hc_b</span></div><div class='xr-var-dims'>(t, y, x)</div><div class='xr-var-dtype'>float64</div><div class='xr-var-preview xr-preview'>...</div><input id='attrs-ed0a3f44-623f-4e89-ab0d-c2f26f81ade6' class='xr-var-attrs-in' type='checkbox' disabled><label for='attrs-ed0a3f44-623f-4e89-ab0d-c2f26f81ade6' title='Show/Hide attributes'><svg class='icon xr-icon-file-text2'><use xlink:href='#icon-file-text2'></use></svg></label><input id='data-b99549bf-a996-4128-8e71-f29351a0961a' class='xr-var-data-in' type='checkbox'><label for='data-b99549bf-a996-4128-8e71-f29351a0961a' title='Show/Hide data repr'><svg class='icon xr-icon-database'><use xlink:href='#icon-database'></use></svg></label><div class='xr-var-attrs'><dl class='xr-attrs'></dl></div><div class='xr-var-data'><pre>[357404 values with dtype=float64]</pre></div></li><li class='xr-var-item'><div class='xr-var-name'><span>ub2_b</span></div><div class='xr-var-dims'>(t, y, x)</div><div class='xr-var-dtype'>float64</div><div class='xr-var-preview xr-preview'>...</div><input id='attrs-df5cdfd8-d953-48e3-a429-e7ba21635d4c' class='xr-var-attrs-in' type='checkbox' disabled><label for='attrs-df5cdfd8-d953-48e3-a429-e7ba21635d4c' title='Show/Hide attributes'><svg class='icon xr-icon-file-text2'><use xlink:href='#icon-file-text2'></use></svg></label><input id='data-c7857b3c-ae10-474c-b1c6-29f1ee8a2b3b' class='xr-var-data-in' type='checkbox'><label for='data-c7857b3c-ae10-474c-b1c6-29f1ee8a2b3b' title='Show/Hide data repr'><svg class='icon xr-icon-database'><use xlink:href='#icon-database'></use></svg></label><div class='xr-var-attrs'><dl class='xr-attrs'></dl></div><div class='xr-var-data'><pre>[357404 values with dtype=float64]</pre></div></li><li class='xr-var-item'><div class='xr-var-name'><span>ssh_ibb</span></div><div class='xr-var-dims'>(t, y, x)</div><div class='xr-var-dtype'>float64</div><div class='xr-var-preview xr-preview'>...</div><input id='attrs-1fd6825f-c72e-4012-9487-ddf38f879877' class='xr-var-attrs-in' type='checkbox' disabled><label for='attrs-1fd6825f-c72e-4012-9487-ddf38f879877' title='Show/Hide attributes'><svg class='icon xr-icon-file-text2'><use xlink:href='#icon-file-text2'></use></svg></label><input id='data-08d7585d-1976-4c45-83f9-f74a081a363f' class='xr-var-data-in' type='checkbox'><label for='data-08d7585d-1976-4c45-83f9-f74a081a363f' title='Show/Hide data repr'><svg class='icon xr-icon-database'><use xlink:href='#icon-database'></use></svg></label><div class='xr-var-attrs'><dl class='xr-attrs'></dl></div><div class='xr-var-data'><pre>[357404 values with dtype=float64]</pre></div></li><li class='xr-var-item'><div class='xr-var-name'><span>vn</span></div><div class='xr-var-dims'>(t, z, y, x)</div><div class='xr-var-dtype'>float64</div><div class='xr-var-preview xr-preview'>...</div><input id='attrs-73ba2e14-f989-4739-ae84-126293ed2202' class='xr-var-attrs-in' type='checkbox' disabled><label for='attrs-73ba2e14-f989-4739-ae84-126293ed2202' title='Show/Hide attributes'><svg class='icon xr-icon-file-text2'><use xlink:href='#icon-file-text2'></use></svg></label><input id='data-3e088fbb-f147-40ba-92ea-d102a7cbbb77' class='xr-var-data-in' type='checkbox'><label for='data-3e088fbb-f147-40ba-92ea-d102a7cbbb77' title='Show/Hide data repr'><svg class='icon xr-icon-database'><use xlink:href='#icon-database'></use></svg></label><div class='xr-var-attrs'><dl class='xr-attrs'></dl></div><div class='xr-var-data'><pre>[14296160 values with dtype=float64]</pre></div></li><li class='xr-var-item'><div class='xr-var-name'><span>rdt</span></div><div class='xr-var-dims'>()</div><div class='xr-var-dtype'>float64</div><div class='xr-var-preview xr-preview'>...</div><input id='attrs-3a255b08-de8c-41e8-a2c5-d7657e341bbf' class='xr-var-attrs-in' type='checkbox' disabled><label for='attrs-3a255b08-de8c-41e8-a2c5-d7657e341bbf' title='Show/Hide attributes'><svg class='icon xr-icon-file-text2'><use xlink:href='#icon-file-text2'></use></svg></label><input id='data-cd1cfcf7-cdbc-47c9-ae68-82a995214e2c' class='xr-var-data-in' type='checkbox'><label for='data-cd1cfcf7-cdbc-47c9-ae68-82a995214e2c' title='Show/Hide data repr'><svg class='icon xr-icon-database'><use xlink:href='#icon-database'></use></svg></label><div class='xr-var-attrs'><dl class='xr-attrs'></dl></div><div class='xr-var-data'><pre>[1 values with dtype=float64]</pre></div></li><li class='xr-var-item'><div class='xr-var-name'><span>rotb</span></div><div class='xr-var-dims'>(t, z, y, x)</div><div class='xr-var-dtype'>float64</div><div class='xr-var-preview xr-preview'>...</div><input id='attrs-ff2dbb52-2fb0-4333-a215-56453aadee64' class='xr-var-attrs-in' type='checkbox' disabled><label for='attrs-ff2dbb52-2fb0-4333-a215-56453aadee64' title='Show/Hide attributes'><svg class='icon xr-icon-file-text2'><use xlink:href='#icon-file-text2'></use></svg></label><input id='data-c70fdb97-0b88-459a-bcc3-793816b01a8b' class='xr-var-data-in' type='checkbox'><label for='data-c70fdb97-0b88-459a-bcc3-793816b01a8b' title='Show/Hide data repr'><svg class='icon xr-icon-database'><use xlink:href='#icon-database'></use></svg></label><div class='xr-var-attrs'><dl class='xr-attrs'></dl></div><div class='xr-var-data'><pre>[14296160 values with dtype=float64]</pre></div></li><li class='xr-var-item'><div class='xr-var-name'><span>avmv</span></div><div class='xr-var-dims'>(t, z, y, x)</div><div class='xr-var-dtype'>float64</div><div class='xr-var-preview xr-preview'>...</div><input id='attrs-868af3c3-0197-4f9e-8812-da654b756853' class='xr-var-attrs-in' type='checkbox' disabled><label for='attrs-868af3c3-0197-4f9e-8812-da654b756853' title='Show/Hide attributes'><svg class='icon xr-icon-file-text2'><use xlink:href='#icon-file-text2'></use></svg></label><input id='data-abe4a4fb-6774-4faa-82e6-681cf6fc34b5' class='xr-var-data-in' type='checkbox'><label for='data-abe4a4fb-6774-4faa-82e6-681cf6fc34b5' title='Show/Hide data repr'><svg class='icon xr-icon-database'><use xlink:href='#icon-database'></use></svg></label><div class='xr-var-attrs'><dl class='xr-attrs'></dl></div><div class='xr-var-data'><pre>[14296160 values with dtype=float64]</pre></div></li><li class='xr-var-item'><div class='xr-var-name'><span>vb2_b</span></div><div class='xr-var-dims'>(t, y, x)</div><div class='xr-var-dtype'>float64</div><div class='xr-var-preview xr-preview'>...</div><input id='attrs-b6ca82ad-dc3f-4705-a3b8-15c4d787faf0' class='xr-var-attrs-in' type='checkbox' disabled><label for='attrs-b6ca82ad-dc3f-4705-a3b8-15c4d787faf0' title='Show/Hide attributes'><svg class='icon xr-icon-file-text2'><use xlink:href='#icon-file-text2'></use></svg></label><input id='data-07987aca-9d36-41e9-9be8-916610700e55' class='xr-var-data-in' type='checkbox'><label for='data-07987aca-9d36-41e9-9be8-916610700e55' title='Show/Hide data repr'><svg class='icon xr-icon-database'><use xlink:href='#icon-database'></use></svg></label><div class='xr-var-attrs'><dl class='xr-attrs'></dl></div><div class='xr-var-data'><pre>[357404 values with dtype=float64]</pre></div></li><li class='xr-var-item'><div class='xr-var-name'><span>mxln</span></div><div class='xr-var-dims'>(t, z, y, x)</div><div class='xr-var-dtype'>float64</div><div class='xr-var-preview xr-preview'>...</div><input id='attrs-c6e94c4a-4d35-4fd6-8707-942f754241a1' class='xr-var-attrs-in' type='checkbox' disabled><label for='attrs-c6e94c4a-4d35-4fd6-8707-942f754241a1' title='Show/Hide attributes'><svg class='icon xr-icon-file-text2'><use xlink:href='#icon-file-text2'></use></svg></label><input id='data-45a41760-ca92-4b42-96c4-f93a44438e0b' class='xr-var-data-in' type='checkbox'><label for='data-45a41760-ca92-4b42-96c4-f93a44438e0b' title='Show/Hide data repr'><svg class='icon xr-icon-database'><use xlink:href='#icon-database'></use></svg></label><div class='xr-var-attrs'><dl class='xr-attrs'></dl></div><div class='xr-var-data'><pre>[14296160 values with dtype=float64]</pre></div></li><li class='xr-var-item'><div class='xr-var-name'><span>vb</span></div><div class='xr-var-dims'>(t, z, y, x)</div><div class='xr-var-dtype'>float64</div><div class='xr-var-preview xr-preview'>...</div><input id='attrs-55a27f7d-171b-499b-a80e-f610e81f5daa' class='xr-var-attrs-in' type='checkbox' disabled><label for='attrs-55a27f7d-171b-499b-a80e-f610e81f5daa' title='Show/Hide attributes'><svg class='icon xr-icon-file-text2'><use xlink:href='#icon-file-text2'></use></svg></label><input id='data-9f0c5d66-d7a2-4e85-9c50-22812c720fc4' class='xr-var-data-in' type='checkbox'><label for='data-9f0c5d66-d7a2-4e85-9c50-22812c720fc4' title='Show/Hide data repr'><svg class='icon xr-icon-database'><use xlink:href='#icon-database'></use></svg></label><div class='xr-var-attrs'><dl class='xr-attrs'></dl></div><div class='xr-var-data'><pre>[14296160 values with dtype=float64]</pre></div></li><li class='xr-var-item'><div class='xr-var-name'><span>avt</span></div><div class='xr-var-dims'>(t, z, y, x)</div><div class='xr-var-dtype'>float64</div><div class='xr-var-preview xr-preview'>...</div><input id='attrs-c5b19096-8581-460a-a883-5a0215e6e9ab' class='xr-var-attrs-in' type='checkbox' disabled><label for='attrs-c5b19096-8581-460a-a883-5a0215e6e9ab' title='Show/Hide attributes'><svg class='icon xr-icon-file-text2'><use xlink:href='#icon-file-text2'></use></svg></label><input id='data-6a23d556-5fdb-43b9-881b-3f591d675c63' class='xr-var-data-in' type='checkbox'><label for='data-6a23d556-5fdb-43b9-881b-3f591d675c63' title='Show/Hide data repr'><svg class='icon xr-icon-database'><use xlink:href='#icon-database'></use></svg></label><div class='xr-var-attrs'><dl class='xr-attrs'></dl></div><div class='xr-var-data'><pre>[14296160 values with dtype=float64]</pre></div></li><li class='xr-var-item'><div class='xr-var-name'><span>utau_b</span></div><div class='xr-var-dims'>(t, y, x)</div><div class='xr-var-dtype'>float64</div><div class='xr-var-preview xr-preview'>...</div><input id='attrs-6639b635-3e01-491e-b486-bac446189248' class='xr-var-attrs-in' type='checkbox' disabled><label for='attrs-6639b635-3e01-491e-b486-bac446189248' title='Show/Hide attributes'><svg class='icon xr-icon-file-text2'><use xlink:href='#icon-file-text2'></use></svg></label><input id='data-c1a26517-33f5-45d1-80d9-419211cde31a' class='xr-var-data-in' type='checkbox'><label for='data-c1a26517-33f5-45d1-80d9-419211cde31a' title='Show/Hide data repr'><svg class='icon xr-icon-database'><use xlink:href='#icon-database'></use></svg></label><div class='xr-var-attrs'><dl class='xr-attrs'></dl></div><div class='xr-var-data'><pre>[357404 values with dtype=float64]</pre></div></li><li class='xr-var-item'><div class='xr-var-name'><span>rnf_b</span></div><div class='xr-var-dims'>(t, y, x)</div><div class='xr-var-dtype'>float64</div><div class='xr-var-preview xr-preview'>...</div><input id='attrs-e930d1dc-564c-4d17-b49a-fa1879d6a679' class='xr-var-attrs-in' type='checkbox' disabled><label for='attrs-e930d1dc-564c-4d17-b49a-fa1879d6a679' title='Show/Hide attributes'><svg class='icon xr-icon-file-text2'><use xlink:href='#icon-file-text2'></use></svg></label><input id='data-cbc3b4ee-e629-4ae1-8362-8ea3e716a4b5' class='xr-var-data-in' type='checkbox'><label for='data-cbc3b4ee-e629-4ae1-8362-8ea3e716a4b5' title='Show/Hide data repr'><svg class='icon xr-icon-database'><use xlink:href='#icon-database'></use></svg></label><div class='xr-var-attrs'><dl class='xr-attrs'></dl></div><div class='xr-var-data'><pre>[357404 values with dtype=float64]</pre></div></li><li class='xr-var-item'><div class='xr-var-name'><span>rotn</span></div><div class='xr-var-dims'>(t, z, y, x)</div><div class='xr-var-dtype'>float64</div><div class='xr-var-preview xr-preview'>...</div><input id='attrs-1260a49f-2914-4496-ae92-0117f5b5cdf4' class='xr-var-attrs-in' type='checkbox' disabled><label for='attrs-1260a49f-2914-4496-ae92-0117f5b5cdf4' title='Show/Hide attributes'><svg class='icon xr-icon-file-text2'><use xlink:href='#icon-file-text2'></use></svg></label><input id='data-035660d2-9e44-4cb1-83e4-9bf198781715' class='xr-var-data-in' type='checkbox'><label for='data-035660d2-9e44-4cb1-83e4-9bf198781715' title='Show/Hide data repr'><svg class='icon xr-icon-database'><use xlink:href='#icon-database'></use></svg></label><div class='xr-var-attrs'><dl class='xr-attrs'></dl></div><div class='xr-var-data'><pre>[14296160 values with dtype=float64]</pre></div></li><li class='xr-var-item'><div class='xr-var-name'><span>sshb</span></div><div class='xr-var-dims'>(t, y, x)</div><div class='xr-var-dtype'>float64</div><div class='xr-var-preview xr-preview'>...</div><input id='attrs-421fa98f-bcbf-4698-b5c7-a31747ea1016' class='xr-var-attrs-in' type='checkbox' disabled><label for='attrs-421fa98f-bcbf-4698-b5c7-a31747ea1016' title='Show/Hide attributes'><svg class='icon xr-icon-file-text2'><use xlink:href='#icon-file-text2'></use></svg></label><input id='data-2d2ba465-f562-4949-ba46-e998af239172' class='xr-var-data-in' type='checkbox'><label for='data-2d2ba465-f562-4949-ba46-e998af239172' title='Show/Hide data repr'><svg class='icon xr-icon-database'><use xlink:href='#icon-database'></use></svg></label><div class='xr-var-attrs'><dl class='xr-attrs'></dl></div><div class='xr-var-data'><pre>[357404 values with dtype=float64]</pre></div></li><li class='xr-var-item'><div class='xr-var-name'><span>avm</span></div><div class='xr-var-dims'>(t, z, y, x)</div><div class='xr-var-dtype'>float64</div><div class='xr-var-preview xr-preview'>...</div><input id='attrs-fdc9018c-41e2-4dab-9e97-292a09568bed' class='xr-var-attrs-in' type='checkbox' disabled><label for='attrs-fdc9018c-41e2-4dab-9e97-292a09568bed' title='Show/Hide attributes'><svg class='icon xr-icon-file-text2'><use xlink:href='#icon-file-text2'></use></svg></label><input id='data-50b408f1-b684-42ef-b1c6-0b264032e660' class='xr-var-data-in' type='checkbox'><label for='data-50b408f1-b684-42ef-b1c6-0b264032e660' title='Show/Hide data repr'><svg class='icon xr-icon-database'><use xlink:href='#icon-database'></use></svg></label><div class='xr-var-attrs'><dl class='xr-attrs'></dl></div><div class='xr-var-data'><pre>[14296160 values with dtype=float64]</pre></div></li><li class='xr-var-item'><div class='xr-var-name'><span>vtau_b</span></div><div class='xr-var-dims'>(t, y, x)</div><div class='xr-var-dtype'>float64</div><div class='xr-var-preview xr-preview'>...</div><input id='attrs-591ac10d-fad0-42d5-b48d-10b9564191e2' class='xr-var-attrs-in' type='checkbox' disabled><label for='attrs-591ac10d-fad0-42d5-b48d-10b9564191e2' title='Show/Hide attributes'><svg class='icon xr-icon-file-text2'><use xlink:href='#icon-file-text2'></use></svg></label><input id='data-53540778-efeb-4746-97cf-8ba18e82e8b4' class='xr-var-data-in' type='checkbox'><label for='data-53540778-efeb-4746-97cf-8ba18e82e8b4' title='Show/Hide data repr'><svg class='icon xr-icon-database'><use xlink:href='#icon-database'></use></svg></label><div class='xr-var-attrs'><dl class='xr-attrs'></dl></div><div class='xr-var-data'><pre>[357404 values with dtype=float64]</pre></div></li><li class='xr-var-item'><div class='xr-var-name'><span>avmu</span></div><div class='xr-var-dims'>(t, z, y, x)</div><div class='xr-var-dtype'>float64</div><div class='xr-var-preview xr-preview'>...</div><input id='attrs-f3ece8de-1290-4061-8b0a-4fedb13a91fb' class='xr-var-attrs-in' type='checkbox' disabled><label for='attrs-f3ece8de-1290-4061-8b0a-4fedb13a91fb' title='Show/Hide attributes'><svg class='icon xr-icon-file-text2'><use xlink:href='#icon-file-text2'></use></svg></label><input id='data-289728ca-300d-4774-9249-05079472340f' class='xr-var-data-in' type='checkbox'><label for='data-289728ca-300d-4774-9249-05079472340f' title='Show/Hide data repr'><svg class='icon xr-icon-database'><use xlink:href='#icon-database'></use></svg></label><div class='xr-var-attrs'><dl class='xr-attrs'></dl></div><div class='xr-var-data'><pre>[14296160 values with dtype=float64]</pre></div></li><li class='xr-var-item'><div class='xr-var-name'><span>rnf_sc_b</span></div><div class='xr-var-dims'>(t, y, x)</div><div class='xr-var-dtype'>float64</div><div class='xr-var-preview xr-preview'>...</div><input id='attrs-5e8a5571-276b-46e1-9827-3de06ad9fa7f' class='xr-var-attrs-in' type='checkbox' disabled><label for='attrs-5e8a5571-276b-46e1-9827-3de06ad9fa7f' title='Show/Hide attributes'><svg class='icon xr-icon-file-text2'><use xlink:href='#icon-file-text2'></use></svg></label><input id='data-f0b49d99-45ca-4fc8-8927-88f58ceb453d' class='xr-var-data-in' type='checkbox'><label for='data-f0b49d99-45ca-4fc8-8927-88f58ceb453d' title='Show/Hide data repr'><svg class='icon xr-icon-database'><use xlink:href='#icon-database'></use></svg></label><div class='xr-var-attrs'><dl class='xr-attrs'></dl></div><div class='xr-var-data'><pre>[357404 values with dtype=float64]</pre></div></li><li class='xr-var-item'><div class='xr-var-name'><span>fse3t_b</span></div><div class='xr-var-dims'>(t, z, y, x)</div><div class='xr-var-dtype'>float64</div><div class='xr-var-preview xr-preview'>...</div><input id='attrs-529fcc4a-af94-45d8-9945-422b4daa9bc5' class='xr-var-attrs-in' type='checkbox' disabled><label for='attrs-529fcc4a-af94-45d8-9945-422b4daa9bc5' title='Show/Hide attributes'><svg class='icon xr-icon-file-text2'><use xlink:href='#icon-file-text2'></use></svg></label><input id='data-27f0822f-7701-480a-9d25-b58bb0112c48' class='xr-var-data-in' type='checkbox'><label for='data-27f0822f-7701-480a-9d25-b58bb0112c48' title='Show/Hide data repr'><svg class='icon xr-icon-database'><use xlink:href='#icon-database'></use></svg></label><div class='xr-var-attrs'><dl class='xr-attrs'></dl></div><div class='xr-var-data'><pre>[14296160 values with dtype=float64]</pre></div></li><li class='xr-var-item'><div class='xr-var-name'><span>kt</span></div><div class='xr-var-dims'>()</div><div class='xr-var-dtype'>float64</div><div class='xr-var-preview xr-preview'>...</div><input id='attrs-9c2b3808-db8f-48f9-9c25-5bc5b262c09a' class='xr-var-attrs-in' type='checkbox' disabled><label for='attrs-9c2b3808-db8f-48f9-9c25-5bc5b262c09a' title='Show/Hide attributes'><svg class='icon xr-icon-file-text2'><use xlink:href='#icon-file-text2'></use></svg></label><input id='data-aa463a42-3a08-4f1d-bb58-c497323e689c' class='xr-var-data-in' type='checkbox'><label for='data-aa463a42-3a08-4f1d-bb58-c497323e689c' title='Show/Hide data repr'><svg class='icon xr-icon-database'><use xlink:href='#icon-database'></use></svg></label><div class='xr-var-attrs'><dl class='xr-attrs'></dl></div><div class='xr-var-data'><pre>[1 values with dtype=float64]</pre></div></li><li class='xr-var-item'><div class='xr-var-name'><span>fse3t_n</span></div><div class='xr-var-dims'>(t, z, y, x)</div><div class='xr-var-dtype'>float64</div><div class='xr-var-preview xr-preview'>...</div><input id='attrs-87ccc12e-6840-48e9-9e28-6956816aef99' class='xr-var-attrs-in' type='checkbox' disabled><label for='attrs-87ccc12e-6840-48e9-9e28-6956816aef99' title='Show/Hide attributes'><svg class='icon xr-icon-file-text2'><use xlink:href='#icon-file-text2'></use></svg></label><input id='data-22cff70f-09f7-4cde-9eb9-488bce0f2d46' class='xr-var-data-in' type='checkbox'><label for='data-22cff70f-09f7-4cde-9eb9-488bce0f2d46' title='Show/Hide data repr'><svg class='icon xr-icon-database'><use xlink:href='#icon-database'></use></svg></label><div class='xr-var-attrs'><dl class='xr-attrs'></dl></div><div class='xr-var-data'><pre>[14296160 values with dtype=float64]</pre></div></li><li class='xr-var-item'><div class='xr-var-name'><span>emp_b</span></div><div class='xr-var-dims'>(t, y, x)</div><div class='xr-var-dtype'>float64</div><div class='xr-var-preview xr-preview'>...</div><input id='attrs-80718efa-385a-439d-96fa-f24ab96ba1f3' class='xr-var-attrs-in' type='checkbox' disabled><label for='attrs-80718efa-385a-439d-96fa-f24ab96ba1f3' title='Show/Hide attributes'><svg class='icon xr-icon-file-text2'><use xlink:href='#icon-file-text2'></use></svg></label><input id='data-0394f10c-88c5-48eb-b299-27f05a21bac3' class='xr-var-data-in' type='checkbox'><label for='data-0394f10c-88c5-48eb-b299-27f05a21bac3' title='Show/Hide data repr'><svg class='icon xr-icon-database'><use xlink:href='#icon-database'></use></svg></label><div class='xr-var-attrs'><dl class='xr-attrs'></dl></div><div class='xr-var-data'><pre>[357404 values with dtype=float64]</pre></div></li><li class='xr-var-item'><div class='xr-var-name'><span>hdivn</span></div><div class='xr-var-dims'>(t, z, y, x)</div><div class='xr-var-dtype'>float64</div><div class='xr-var-preview xr-preview'>...</div><input id='attrs-cbb7bbe9-e805-4b28-a19c-5888d266a953' class='xr-var-attrs-in' type='checkbox' disabled><label for='attrs-cbb7bbe9-e805-4b28-a19c-5888d266a953' title='Show/Hide attributes'><svg class='icon xr-icon-file-text2'><use xlink:href='#icon-file-text2'></use></svg></label><input id='data-fbffcfde-3777-4abc-a32a-a12c12243cf2' class='xr-var-data-in' type='checkbox'><label for='data-fbffcfde-3777-4abc-a32a-a12c12243cf2' title='Show/Hide data repr'><svg class='icon xr-icon-database'><use xlink:href='#icon-database'></use></svg></label><div class='xr-var-attrs'><dl class='xr-attrs'></dl></div><div class='xr-var-data'><pre>[14296160 values with dtype=float64]</pre></div></li><li class='xr-var-item'><div class='xr-var-name'><span>qsr_hc_b</span></div><div class='xr-var-dims'>(t, z, y, x)</div><div class='xr-var-dtype'>float64</div><div class='xr-var-preview xr-preview'>...</div><input id='attrs-75a60b4e-9d45-4ed9-8cba-930d08a8173e' class='xr-var-attrs-in' type='checkbox' disabled><label for='attrs-75a60b4e-9d45-4ed9-8cba-930d08a8173e' title='Show/Hide attributes'><svg class='icon xr-icon-file-text2'><use xlink:href='#icon-file-text2'></use></svg></label><input id='data-796257e9-66cc-424e-b088-0e48cb385597' class='xr-var-data-in' type='checkbox'><label for='data-796257e9-66cc-424e-b088-0e48cb385597' title='Show/Hide data repr'><svg class='icon xr-icon-database'><use xlink:href='#icon-database'></use></svg></label><div class='xr-var-attrs'><dl class='xr-attrs'></dl></div><div class='xr-var-data'><pre>[14296160 values with dtype=float64]</pre></div></li><li class='xr-var-item'><div class='xr-var-name'><span>ub</span></div><div class='xr-var-dims'>(t, z, y, x)</div><div class='xr-var-dtype'>float64</div><div class='xr-var-preview xr-preview'>...</div><input id='attrs-2cce19fe-a350-4770-bae2-83f9add10a66' class='xr-var-attrs-in' type='checkbox' disabled><label for='attrs-2cce19fe-a350-4770-bae2-83f9add10a66' title='Show/Hide attributes'><svg class='icon xr-icon-file-text2'><use xlink:href='#icon-file-text2'></use></svg></label><input id='data-8d6c5b79-89f3-4452-8234-493d88514d2f' class='xr-var-data-in' type='checkbox'><label for='data-8d6c5b79-89f3-4452-8234-493d88514d2f' title='Show/Hide data repr'><svg class='icon xr-icon-database'><use xlink:href='#icon-database'></use></svg></label><div class='xr-var-attrs'><dl class='xr-attrs'></dl></div><div class='xr-var-data'><pre>[14296160 values with dtype=float64]</pre></div></li><li class='xr-var-item'><div class='xr-var-name'><span>nav_lon</span></div><div class='xr-var-dims'>(y, x)</div><div class='xr-var-dtype'>float32</div><div class='xr-var-preview xr-preview'>...</div><input id='attrs-265e8b9c-6a12-48ac-8c15-e447f6cc2c18' class='xr-var-attrs-in' type='checkbox' disabled><label for='attrs-265e8b9c-6a12-48ac-8c15-e447f6cc2c18' title='Show/Hide attributes'><svg class='icon xr-icon-file-text2'><use xlink:href='#icon-file-text2'></use></svg></label><input id='data-b12ad68f-f71f-4f32-bebf-4a83fc8c05fc' class='xr-var-data-in' type='checkbox'><label for='data-b12ad68f-f71f-4f32-bebf-4a83fc8c05fc' title='Show/Hide data repr'><svg class='icon xr-icon-database'><use xlink:href='#icon-database'></use></svg></label><div class='xr-var-attrs'><dl class='xr-attrs'></dl></div><div class='xr-var-data'><pre>[357404 values with dtype=float32]</pre></div></li><li class='xr-var-item'><div class='xr-var-name'><span>un</span></div><div class='xr-var-dims'>(t, z, y, x)</div><div class='xr-var-dtype'>float64</div><div class='xr-var-preview xr-preview'>...</div><input id='attrs-31290f85-cca0-400e-99ed-d5b1299b46c1' class='xr-var-attrs-in' type='checkbox' disabled><label for='attrs-31290f85-cca0-400e-99ed-d5b1299b46c1' title='Show/Hide attributes'><svg class='icon xr-icon-file-text2'><use xlink:href='#icon-file-text2'></use></svg></label><input id='data-4bff3449-f70e-47e1-894a-bb54923fdadd' class='xr-var-data-in' type='checkbox'><label for='data-4bff3449-f70e-47e1-894a-bb54923fdadd' title='Show/Hide data repr'><svg class='icon xr-icon-database'><use xlink:href='#icon-database'></use></svg></label><div class='xr-var-attrs'><dl class='xr-attrs'></dl></div><div class='xr-var-data'><pre>[14296160 values with dtype=float64]</pre></div></li><li class='xr-var-item'><div class='xr-var-name'><span>qns_b</span></div><div class='xr-var-dims'>(t, y, x)</div><div class='xr-var-dtype'>float64</div><div class='xr-var-preview xr-preview'>...</div><input id='attrs-b9a97879-4d0d-4e2c-b678-0341071c9fc9' class='xr-var-attrs-in' type='checkbox' disabled><label for='attrs-b9a97879-4d0d-4e2c-b678-0341071c9fc9' title='Show/Hide attributes'><svg class='icon xr-icon-file-text2'><use xlink:href='#icon-file-text2'></use></svg></label><input id='data-c96306cb-1931-4e62-94d2-c27591f75241' class='xr-var-data-in' type='checkbox'><label for='data-c96306cb-1931-4e62-94d2-c27591f75241' title='Show/Hide data repr'><svg class='icon xr-icon-database'><use xlink:href='#icon-database'></use></svg></label><div class='xr-var-attrs'><dl class='xr-attrs'></dl></div><div class='xr-var-data'><pre>[357404 values with dtype=float64]</pre></div></li><li class='xr-var-item'><div class='xr-var-name'><span>nav_lat</span></div><div class='xr-var-dims'>(y, x)</div><div class='xr-var-dtype'>float32</div><div class='xr-var-preview xr-preview'>...</div><input id='attrs-ca5edf04-e360-422b-9f87-4ee63ceffd6a' class='xr-var-attrs-in' type='checkbox' disabled><label for='attrs-ca5edf04-e360-422b-9f87-4ee63ceffd6a' title='Show/Hide attributes'><svg class='icon xr-icon-file-text2'><use xlink:href='#icon-file-text2'></use></svg></label><input id='data-61dc9235-1bd6-476c-a410-f6784e1413d0' class='xr-var-data-in' type='checkbox'><label for='data-61dc9235-1bd6-476c-a410-f6784e1413d0' title='Show/Hide data repr'><svg class='icon xr-icon-database'><use xlink:href='#icon-database'></use></svg></label><div class='xr-var-attrs'><dl class='xr-attrs'></dl></div><div class='xr-var-data'><pre>[357404 values with dtype=float32]</pre></div></li><li class='xr-var-item'><div class='xr-var-name'><span>hdivb</span></div><div class='xr-var-dims'>(t, z, y, x)</div><div class='xr-var-dtype'>float64</div><div class='xr-var-preview xr-preview'>...</div><input id='attrs-dfb7bd73-ca39-4608-b183-7d8af92668f7' class='xr-var-attrs-in' type='checkbox' disabled><label for='attrs-dfb7bd73-ca39-4608-b183-7d8af92668f7' title='Show/Hide attributes'><svg class='icon xr-icon-file-text2'><use xlink:href='#icon-file-text2'></use></svg></label><input id='data-05dabc87-aed9-44bc-8973-fa0aea47d800' class='xr-var-data-in' type='checkbox'><label for='data-05dabc87-aed9-44bc-8973-fa0aea47d800' title='Show/Hide data repr'><svg class='icon xr-icon-database'><use xlink:href='#icon-database'></use></svg></label><div class='xr-var-attrs'><dl class='xr-attrs'></dl></div><div class='xr-var-data'><pre>[14296160 values with dtype=float64]</pre></div></li><li class='xr-var-item'><div class='xr-var-name'><span>time_counter</span></div><div class='xr-var-dims'>(t)</div><div class='xr-var-dtype'>float64</div><div class='xr-var-preview xr-preview'>...</div><input id='attrs-d6e35937-260a-4219-b5aa-552e78e38e21' class='xr-var-attrs-in' type='checkbox' disabled><label for='attrs-d6e35937-260a-4219-b5aa-552e78e38e21' title='Show/Hide attributes'><svg class='icon xr-icon-file-text2'><use xlink:href='#icon-file-text2'></use></svg></label><input id='data-157e8f92-1662-4894-a019-a7986fb96c28' class='xr-var-data-in' type='checkbox'><label for='data-157e8f92-1662-4894-a019-a7986fb96c28' title='Show/Hide data repr'><svg class='icon xr-icon-database'><use xlink:href='#icon-database'></use></svg></label><div class='xr-var-attrs'><dl class='xr-attrs'></dl></div><div class='xr-var-data'><pre>[1 values with dtype=float64]</pre></div></li><li class='xr-var-item'><div class='xr-var-name'><span>fraqsr_1lev</span></div><div class='xr-var-dims'>(t, y, x)</div><div class='xr-var-dtype'>float64</div><div class='xr-var-preview xr-preview'>...</div><input id='attrs-14a24fb4-b144-4444-a1b1-9617d8ce0918' class='xr-var-attrs-in' type='checkbox' disabled><label for='attrs-14a24fb4-b144-4444-a1b1-9617d8ce0918' title='Show/Hide attributes'><svg class='icon xr-icon-file-text2'><use xlink:href='#icon-file-text2'></use></svg></label><input id='data-74f7fc74-df8d-4232-865c-95a26562646a' class='xr-var-data-in' type='checkbox'><label for='data-74f7fc74-df8d-4232-865c-95a26562646a' title='Show/Hide data repr'><svg class='icon xr-icon-database'><use xlink:href='#icon-database'></use></svg></label><div class='xr-var-attrs'><dl class='xr-attrs'></dl></div><div class='xr-var-data'><pre>[357404 values with dtype=float64]</pre></div></li><li class='xr-var-item'><div class='xr-var-name'><span>sbc_sc_b</span></div><div class='xr-var-dims'>(t, y, x)</div><div class='xr-var-dtype'>float64</div><div class='xr-var-preview xr-preview'>...</div><input id='attrs-6b823339-fb21-47a0-9208-1536c0a3fb50' class='xr-var-attrs-in' type='checkbox' disabled><label for='attrs-6b823339-fb21-47a0-9208-1536c0a3fb50' title='Show/Hide attributes'><svg class='icon xr-icon-file-text2'><use xlink:href='#icon-file-text2'></use></svg></label><input id='data-594bbddc-d456-446e-acea-fb0172085fe8' class='xr-var-data-in' type='checkbox'><label for='data-594bbddc-d456-446e-acea-fb0172085fe8' title='Show/Hide data repr'><svg class='icon xr-icon-database'><use xlink:href='#icon-database'></use></svg></label><div class='xr-var-attrs'><dl class='xr-attrs'></dl></div><div class='xr-var-data'><pre>[357404 values with dtype=float64]</pre></div></li><li class='xr-var-item'><div class='xr-var-name'><span>sbc_DON_b</span></div><div class='xr-var-dims'>(t, y, x)</div><div class='xr-var-dtype'>float64</div><div class='xr-var-preview xr-preview'>...</div><input id='attrs-e5dd7cfc-829e-4c46-90ab-cfdcd3066599' class='xr-var-attrs-in' type='checkbox' disabled><label for='attrs-e5dd7cfc-829e-4c46-90ab-cfdcd3066599' title='Show/Hide attributes'><svg class='icon xr-icon-file-text2'><use xlink:href='#icon-file-text2'></use></svg></label><input id='data-1cd917fd-f161-4eb0-9e38-8882d076edc9' class='xr-var-data-in' type='checkbox'><label for='data-1cd917fd-f161-4eb0-9e38-8882d076edc9' title='Show/Hide data repr'><svg class='icon xr-icon-database'><use xlink:href='#icon-database'></use></svg></label><div class='xr-var-attrs'><dl class='xr-attrs'></dl></div><div class='xr-var-data'><pre>[357404 values with dtype=float64]</pre></div></li><li class='xr-var-item'><div class='xr-var-name'><span>sbc_PHY_b</span></div><div class='xr-var-dims'>(t, y, x)</div><div class='xr-var-dtype'>float64</div><div class='xr-var-preview xr-preview'>...</div><input id='attrs-f22edfdf-0cf9-49be-a4c5-9d0324dcd421' class='xr-var-attrs-in' type='checkbox' disabled><label for='attrs-f22edfdf-0cf9-49be-a4c5-9d0324dcd421' title='Show/Hide attributes'><svg class='icon xr-icon-file-text2'><use xlink:href='#icon-file-text2'></use></svg></label><input id='data-e6f40fc6-a577-4d67-87ef-c494c6be0492' class='xr-var-data-in' type='checkbox'><label for='data-e6f40fc6-a577-4d67-87ef-c494c6be0492' title='Show/Hide data repr'><svg class='icon xr-icon-database'><use xlink:href='#icon-database'></use></svg></label><div class='xr-var-attrs'><dl class='xr-attrs'></dl></div><div class='xr-var-data'><pre>[357404 values with dtype=float64]</pre></div></li><li class='xr-var-item'><div class='xr-var-name'><span>sbc_NH4_b</span></div><div class='xr-var-dims'>(t, y, x)</div><div class='xr-var-dtype'>float64</div><div class='xr-var-preview xr-preview'>...</div><input id='attrs-dc54bbdb-22d8-4b68-86a1-7a978afa282c' class='xr-var-attrs-in' type='checkbox' disabled><label for='attrs-dc54bbdb-22d8-4b68-86a1-7a978afa282c' title='Show/Hide attributes'><svg class='icon xr-icon-file-text2'><use xlink:href='#icon-file-text2'></use></svg></label><input id='data-976d1016-3f4f-42df-928b-b82820eaed3c' class='xr-var-data-in' type='checkbox'><label for='data-976d1016-3f4f-42df-928b-b82820eaed3c' title='Show/Hide data repr'><svg class='icon xr-icon-database'><use xlink:href='#icon-database'></use></svg></label><div class='xr-var-attrs'><dl class='xr-attrs'></dl></div><div class='xr-var-data'><pre>[357404 values with dtype=float64]</pre></div></li><li class='xr-var-item'><div class='xr-var-name'><span>rnf_pis_PON_b</span></div><div class='xr-var-dims'>(t, y, x)</div><div class='xr-var-dtype'>float64</div><div class='xr-var-preview xr-preview'>...</div><input id='attrs-2b32155b-b28c-4f53-96d8-09c640915aba' class='xr-var-attrs-in' type='checkbox' disabled><label for='attrs-2b32155b-b28c-4f53-96d8-09c640915aba' title='Show/Hide attributes'><svg class='icon xr-icon-file-text2'><use xlink:href='#icon-file-text2'></use></svg></label><input id='data-e04235e8-1625-4dd1-b575-839ab6d01b8e' class='xr-var-data-in' type='checkbox'><label for='data-e04235e8-1625-4dd1-b575-839ab6d01b8e' title='Show/Hide data repr'><svg class='icon xr-icon-database'><use xlink:href='#icon-database'></use></svg></label><div class='xr-var-attrs'><dl class='xr-attrs'></dl></div><div class='xr-var-data'><pre>[357404 values with dtype=float64]</pre></div></li><li class='xr-var-item'><div class='xr-var-name'><span>sbc_Si_b</span></div><div class='xr-var-dims'>(t, y, x)</div><div class='xr-var-dtype'>float64</div><div class='xr-var-preview xr-preview'>...</div><input id='attrs-96fab42c-0788-4793-9c87-a1d8aaaac4a0' class='xr-var-attrs-in' type='checkbox' disabled><label for='attrs-96fab42c-0788-4793-9c87-a1d8aaaac4a0' title='Show/Hide attributes'><svg class='icon xr-icon-file-text2'><use xlink:href='#icon-file-text2'></use></svg></label><input id='data-2063f420-70e6-4dd8-979e-cdc0cf4703cf' class='xr-var-data-in' type='checkbox'><label for='data-2063f420-70e6-4dd8-979e-cdc0cf4703cf' title='Show/Hide data repr'><svg class='icon xr-icon-database'><use xlink:href='#icon-database'></use></svg></label><div class='xr-var-attrs'><dl class='xr-attrs'></dl></div><div class='xr-var-data'><pre>[357404 values with dtype=float64]</pre></div></li><li class='xr-var-item'><div class='xr-var-name'><span>rnf_pis_NO3_b</span></div><div class='xr-var-dims'>(t, y, x)</div><div class='xr-var-dtype'>float64</div><div class='xr-var-preview xr-preview'>...</div><input id='attrs-918f009e-7d2f-4e5d-986f-395f8d28e1cc' class='xr-var-attrs-in' type='checkbox' disabled><label for='attrs-918f009e-7d2f-4e5d-986f-395f8d28e1cc' title='Show/Hide attributes'><svg class='icon xr-icon-file-text2'><use xlink:href='#icon-file-text2'></use></svg></label><input id='data-cdbcac3f-d9ee-41ff-8f49-f91d5dd86ae3' class='xr-var-data-in' type='checkbox'><label for='data-cdbcac3f-d9ee-41ff-8f49-f91d5dd86ae3' title='Show/Hide data repr'><svg class='icon xr-icon-database'><use xlink:href='#icon-database'></use></svg></label><div class='xr-var-attrs'><dl class='xr-attrs'></dl></div><div class='xr-var-data'><pre>[357404 values with dtype=float64]</pre></div></li><li class='xr-var-item'><div class='xr-var-name'><span>rnf_pis_MICZ_b</span></div><div class='xr-var-dims'>(t, y, x)</div><div class='xr-var-dtype'>float64</div><div class='xr-var-preview xr-preview'>...</div><input id='attrs-45e3c406-f494-482d-a3d8-ba508487a890' class='xr-var-attrs-in' type='checkbox' disabled><label for='attrs-45e3c406-f494-482d-a3d8-ba508487a890' title='Show/Hide attributes'><svg class='icon xr-icon-file-text2'><use xlink:href='#icon-file-text2'></use></svg></label><input id='data-5539f5da-cea9-4e80-9489-4d2517dce76c' class='xr-var-data-in' type='checkbox'><label for='data-5539f5da-cea9-4e80-9489-4d2517dce76c' title='Show/Hide data repr'><svg class='icon xr-icon-database'><use xlink:href='#icon-database'></use></svg></label><div class='xr-var-attrs'><dl class='xr-attrs'></dl></div><div class='xr-var-data'><pre>[357404 values with dtype=float64]</pre></div></li><li class='xr-var-item'><div class='xr-var-name'><span>sbc_PON_b</span></div><div class='xr-var-dims'>(t, y, x)</div><div class='xr-var-dtype'>float64</div><div class='xr-var-preview xr-preview'>...</div><input id='attrs-52b6892a-613c-4a8a-b908-dc37d5162b9d' class='xr-var-attrs-in' type='checkbox' disabled><label for='attrs-52b6892a-613c-4a8a-b908-dc37d5162b9d' title='Show/Hide attributes'><svg class='icon xr-icon-file-text2'><use xlink:href='#icon-file-text2'></use></svg></label><input id='data-36073881-aa9e-4d91-aa2d-b3124e71b11e' class='xr-var-data-in' type='checkbox'><label for='data-36073881-aa9e-4d91-aa2d-b3124e71b11e' title='Show/Hide data repr'><svg class='icon xr-icon-database'><use xlink:href='#icon-database'></use></svg></label><div class='xr-var-attrs'><dl class='xr-attrs'></dl></div><div class='xr-var-data'><pre>[357404 values with dtype=float64]</pre></div></li><li class='xr-var-item'><div class='xr-var-name'><span>rnf_pis_PHY_b</span></div><div class='xr-var-dims'>(t, y, x)</div><div class='xr-var-dtype'>float64</div><div class='xr-var-preview xr-preview'>...</div><input id='attrs-7b3f46fe-d427-423e-9611-d8b058f52152' class='xr-var-attrs-in' type='checkbox' disabled><label for='attrs-7b3f46fe-d427-423e-9611-d8b058f52152' title='Show/Hide attributes'><svg class='icon xr-icon-file-text2'><use xlink:href='#icon-file-text2'></use></svg></label><input id='data-a58ab37b-549b-4364-b694-924a8ba74e1a' class='xr-var-data-in' type='checkbox'><label for='data-a58ab37b-549b-4364-b694-924a8ba74e1a' title='Show/Hide data repr'><svg class='icon xr-icon-database'><use xlink:href='#icon-database'></use></svg></label><div class='xr-var-attrs'><dl class='xr-attrs'></dl></div><div class='xr-var-data'><pre>[357404 values with dtype=float64]</pre></div></li><li class='xr-var-item'><div class='xr-var-name'><span>sbc_TA_b</span></div><div class='xr-var-dims'>(t, y, x)</div><div class='xr-var-dtype'>float64</div><div class='xr-var-preview xr-preview'>...</div><input id='attrs-cafbe3fe-10dd-4109-bef0-5820da6539bf' class='xr-var-attrs-in' type='checkbox' disabled><label for='attrs-cafbe3fe-10dd-4109-bef0-5820da6539bf' title='Show/Hide attributes'><svg class='icon xr-icon-file-text2'><use xlink:href='#icon-file-text2'></use></svg></label><input id='data-edfb0fb3-c694-438f-a890-c0094c899c41' class='xr-var-data-in' type='checkbox'><label for='data-edfb0fb3-c694-438f-a890-c0094c899c41' title='Show/Hide data repr'><svg class='icon xr-icon-database'><use xlink:href='#icon-database'></use></svg></label><div class='xr-var-attrs'><dl class='xr-attrs'></dl></div><div class='xr-var-data'><pre>[357404 values with dtype=float64]</pre></div></li><li class='xr-var-item'><div class='xr-var-name'><span>rnf_pis_DIAT_b</span></div><div class='xr-var-dims'>(t, y, x)</div><div class='xr-var-dtype'>float64</div><div class='xr-var-preview xr-preview'>...</div><input id='attrs-0d2bbe4b-db16-4acf-bf75-40c616a8c4ba' class='xr-var-attrs-in' type='checkbox' disabled><label for='attrs-0d2bbe4b-db16-4acf-bf75-40c616a8c4ba' title='Show/Hide attributes'><svg class='icon xr-icon-file-text2'><use xlink:href='#icon-file-text2'></use></svg></label><input id='data-0f01b086-7800-4aa1-9910-b21672784775' class='xr-var-data-in' type='checkbox'><label for='data-0f01b086-7800-4aa1-9910-b21672784775' title='Show/Hide data repr'><svg class='icon xr-icon-database'><use xlink:href='#icon-database'></use></svg></label><div class='xr-var-attrs'><dl class='xr-attrs'></dl></div><div class='xr-var-data'><pre>[357404 values with dtype=float64]</pre></div></li><li class='xr-var-item'><div class='xr-var-name'><span>rnf_pis_NH4_b</span></div><div class='xr-var-dims'>(t, y, x)</div><div class='xr-var-dtype'>float64</div><div class='xr-var-preview xr-preview'>...</div><input id='attrs-5b76ee5b-af6b-4554-b822-a9ae2e10af21' class='xr-var-attrs-in' type='checkbox' disabled><label for='attrs-5b76ee5b-af6b-4554-b822-a9ae2e10af21' title='Show/Hide attributes'><svg class='icon xr-icon-file-text2'><use xlink:href='#icon-file-text2'></use></svg></label><input id='data-af730341-20b6-4c61-b4cd-d38aa3c67940' class='xr-var-data-in' type='checkbox'><label for='data-af730341-20b6-4c61-b4cd-d38aa3c67940' title='Show/Hide data repr'><svg class='icon xr-icon-database'><use xlink:href='#icon-database'></use></svg></label><div class='xr-var-attrs'><dl class='xr-attrs'></dl></div><div class='xr-var-data'><pre>[357404 values with dtype=float64]</pre></div></li><li class='xr-var-item'><div class='xr-var-name'><span>rnf_pis_DIC_b</span></div><div class='xr-var-dims'>(t, y, x)</div><div class='xr-var-dtype'>float64</div><div class='xr-var-preview xr-preview'>...</div><input id='attrs-42cb50a8-cc23-44bc-9bc6-cdba5225dc87' class='xr-var-attrs-in' type='checkbox' disabled><label for='attrs-42cb50a8-cc23-44bc-9bc6-cdba5225dc87' title='Show/Hide attributes'><svg class='icon xr-icon-file-text2'><use xlink:href='#icon-file-text2'></use></svg></label><input id='data-b16100f8-5788-4569-9804-a43045cbf58d' class='xr-var-data-in' type='checkbox'><label for='data-b16100f8-5788-4569-9804-a43045cbf58d' title='Show/Hide data repr'><svg class='icon xr-icon-database'><use xlink:href='#icon-database'></use></svg></label><div class='xr-var-attrs'><dl class='xr-attrs'></dl></div><div class='xr-var-data'><pre>[357404 values with dtype=float64]</pre></div></li><li class='xr-var-item'><div class='xr-var-name'><span>sbc_bSi_b</span></div><div class='xr-var-dims'>(t, y, x)</div><div class='xr-var-dtype'>float64</div><div class='xr-var-preview xr-preview'>...</div><input id='attrs-cfe1bb88-951c-4f65-9a22-56b41de912e9' class='xr-var-attrs-in' type='checkbox' disabled><label for='attrs-cfe1bb88-951c-4f65-9a22-56b41de912e9' title='Show/Hide attributes'><svg class='icon xr-icon-file-text2'><use xlink:href='#icon-file-text2'></use></svg></label><input id='data-87e67433-f8e9-406a-bef8-4ca6bd7f912c' class='xr-var-data-in' type='checkbox'><label for='data-87e67433-f8e9-406a-bef8-4ca6bd7f912c' title='Show/Hide data repr'><svg class='icon xr-icon-database'><use xlink:href='#icon-database'></use></svg></label><div class='xr-var-attrs'><dl class='xr-attrs'></dl></div><div class='xr-var-data'><pre>[357404 values with dtype=float64]</pre></div></li><li class='xr-var-item'><div class='xr-var-name'><span>rnf_pis_DON_b</span></div><div class='xr-var-dims'>(t, y, x)</div><div class='xr-var-dtype'>float64</div><div class='xr-var-preview xr-preview'>...</div><input id='attrs-13c6bfc2-8cfa-49ed-a2ce-fdb1080f577e' class='xr-var-attrs-in' type='checkbox' disabled><label for='attrs-13c6bfc2-8cfa-49ed-a2ce-fdb1080f577e' title='Show/Hide attributes'><svg class='icon xr-icon-file-text2'><use xlink:href='#icon-file-text2'></use></svg></label><input id='data-389fac55-7388-4013-8ed9-419a9207aaf0' class='xr-var-data-in' type='checkbox'><label for='data-389fac55-7388-4013-8ed9-419a9207aaf0' title='Show/Hide data repr'><svg class='icon xr-icon-database'><use xlink:href='#icon-database'></use></svg></label><div class='xr-var-attrs'><dl class='xr-attrs'></dl></div><div class='xr-var-data'><pre>[357404 values with dtype=float64]</pre></div></li><li class='xr-var-item'><div class='xr-var-name'><span>sbc_O2_b</span></div><div class='xr-var-dims'>(t, y, x)</div><div class='xr-var-dtype'>float64</div><div class='xr-var-preview xr-preview'>...</div><input id='attrs-563414c2-2e13-4fc7-b368-d5e24dc63f63' class='xr-var-attrs-in' type='checkbox' disabled><label for='attrs-563414c2-2e13-4fc7-b368-d5e24dc63f63' title='Show/Hide attributes'><svg class='icon xr-icon-file-text2'><use xlink:href='#icon-file-text2'></use></svg></label><input id='data-d255ed46-c2c2-4432-bd65-7ac7b0d39134' class='xr-var-data-in' type='checkbox'><label for='data-d255ed46-c2c2-4432-bd65-7ac7b0d39134' title='Show/Hide data repr'><svg class='icon xr-icon-database'><use xlink:href='#icon-database'></use></svg></label><div class='xr-var-attrs'><dl class='xr-attrs'></dl></div><div class='xr-var-data'><pre>[357404 values with dtype=float64]</pre></div></li><li class='xr-var-item'><div class='xr-var-name'><span>rdttrc1</span></div><div class='xr-var-dims'>()</div><div class='xr-var-dtype'>float64</div><div class='xr-var-preview xr-preview'>...</div><input id='attrs-0e1c81a4-6cff-4ac4-9ff5-d0d99b0ba605' class='xr-var-attrs-in' type='checkbox' disabled><label for='attrs-0e1c81a4-6cff-4ac4-9ff5-d0d99b0ba605' title='Show/Hide attributes'><svg class='icon xr-icon-file-text2'><use xlink:href='#icon-file-text2'></use></svg></label><input id='data-9bd49614-037f-45d5-8427-36db94e80af2' class='xr-var-data-in' type='checkbox'><label for='data-9bd49614-037f-45d5-8427-36db94e80af2' title='Show/Hide data repr'><svg class='icon xr-icon-database'><use xlink:href='#icon-database'></use></svg></label><div class='xr-var-attrs'><dl class='xr-attrs'></dl></div><div class='xr-var-data'><pre>[1 values with dtype=float64]</pre></div></li><li class='xr-var-item'><div class='xr-var-name'><span>rnf_pis_MYRI_b</span></div><div class='xr-var-dims'>(t, y, x)</div><div class='xr-var-dtype'>float64</div><div class='xr-var-preview xr-preview'>...</div><input id='attrs-6a86e1a8-716b-48be-acd6-19c568a004ec' class='xr-var-attrs-in' type='checkbox' disabled><label for='attrs-6a86e1a8-716b-48be-acd6-19c568a004ec' title='Show/Hide attributes'><svg class='icon xr-icon-file-text2'><use xlink:href='#icon-file-text2'></use></svg></label><input id='data-3ead58da-e2f4-4fc2-9c41-ce6280f3d9d3' class='xr-var-data-in' type='checkbox'><label for='data-3ead58da-e2f4-4fc2-9c41-ce6280f3d9d3' title='Show/Hide data repr'><svg class='icon xr-icon-database'><use xlink:href='#icon-database'></use></svg></label><div class='xr-var-attrs'><dl class='xr-attrs'></dl></div><div class='xr-var-data'><pre>[357404 values with dtype=float64]</pre></div></li><li class='xr-var-item'><div class='xr-var-name'><span>sbc_MYRI_b</span></div><div class='xr-var-dims'>(t, y, x)</div><div class='xr-var-dtype'>float64</div><div class='xr-var-preview xr-preview'>...</div><input id='attrs-7ea7d91e-7469-4ea5-8a5b-6ebe7aa9a752' class='xr-var-attrs-in' type='checkbox' disabled><label for='attrs-7ea7d91e-7469-4ea5-8a5b-6ebe7aa9a752' title='Show/Hide attributes'><svg class='icon xr-icon-file-text2'><use xlink:href='#icon-file-text2'></use></svg></label><input id='data-acd23ae5-1144-4609-a706-13a876e396d3' class='xr-var-data-in' type='checkbox'><label for='data-acd23ae5-1144-4609-a706-13a876e396d3' title='Show/Hide data repr'><svg class='icon xr-icon-database'><use xlink:href='#icon-database'></use></svg></label><div class='xr-var-attrs'><dl class='xr-attrs'></dl></div><div class='xr-var-data'><pre>[357404 values with dtype=float64]</pre></div></li><li class='xr-var-item'><div class='xr-var-name'><span>sbc_NO3_b</span></div><div class='xr-var-dims'>(t, y, x)</div><div class='xr-var-dtype'>float64</div><div class='xr-var-preview xr-preview'>...</div><input id='attrs-de191389-b27a-409b-b304-5eee099f5a8b' class='xr-var-attrs-in' type='checkbox' disabled><label for='attrs-de191389-b27a-409b-b304-5eee099f5a8b' title='Show/Hide attributes'><svg class='icon xr-icon-file-text2'><use xlink:href='#icon-file-text2'></use></svg></label><input id='data-aa6e5015-d230-41bf-814e-fa4659983273' class='xr-var-data-in' type='checkbox'><label for='data-aa6e5015-d230-41bf-814e-fa4659983273' title='Show/Hide data repr'><svg class='icon xr-icon-database'><use xlink:href='#icon-database'></use></svg></label><div class='xr-var-attrs'><dl class='xr-attrs'></dl></div><div class='xr-var-data'><pre>[357404 values with dtype=float64]</pre></div></li><li class='xr-var-item'><div class='xr-var-name'><span>sbc_TRA_b</span></div><div class='xr-var-dims'>(t, y, x)</div><div class='xr-var-dtype'>float64</div><div class='xr-var-preview xr-preview'>...</div><input id='attrs-73a778cb-ca45-4d1a-b5c2-631d9980a062' class='xr-var-attrs-in' type='checkbox' disabled><label for='attrs-73a778cb-ca45-4d1a-b5c2-631d9980a062' title='Show/Hide attributes'><svg class='icon xr-icon-file-text2'><use xlink:href='#icon-file-text2'></use></svg></label><input id='data-0efd1b7f-8944-44d1-a2e3-901315e551d4' class='xr-var-data-in' type='checkbox'><label for='data-0efd1b7f-8944-44d1-a2e3-901315e551d4' title='Show/Hide data repr'><svg class='icon xr-icon-database'><use xlink:href='#icon-database'></use></svg></label><div class='xr-var-attrs'><dl class='xr-attrs'></dl></div><div class='xr-var-data'><pre>[357404 values with dtype=float64]</pre></div></li><li class='xr-var-item'><div class='xr-var-name'><span>sbc_DIAT_b</span></div><div class='xr-var-dims'>(t, y, x)</div><div class='xr-var-dtype'>float64</div><div class='xr-var-preview xr-preview'>...</div><input id='attrs-7f5989b6-f40f-4847-b6fd-a430604d75da' class='xr-var-attrs-in' type='checkbox' disabled><label for='attrs-7f5989b6-f40f-4847-b6fd-a430604d75da' title='Show/Hide attributes'><svg class='icon xr-icon-file-text2'><use xlink:href='#icon-file-text2'></use></svg></label><input id='data-d45e7ea9-3016-4532-add2-c73db8d0b79d' class='xr-var-data-in' type='checkbox'><label for='data-d45e7ea9-3016-4532-add2-c73db8d0b79d' title='Show/Hide data repr'><svg class='icon xr-icon-database'><use xlink:href='#icon-database'></use></svg></label><div class='xr-var-attrs'><dl class='xr-attrs'></dl></div><div class='xr-var-data'><pre>[357404 values with dtype=float64]</pre></div></li><li class='xr-var-item'><div class='xr-var-name'><span>rnf_pis_Si_b</span></div><div class='xr-var-dims'>(t, y, x)</div><div class='xr-var-dtype'>float64</div><div class='xr-var-preview xr-preview'>...</div><input id='attrs-119f9983-f24d-4a7f-b4f8-84435ad062d4' class='xr-var-attrs-in' type='checkbox' disabled><label for='attrs-119f9983-f24d-4a7f-b4f8-84435ad062d4' title='Show/Hide attributes'><svg class='icon xr-icon-file-text2'><use xlink:href='#icon-file-text2'></use></svg></label><input id='data-8febe240-ef43-4c3c-a8af-3539579f08ed' class='xr-var-data-in' type='checkbox'><label for='data-8febe240-ef43-4c3c-a8af-3539579f08ed' title='Show/Hide data repr'><svg class='icon xr-icon-database'><use xlink:href='#icon-database'></use></svg></label><div class='xr-var-attrs'><dl class='xr-attrs'></dl></div><div class='xr-var-data'><pre>[357404 values with dtype=float64]</pre></div></li><li class='xr-var-item'><div class='xr-var-name'><span>rnf_pis_bSi_b</span></div><div class='xr-var-dims'>(t, y, x)</div><div class='xr-var-dtype'>float64</div><div class='xr-var-preview xr-preview'>...</div><input id='attrs-64d329dc-71dd-4e2b-ac5b-1c3e30ae313d' class='xr-var-attrs-in' type='checkbox' disabled><label for='attrs-64d329dc-71dd-4e2b-ac5b-1c3e30ae313d' title='Show/Hide attributes'><svg class='icon xr-icon-file-text2'><use xlink:href='#icon-file-text2'></use></svg></label><input id='data-0236ee56-a795-4036-9fb5-31b782f2eb2a' class='xr-var-data-in' type='checkbox'><label for='data-0236ee56-a795-4036-9fb5-31b782f2eb2a' title='Show/Hide data repr'><svg class='icon xr-icon-database'><use xlink:href='#icon-database'></use></svg></label><div class='xr-var-attrs'><dl class='xr-attrs'></dl></div><div class='xr-var-data'><pre>[357404 values with dtype=float64]</pre></div></li><li class='xr-var-item'><div class='xr-var-name'><span>rnf_pis_TA_b</span></div><div class='xr-var-dims'>(t, y, x)</div><div class='xr-var-dtype'>float64</div><div class='xr-var-preview xr-preview'>...</div><input id='attrs-1239803f-8600-4e6f-b5be-80bc2f437cb1' class='xr-var-attrs-in' type='checkbox' disabled><label for='attrs-1239803f-8600-4e6f-b5be-80bc2f437cb1' title='Show/Hide attributes'><svg class='icon xr-icon-file-text2'><use xlink:href='#icon-file-text2'></use></svg></label><input id='data-6ac628ba-8e16-4559-8531-3ca207735027' class='xr-var-data-in' type='checkbox'><label for='data-6ac628ba-8e16-4559-8531-3ca207735027' title='Show/Hide data repr'><svg class='icon xr-icon-database'><use xlink:href='#icon-database'></use></svg></label><div class='xr-var-attrs'><dl class='xr-attrs'></dl></div><div class='xr-var-data'><pre>[357404 values with dtype=float64]</pre></div></li><li class='xr-var-item'><div class='xr-var-name'><span>sbc_MICZ_b</span></div><div class='xr-var-dims'>(t, y, x)</div><div class='xr-var-dtype'>float64</div><div class='xr-var-preview xr-preview'>...</div><input id='attrs-c922ee8e-0deb-4596-8ed7-212b886c08e5' class='xr-var-attrs-in' type='checkbox' disabled><label for='attrs-c922ee8e-0deb-4596-8ed7-212b886c08e5' title='Show/Hide attributes'><svg class='icon xr-icon-file-text2'><use xlink:href='#icon-file-text2'></use></svg></label><input id='data-2ae4e143-34dd-44c4-9b09-6d872bbb3d91' class='xr-var-data-in' type='checkbox'><label for='data-2ae4e143-34dd-44c4-9b09-6d872bbb3d91' title='Show/Hide data repr'><svg class='icon xr-icon-database'><use xlink:href='#icon-database'></use></svg></label><div class='xr-var-attrs'><dl class='xr-attrs'></dl></div><div class='xr-var-data'><pre>[357404 values with dtype=float64]</pre></div></li><li class='xr-var-item'><div class='xr-var-name'><span>rnf_pis_O2_b</span></div><div class='xr-var-dims'>(t, y, x)</div><div class='xr-var-dtype'>float64</div><div class='xr-var-preview xr-preview'>...</div><input id='attrs-9169fd9d-740d-4682-9f28-9e9157801b63' class='xr-var-attrs-in' type='checkbox' disabled><label for='attrs-9169fd9d-740d-4682-9f28-9e9157801b63' title='Show/Hide attributes'><svg class='icon xr-icon-file-text2'><use xlink:href='#icon-file-text2'></use></svg></label><input id='data-38006af2-74a3-4ebe-9433-62e2d56f62fb' class='xr-var-data-in' type='checkbox'><label for='data-38006af2-74a3-4ebe-9433-62e2d56f62fb' title='Show/Hide data repr'><svg class='icon xr-icon-database'><use xlink:href='#icon-database'></use></svg></label><div class='xr-var-attrs'><dl class='xr-attrs'></dl></div><div class='xr-var-data'><pre>[357404 values with dtype=float64]</pre></div></li><li class='xr-var-item'><div class='xr-var-name'><span>rnf_pis_TRA_b</span></div><div class='xr-var-dims'>(t, y, x)</div><div class='xr-var-dtype'>float64</div><div class='xr-var-preview xr-preview'>...</div><input id='attrs-ada37912-c334-45df-bf7a-5c4f8f1ffa56' class='xr-var-attrs-in' type='checkbox' disabled><label for='attrs-ada37912-c334-45df-bf7a-5c4f8f1ffa56' title='Show/Hide attributes'><svg class='icon xr-icon-file-text2'><use xlink:href='#icon-file-text2'></use></svg></label><input id='data-9fa9e1b5-a518-4408-a015-82411eb25091' class='xr-var-data-in' type='checkbox'><label for='data-9fa9e1b5-a518-4408-a015-82411eb25091' title='Show/Hide data repr'><svg class='icon xr-icon-database'><use xlink:href='#icon-database'></use></svg></label><div class='xr-var-attrs'><dl class='xr-attrs'></dl></div><div class='xr-var-data'><pre>[357404 values with dtype=float64]</pre></div></li><li class='xr-var-item'><div class='xr-var-name'><span>sbc_DIC_b</span></div><div class='xr-var-dims'>(t, y, x)</div><div class='xr-var-dtype'>float64</div><div class='xr-var-preview xr-preview'>...</div><input id='attrs-9a8d86a6-9ab9-4701-9131-25a21b958de3' class='xr-var-attrs-in' type='checkbox' disabled><label for='attrs-9a8d86a6-9ab9-4701-9131-25a21b958de3' title='Show/Hide attributes'><svg class='icon xr-icon-file-text2'><use xlink:href='#icon-file-text2'></use></svg></label><input id='data-12bbda8d-7a4f-4aed-9499-122d278ebf3a' class='xr-var-data-in' type='checkbox'><label for='data-12bbda8d-7a4f-4aed-9499-122d278ebf3a' title='Show/Hide data repr'><svg class='icon xr-icon-database'><use xlink:href='#icon-database'></use></svg></label><div class='xr-var-attrs'><dl class='xr-attrs'></dl></div><div class='xr-var-data'><pre>[357404 values with dtype=float64]</pre></div></li></ul></div></li><li class='xr-section-item'><input id='section-697b3cae-eb47-4bd5-8b58-81c7828896fe' class='xr-section-summary-in' type='checkbox' disabled ><label for='section-697b3cae-eb47-4bd5-8b58-81c7828896fe' class='xr-section-summary'  title='Expand/collapse section'>Indexes: <span>(0)</span></label><div class='xr-section-inline-details'></div><div class='xr-section-details'><ul class='xr-var-list'></ul></div></li><li class='xr-section-item'><input id='section-ef564f76-83d4-4fff-b878-83d90970ed4b' class='xr-section-summary-in' type='checkbox'  checked><label for='section-ef564f76-83d4-4fff-b878-83d90970ed4b' class='xr-section-summary' >Attributes: <span>(7)</span></label><div class='xr-section-inline-details'></div><div class='xr-section-details'><dl class='xr-attrs'><dt><span>Conventions :</span></dt><dd>CF-1.6</dd><dt><span>title :</span></dt><dd>All tracers for Bathymetry 202310b from nowcast-green 10aug19b, with N and Si inc.</dd><dt><span>institution :</span></dt><dd>Dept of Earth, Ocean &amp; Atmospheric Sciences, University of British Columbia</dd><dt><span>source :</span></dt><dd>REQUIRED</dd><dt><span>references :</span></dt><dd>REQUIRED</dd><dt><span>history :</span></dt><dd>[2023-10-29 21:15:55] Created netCDF4 zlib=True dataset.</dd><dt><span>comment :</span></dt><dd>All Tracers, physical and biological</dd></dl></div></li></ul></div></div>"
      ],
      "text/plain": [
       "<xarray.Dataset>\n",
       "Dimensions:         (t: 1, z: 40, y: 898, x: 398)\n",
       "Dimensions without coordinates: t, z, y, x\n",
       "Data variables: (12/104)\n",
       "    tn              (t, z, y, x) float64 ...\n",
       "    sn              (t, z, y, x) float64 ...\n",
       "    tb              (t, z, y, x) float64 ...\n",
       "    sb              (t, z, y, x) float64 ...\n",
       "    TRNDON          (t, z, y, x) float64 ...\n",
       "    TRNMICZ         (t, z, y, x) float64 ...\n",
       "    ...              ...\n",
       "    rnf_pis_bSi_b   (t, y, x) float64 ...\n",
       "    rnf_pis_TA_b    (t, y, x) float64 ...\n",
       "    sbc_MICZ_b      (t, y, x) float64 ...\n",
       "    rnf_pis_O2_b    (t, y, x) float64 ...\n",
       "    rnf_pis_TRA_b   (t, y, x) float64 ...\n",
       "    sbc_DIC_b       (t, y, x) float64 ...\n",
       "Attributes:\n",
       "    Conventions:  CF-1.6\n",
       "    title:        All tracers for Bathymetry 202310b from nowcast-green 10aug...\n",
       "    institution:  Dept of Earth, Ocean & Atmospheric Sciences, University of ...\n",
       "    source:       REQUIRED\n",
       "    references:   REQUIRED\n",
       "    history:      [2023-10-29 21:15:55] Created netCDF4 zlib=True dataset.\n",
       "    comment:      All Tracers, physical and biological"
      ]
     },
     "execution_count": 16,
     "metadata": {},
     "output_type": "execute_result"
    }
   ],
   "source": [
    "dfnew[var_phy_to_copy]=dfphy[var_phy_to_copy]\n",
    "dfnew[var_bio_to_copy]=dfbio[var_bio_to_copy]\n",
    "dfnew"
   ]
  },
  {
   "cell_type": "code",
   "execution_count": 17,
   "metadata": {},
   "outputs": [],
   "source": [
    "#dfnew.to_netcdf('restart_PHYBIO_13903920_10aug19_202310.nc', mode='w')\n",
    "dfnew.to_netcdf('restart_PHYBIO_13903920_10aug19_202310b.nc', mode='w')"
   ]
  },
  {
   "cell_type": "code",
   "execution_count": 23,
   "metadata": {},
   "outputs": [
    {
     "data": {
      "text/plain": [
       "(1, 40, 898, 398)"
      ]
     },
     "execution_count": 23,
     "metadata": {},
     "output_type": "execute_result"
    }
   ],
   "source": [
    "#\n",
    "Sn = dfnew.variables['sn']\n",
    "Sb = dfnew.variables['sb']\n",
    "Sn.shape"
   ]
  },
  {
   "cell_type": "code",
   "execution_count": 24,
   "metadata": {},
   "outputs": [
    {
     "data": {
      "text/plain": [
       "(1, 40, 898, 398)"
      ]
     },
     "execution_count": 24,
     "metadata": {},
     "output_type": "execute_result"
    }
   ],
   "source": [
    "kk = np.arange(1, 40)\n",
    "jj = np.arange(0, 898)\n",
    "ii = np.arange(0, 398)\n",
    "# box where changes took place (in all salish sea takes too much time, and not necessary I think)\n",
    "pointsi = np.arange(200, 250).astype(int)\n",
    "pointsj = np.arange(350, 380).astype(int)\n",
    "\n",
    "#SSn = np.ones((1, 40, 898, 398))\n",
    "for k in kk:\n",
    "    for j in pointsj:\n",
    "        for i in pointsi:\n",
    "            diffsn = Sn[:, k, j, i] - Sn[:, k-1, j, i]\n",
    "            if diffsn < 0:\n",
    "                Sn[:, k, j, i] = Sn[:, k-1, j, i]\n",
    "#            else:\n",
    "#                sn[:, k, j, i] = sn[:, k, j, i]\n",
    "\n",
    "Sn.shape\n"
   ]
  },
  {
   "cell_type": "code",
   "execution_count": 25,
   "metadata": {},
   "outputs": [
    {
     "data": {
      "text/plain": [
       "(1, 40, 898, 398)"
      ]
     },
     "execution_count": 25,
     "metadata": {},
     "output_type": "execute_result"
    }
   ],
   "source": [
    "for k in kk:\n",
    "    for j in pointsj:\n",
    "        for i in pointsi:\n",
    "            diffsb = Sb[:, k, j, i] - Sb[:, k-1, j, i]\n",
    "            if diffsb < 0:\n",
    "                Sb[:, k, j, i] = Sb[:, k-1, j, i]\n",
    "\n",
    "Sb.shape"
   ]
  },
  {
   "cell_type": "code",
   "execution_count": 26,
   "metadata": {},
   "outputs": [],
   "source": [
    "dfnew2 = dfnew\n",
    "dfnew2['sn'] = Sn\n",
    "dfnew2['sb'] = Sb\n"
   ]
  },
  {
   "cell_type": "code",
   "execution_count": 27,
   "metadata": {},
   "outputs": [],
   "source": [
    "#dfnew2.to_netcdf('restart_PHYBIO_13903920_10aug19_202310_snsbCorrected.nc', mode='w')\n",
    "dfnew2.to_netcdf('restart_PHYBIO_13903920_10aug19_202310b_snsbCorrected.nc', mode='w')"
   ]
  },
  {
   "cell_type": "code",
   "execution_count": 28,
   "metadata": {},
   "outputs": [],
   "source": [
    "#dfA = xr.open_dataset('restart_PHYBIO_13903920_10aug19_202310.nc')\n",
    "#dfB = xr.open_dataset('restart_PHYBIO_13903920_10aug19_202310_snsbCorrected.nc')\n",
    "dfA = xr.open_dataset('restart_PHYBIO_13903920_10aug19_202310b.nc')\n",
    "dfB = xr.open_dataset('restart_PHYBIO_13903920_10aug19_202310b_snsbCorrected.nc')\n",
    "snA = dfA['sn']\n",
    "snB = dfB['sn']"
   ]
  },
  {
   "cell_type": "code",
   "execution_count": 29,
   "metadata": {},
   "outputs": [
    {
     "data": {
      "text/plain": [
       "[<matplotlib.lines.Line2D at 0x7fb56f437490>]"
      ]
     },
     "execution_count": 29,
     "metadata": {},
     "output_type": "execute_result"
    },
    {
     "data": {
      "image/png": "[encoded data removed]",
      "text/plain": [
       "<Figure size 640x480 with 1 Axes>"
      ]
     },
     "metadata": {},
     "output_type": "display_data"
    }
   ],
   "source": [
    "import matplotlib.pyplot as plt\n",
    "plt.plot(snA[0, :30, 363, 235])\n",
    "plt.plot(snB[0, :30, 363, 235])\n"
   ]
  },
  {
   "cell_type": "code",
   "execution_count": null,
   "metadata": {},
   "outputs": [],
   "source": []
  }
 ],
 "metadata": {
  "anaconda-cloud": {},
  "kernelspec": {
   "display_name": "analysis-abdoul",
   "language": "python",
   "name": "python3"
  },
  "language_info": {
   "codemirror_mode": {
    "name": "ipython",
    "version": 3
   },
   "file_extension": ".py",
   "mimetype": "text/x-python",
   "name": "python",
   "nbconvert_exporter": "python",
   "pygments_lexer": "ipython3",
   "version": "3.11.3"
  },
  "toc": {
   "colors": {
    "hover_highlight": "#DAA520",
    "running_highlight": "#FF0000",
    "selected_highlight": "#FFD700"
   },
   "moveMenuLeft": true,
   "nav_menu": {
    "height": "12px",
    "width": "252px"
   },
   "navigate_menu": true,
   "number_sections": true,
   "sideBar": true,
   "threshold": 4,
   "toc_cell": false,
   "toc_section_display": "block",
   "toc_window_display": true,
   "widenNotebook": false
  }
 },
 "nbformat": 4,
 "nbformat_minor": 4
}
