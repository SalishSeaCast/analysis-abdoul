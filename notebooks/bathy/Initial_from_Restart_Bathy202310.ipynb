{
 "cells": [
  {
   "cell_type": "markdown",
   "metadata": {},
   "source": [
    "Create a TS+biology tracers initial file for one bathymetry based on a restart file from a different bathymetry"
   ]
  },
  {
   "cell_type": "code",
   "execution_count": 3,
   "metadata": {},
   "outputs": [],
   "source": [
    "import netCDF4 as nc\n",
    "import xarray as xr\n",
    "import numpy as np \n",
    "\n",
    "from salishsea_tools import nc_tools\n",
    "\n",
    "%matplotlib inline"
   ]
  },
  {
   "cell_type": "markdown",
   "metadata": {},
   "source": [
    "# New Bathymetry (via its mesh mask)"
   ]
  },
  {
   "cell_type": "code",
   "execution_count": null,
   "metadata": {},
   "outputs": [],
   "source": [
    "mesh = nc.Dataset('/ocean/atall/MOAD/analysis-abdoul/notebooks/bathy/mesh_mask_202310.nc')\n",
    "mbathy = mesh.variables['mbathy'][0,:,:]\n",
    "#used to calculate number of vertical ocean grid cells at each (i,j) (1=land point)\n",
    "gdepw = mesh.variables['gdepw_0'][0,:,:,:]\n",
    "surface_tmask = mesh.variables['tmask'][0,0,:,:]\n",
    "surface_tmask = np.abs(surface_tmask-1)\n",
    "tmask = mesh.variables['tmask'][0,:,:,:]\n",
    "tmask = np.abs(tmask-1)\n",
    "lats = mesh.variables['nav_lat'][:]\n",
    "lons = mesh.variables['nav_lon'][:]\n",
    "mesh.close()"
   ]
  },
  {
   "cell_type": "code",
   "execution_count": null,
   "metadata": {},
   "outputs": [],
   "source": [
    "# calculate bathymetry based on meshmask\n",
    "NEMO_bathy = np.zeros(mbathy.shape)\n",
    "for i in range(NEMO_bathy.shape[1]):\n",
    "    for j in range(NEMO_bathy.shape[0]):\n",
    "        level = mbathy[j,i]\n",
    "        NEMO_bathy[j,i] = gdepw[level,j,i]\n",
    "NEMO_bathy = np.ma.masked_array(NEMO_bathy, mask = surface_tmask)"
   ]
  },
  {
   "cell_type": "markdown",
   "metadata": {},
   "source": [
    "# Old Bathymetry (based on its mesh mask)"
   ]
  },
  {
   "cell_type": "code",
   "execution_count": null,
   "metadata": {},
   "outputs": [],
   "source": [
    "oldmesh = nc.Dataset('/ocean/atall/MOAD/grid/mesh_mask202108.nc')\n",
    "oldmbathy =oldmesh.variables['mbathy'][0,:,:] \n",
    "#used to calculate number of vertical ocean grid cells at each (i,j) (1=land point)\n",
    "oldgdepw = oldmesh.variables['gdepw_0'][0,:,:,:]\n",
    "oldsurface_tmask = oldmesh.variables['tmask'][0,0,:,:]\n",
    "oldsurface_tmask = np.abs(oldsurface_tmask-1)\n",
    "oldtmask = oldmesh.variables['tmask'][0,:,:,:]\n",
    "oldtmask = np.abs(oldtmask-1)\n",
    "oldmesh.close()"
   ]
  },
  {
   "cell_type": "code",
   "execution_count": null,
   "metadata": {},
   "outputs": [],
   "source": [
    "np.max(oldmbathy)"
   ]
  },
  {
   "cell_type": "markdown",
   "metadata": {},
   "source": [
    "# Restart Files to Get Tracers (TS and Biology)"
   ]
  },
  {
   "cell_type": "code",
   "execution_count": null,
   "metadata": {},
   "outputs": [],
   "source": [
    "#dataphys = nc.Dataset('/results2/SalishSea/nowcast-green.201905/31oct14/SalishSea_03021840_restart.nc')\n",
    "#databio = nc.Dataset('/home/sallen/MEOPAR/ANALYSIS/analysis-susan/notebooks/Hindcast_202007/SalishSea_ZCil_lowNSi_03021840_restart_trc.nc')\n",
    "\n",
    "dataphys = nc.Dataset('/results2/SalishSea/nowcast-green.202111/10aug19/SalishSea_13903920_restart.nc')\n",
    "databio = nc.Dataset('/results2/SalishSea/nowcast-green.202111/10aug19/SalishSea_13903920_restart_trc.nc')   "
   ]
  },
  {
   "cell_type": "code",
   "execution_count": null,
   "metadata": {},
   "outputs": [],
   "source": [
    "physical = ['tn', 'sn',\n",
    "           'tb', 'sb']\n",
    "biological = ['TRNDON', 'TRNMICZ','TRNMYRI','TRNNH4','TRNNO3','TRNTRA',\n",
    "              'TRNPHY','TRNDIAT','TRNPON','TRNSi','TRNbSi',\n",
    "              'TRNDIC', 'TRNTA', 'TRNO2',\n",
    "             'TRBDON', 'TRBMICZ','TRBMYRI','TRBNH4','TRBNO3','TRBTRA',\n",
    "              'TRBPHY','TRBDIAT','TRBPON','TRBSi','TRBbSi',\n",
    "             'TRBDIC', 'TRBTA', 'TRBO2']\n",
    "varas = {}\n",
    "for vb in physical:\n",
    "    varas[vb] = dataphys.variables[vb][0, :]\n",
    "for vb in biological:\n",
    "    print (vb)\n",
    "    varas[vb] = databio.variables[vb][0, :]\n",
    "#dataphys.close()\n",
    "#databio.close()\n",
    "varall = physical + biological"
   ]
  },
  {
   "cell_type": "markdown",
   "metadata": {},
   "source": [
    "# Fill in any Missing Data Points"
   ]
  },
  {
   "cell_type": "code",
   "execution_count": null,
   "metadata": {},
   "outputs": [],
   "source": [
    "def find_mean(varas, varall, i, j, k, dd, oldtmask):\n",
    "    for vb in varall:\n",
    "        imin = max(i-dd, 0)\n",
    "        imax = min(i+dd, 897)\n",
    "        jmin = max(j-dd, 0)\n",
    "        jmax = min(j+dd, 397)\n",
    "        temporary = np.sum(varas[vb][k, imin:imax+1, jmin:jmax+1]*(1-oldtmask[k, imin:imax+1, jmin:jmax+1]))\n",
    "        count = np.sum(1-oldtmask[k, imin:imax+1, jmin:jmax+1])\n",
    "        if count == 0:\n",
    "            varas[vb][k, i, j] = 0\n",
    "        else:\n",
    "            varas[vb][k, i, j] = temporary/count\n",
    "    return varas"
   ]
  },
  {
   "cell_type": "code",
   "execution_count": null,
   "metadata": {},
   "outputs": [],
   "source": [
    "def fillit(kmax, oldtmask, varas, varall):\n",
    "    dd = 1\n",
    "    bad = 1\n",
    "    while bad > 0:\n",
    "        dd += 1\n",
    "        good = 1\n",
    "        while good > 0:\n",
    "            good = 0; bad = 0; already = 0\n",
    "            for k in range(kmax+1):\n",
    "                for i in range(1, 898):\n",
    "                    for j in range(1, 398):\n",
    "                        if tmask[k,i,j] < oldtmask[k,i,j]:\n",
    "                            if varas['sn'][k, i, j] > 0:\n",
    "                                already = already + 1\n",
    "                            else:\n",
    "                                varas = find_mean(varas, varall, i, j, k, dd, oldtmask)\n",
    "                                if varas['sn'][k, i, j] > 0:\n",
    "                                    good = good + 1\n",
    "                                else:\n",
    "                                    bad = bad + 1\n",
    "                                    if dd > 5:\n",
    "                                        print (k, i, j)\n",
    "            print ('dd', dd, 'good', good)\n",
    "            print ('already', already, 'bad', bad)"
   ]
  },
  {
   "cell_type": "markdown",
   "metadata": {},
   "source": [
    "This can take a very long time if the bathymetries are very different, aka add a new long river.  If you want you can do it in pieces by starting with the first argument at say 5 and then slowly increasing it.  You do need to go to 39 finally. For new bathy201702 versus old bathy201702 its fast."
   ]
  },
  {
   "cell_type": "code",
   "execution_count": null,
   "metadata": {},
   "outputs": [],
   "source": [
    "fillit(39, oldtmask, varas, varall)"
   ]
  },
  {
   "cell_type": "markdown",
   "metadata": {},
   "source": [
    "# Write your Initial File"
   ]
  },
  {
   "cell_type": "code",
   "execution_count": null,
   "metadata": {},
   "outputs": [],
   "source": [
    "# build nc file\n",
    "new_initialfile = nc.Dataset('restart_phybio_13903920_10aug19.nc', 'w')\n",
    "nc_tools.init_dataset_attrs(\n",
    "    new_initialfile, \n",
    "    title='All tracers for Bathymetry 202310 from nowcast-green 10aug19, with N and Si inc.', \n",
    "    notebook_name='/ocean/atall/MOAD/analysis-abdoul/notebooks/bathy/Initial_from_Restart_Bathy202108_from-Susan', \n",
    "    nc_filepath='/ocean/atall/MOAD/analysis-abdoul/notebooks/bathy/Bathy202108_10aug19.nc',\n",
    "    comment='All Tracers, physical and biological')\n",
    "new_initialfile.createDimension('y', 898)\n",
    "new_initialfile.createDimension('x', 398)\n",
    "new_initialfile.createDimension('z', 40)\n",
    "new_initialfile.createDimension('t', None)"
   ]
  },
  {
   "cell_type": "code",
   "execution_count": null,
   "metadata": {},
   "outputs": [],
   "source": [
    "thevara = {}\n",
    "for vb in varall:\n",
    "    thevara[vb] = new_initialfile.createVariable(\n",
    "        vb, 'float64', ('t', 'z', 'y', 'x'), zlib=True,\n",
    "        least_significant_digit=1e-5, fill_value=-99)\n",
    "    thevara[vb][0] = varas[vb]\n",
    "    print (vb, np.max(thevara[vb]))\n",
    "new_initialfile"
   ]
  },
  {
   "cell_type": "code",
   "execution_count": null,
   "metadata": {},
   "outputs": [],
   "source": [
    "new_initialfile.close()"
   ]
  },
  {
   "cell_type": "markdown",
   "metadata": {},
   "source": [
    "# Copy variables in the old restart files to the new one"
   ]
  },
  {
   "cell_type": "code",
   "execution_count": 1,
   "metadata": {},
   "outputs": [],
   "source": [
    "var_phy_to_copy = {'nav_lon','nav_lat','nav_lev','time_counter','rnf_b', 'sfx_b', 'rotn', 'vtau_b', 'rdttra1', 'avt', 'nav_lon', 'qns_b', 'vn', 'hdivn', 'time_counter', 'en', 'hdivb', 'sshb', 'rhop', 'ndastp', 'adatrj', 'fse3t_n', 'ssh_ibb', 'avm', 'avmu', 'mxln', 'sshn', 'sbc_sc_b', 'nav_lev', 'emp_b', 'qsr_hc_b', 'sbc_hc_b', 'rnf_sc_b', 'vb2_b', 'ub2_b', 'nav_lat', 'ub', 'rotb', 'fse3t_b', 'un', 'rdt', 'utau_b', 'fraqsr_1lev', 'avmv', 'vb', 'kt', 'rnf_hc_b'}\n",
    "var_bio_to_copy = {'rnf_pis_DIC_b', 'rnf_pis_MYRI_b', 'sbc_DON_b', 'sbc_bSi_b', 'nav_lon', 'rnf_pis_PON_b', 'rnf_pis_PHY_b', 'time_counter', 'rnf_pis_MICZ_b', 'sbc_TA_b', 'rdttrc1', 'rnf_pis_TRA_b', 'ndastp', 'sbc_Si_b', 'rnf_pis_TA_b', 'adatrj', 'rnf_pis_bSi_b', 'sbc_PHY_b', 'nav_lev', 'sbc_DIC_b', 'sbc_DIAT_b', 'sbc_O2_b', 'sbc_MYRI_b', 'rnf_pis_NO3_b', 'rnf_pis_DON_b', 'sbc_MICZ_b', 'sbc_PON_b', 'sbc_NH4_b', 'rnf_pis_O2_b', 'nav_lat', 'sbc_TRA_b', 'kt', 'rnf_pis_DIAT_b', 'rnf_pis_Si_b', 'rnf_pis_NH4_b', 'sbc_NO3_b'}"
   ]
  },
  {
   "cell_type": "code",
   "execution_count": 27,
   "metadata": {},
   "outputs": [],
   "source": [
    "dfphy = xr.open_dataset('SalishSea_13903920_restart.nc') # Copy from /results2/SalishSea/nowcast-green.202111/10aug19/\n",
    "dfbio = xr.open_dataset('SalishSea_13903920_restart_trc.nc') # same as above\n",
    "dfnew = xr.open_dataset('restart_phybio_13903920_10aug19.nc')"
   ]
  },
  {
   "cell_type": "code",
   "execution_count": 28,
   "metadata": {},
   "outputs": [
    {
     "data": {
      "text/html": [
       "<div><svg style=\"position: absolute; width: 0; height: 0; overflow: hidden\">\n",
       "<defs>\n",
       "<symbol id=\"icon-database\" viewBox=\"0 0 32 32\">\n",
       "<path d=\"M16 0c-8.837 0-16 2.239-16 5v4c0 2.761 7.163 5 16 5s16-2.239 16-5v-4c0-2.761-7.163-5-16-5z\"></path>\n",
       "<path d=\"M16 17c-8.837 0-16-2.239-16-5v6c0 2.761 7.163 5 16 5s16-2.239 16-5v-6c0 2.761-7.163 5-16 5z\"></path>\n",
       "<path d=\"M16 26c-8.837 0-16-2.239-16-5v6c0 2.761 7.163 5 16 5s16-2.239 16-5v-6c0 2.761-7.163 5-16 5z\"></path>\n",
       "</symbol>\n",
       "<symbol id=\"icon-file-text2\" viewBox=\"0 0 32 32\">\n",
       "<path d=\"M28.681 7.159c-0.694-0.947-1.662-2.053-2.724-3.116s-2.169-2.030-3.116-2.724c-1.612-1.182-2.393-1.319-2.841-1.319h-15.5c-1.378 0-2.5 1.121-2.5 2.5v27c0 1.378 1.122 2.5 2.5 2.5h23c1.378 0 2.5-1.122 2.5-2.5v-19.5c0-0.448-0.137-1.23-1.319-2.841zM24.543 5.457c0.959 0.959 1.712 1.825 2.268 2.543h-4.811v-4.811c0.718 0.556 1.584 1.309 2.543 2.268zM28 29.5c0 0.271-0.229 0.5-0.5 0.5h-23c-0.271 0-0.5-0.229-0.5-0.5v-27c0-0.271 0.229-0.5 0.5-0.5 0 0 15.499-0 15.5 0v7c0 0.552 0.448 1 1 1h7v19.5z\"></path>\n",
       "<path d=\"M23 26h-14c-0.552 0-1-0.448-1-1s0.448-1 1-1h14c0.552 0 1 0.448 1 1s-0.448 1-1 1z\"></path>\n",
       "<path d=\"M23 22h-14c-0.552 0-1-0.448-1-1s0.448-1 1-1h14c0.552 0 1 0.448 1 1s-0.448 1-1 1z\"></path>\n",
       "<path d=\"M23 18h-14c-0.552 0-1-0.448-1-1s0.448-1 1-1h14c0.552 0 1 0.448 1 1s-0.448 1-1 1z\"></path>\n",
       "</symbol>\n",
       "</defs>\n",
       "</svg>\n",
       "<style>/* CSS stylesheet for displaying xarray objects in jupyterlab.\n",
       " *\n",
       " */\n",
       "\n",
       ":root {\n",
       "  --xr-font-color0: var(--jp-content-font-color0, rgba(0, 0, 0, 1));\n",
       "  --xr-font-color2: var(--jp-content-font-color2, rgba(0, 0, 0, 0.54));\n",
       "  --xr-font-color3: var(--jp-content-font-color3, rgba(0, 0, 0, 0.38));\n",
       "  --xr-border-color: var(--jp-border-color2, #e0e0e0);\n",
       "  --xr-disabled-color: var(--jp-layout-color3, #bdbdbd);\n",
       "  --xr-background-color: var(--jp-layout-color0, white);\n",
       "  --xr-background-color-row-even: var(--jp-layout-color1, white);\n",
       "  --xr-background-color-row-odd: var(--jp-layout-color2, #eeeeee);\n",
       "}\n",
       "\n",
       "html[theme=dark],\n",
       "body[data-theme=dark],\n",
       "body.vscode-dark {\n",
       "  --xr-font-color0: rgba(255, 255, 255, 1);\n",
       "  --xr-font-color2: rgba(255, 255, 255, 0.54);\n",
       "  --xr-font-color3: rgba(255, 255, 255, 0.38);\n",
       "  --xr-border-color: #1F1F1F;\n",
       "  --xr-disabled-color: #515151;\n",
       "  --xr-background-color: #111111;\n",
       "  --xr-background-color-row-even: #111111;\n",
       "  --xr-background-color-row-odd: #313131;\n",
       "}\n",
       "\n",
       ".xr-wrap {\n",
       "  display: block !important;\n",
       "  min-width: 300px;\n",
       "  max-width: 700px;\n",
       "}\n",
       "\n",
       ".xr-text-repr-fallback {\n",
       "  /* fallback to plain text repr when CSS is not injected (untrusted notebook) */\n",
       "  display: none;\n",
       "}\n",
       "\n",
       ".xr-header {\n",
       "  padding-top: 6px;\n",
       "  padding-bottom: 6px;\n",
       "  margin-bottom: 4px;\n",
       "  border-bottom: solid 1px var(--xr-border-color);\n",
       "}\n",
       "\n",
       ".xr-header > div,\n",
       ".xr-header > ul {\n",
       "  display: inline;\n",
       "  margin-top: 0;\n",
       "  margin-bottom: 0;\n",
       "}\n",
       "\n",
       ".xr-obj-type,\n",
       ".xr-array-name {\n",
       "  margin-left: 2px;\n",
       "  margin-right: 10px;\n",
       "}\n",
       "\n",
       ".xr-obj-type {\n",
       "  color: var(--xr-font-color2);\n",
       "}\n",
       "\n",
       ".xr-sections {\n",
       "  padding-left: 0 !important;\n",
       "  display: grid;\n",
       "  grid-template-columns: 150px auto auto 1fr 20px 20px;\n",
       "}\n",
       "\n",
       ".xr-section-item {\n",
       "  display: contents;\n",
       "}\n",
       "\n",
       ".xr-section-item input {\n",
       "  display: none;\n",
       "}\n",
       "\n",
       ".xr-section-item input + label {\n",
       "  color: var(--xr-disabled-color);\n",
       "}\n",
       "\n",
       ".xr-section-item input:enabled + label {\n",
       "  cursor: pointer;\n",
       "  color: var(--xr-font-color2);\n",
       "}\n",
       "\n",
       ".xr-section-item input:enabled + label:hover {\n",
       "  color: var(--xr-font-color0);\n",
       "}\n",
       "\n",
       ".xr-section-summary {\n",
       "  grid-column: 1;\n",
       "  color: var(--xr-font-color2);\n",
       "  font-weight: 500;\n",
       "}\n",
       "\n",
       ".xr-section-summary > span {\n",
       "  display: inline-block;\n",
       "  padding-left: 0.5em;\n",
       "}\n",
       "\n",
       ".xr-section-summary-in:disabled + label {\n",
       "  color: var(--xr-font-color2);\n",
       "}\n",
       "\n",
       ".xr-section-summary-in + label:before {\n",
       "  display: inline-block;\n",
       "  content: '►';\n",
       "  font-size: 11px;\n",
       "  width: 15px;\n",
       "  text-align: center;\n",
       "}\n",
       "\n",
       ".xr-section-summary-in:disabled + label:before {\n",
       "  color: var(--xr-disabled-color);\n",
       "}\n",
       "\n",
       ".xr-section-summary-in:checked + label:before {\n",
       "  content: '▼';\n",
       "}\n",
       "\n",
       ".xr-section-summary-in:checked + label > span {\n",
       "  display: none;\n",
       "}\n",
       "\n",
       ".xr-section-summary,\n",
       ".xr-section-inline-details {\n",
       "  padding-top: 4px;\n",
       "  padding-bottom: 4px;\n",
       "}\n",
       "\n",
       ".xr-section-inline-details {\n",
       "  grid-column: 2 / -1;\n",
       "}\n",
       "\n",
       ".xr-section-details {\n",
       "  display: none;\n",
       "  grid-column: 1 / -1;\n",
       "  margin-bottom: 5px;\n",
       "}\n",
       "\n",
       ".xr-section-summary-in:checked ~ .xr-section-details {\n",
       "  display: contents;\n",
       "}\n",
       "\n",
       ".xr-array-wrap {\n",
       "  grid-column: 1 / -1;\n",
       "  display: grid;\n",
       "  grid-template-columns: 20px auto;\n",
       "}\n",
       "\n",
       ".xr-array-wrap > label {\n",
       "  grid-column: 1;\n",
       "  vertical-align: top;\n",
       "}\n",
       "\n",
       ".xr-preview {\n",
       "  color: var(--xr-font-color3);\n",
       "}\n",
       "\n",
       ".xr-array-preview,\n",
       ".xr-array-data {\n",
       "  padding: 0 5px !important;\n",
       "  grid-column: 2;\n",
       "}\n",
       "\n",
       ".xr-array-data,\n",
       ".xr-array-in:checked ~ .xr-array-preview {\n",
       "  display: none;\n",
       "}\n",
       "\n",
       ".xr-array-in:checked ~ .xr-array-data,\n",
       ".xr-array-preview {\n",
       "  display: inline-block;\n",
       "}\n",
       "\n",
       ".xr-dim-list {\n",
       "  display: inline-block !important;\n",
       "  list-style: none;\n",
       "  padding: 0 !important;\n",
       "  margin: 0;\n",
       "}\n",
       "\n",
       ".xr-dim-list li {\n",
       "  display: inline-block;\n",
       "  padding: 0;\n",
       "  margin: 0;\n",
       "}\n",
       "\n",
       ".xr-dim-list:before {\n",
       "  content: '(';\n",
       "}\n",
       "\n",
       ".xr-dim-list:after {\n",
       "  content: ')';\n",
       "}\n",
       "\n",
       ".xr-dim-list li:not(:last-child):after {\n",
       "  content: ',';\n",
       "  padding-right: 5px;\n",
       "}\n",
       "\n",
       ".xr-has-index {\n",
       "  font-weight: bold;\n",
       "}\n",
       "\n",
       ".xr-var-list,\n",
       ".xr-var-item {\n",
       "  display: contents;\n",
       "}\n",
       "\n",
       ".xr-var-item > div,\n",
       ".xr-var-item label,\n",
       ".xr-var-item > .xr-var-name span {\n",
       "  background-color: var(--xr-background-color-row-even);\n",
       "  margin-bottom: 0;\n",
       "}\n",
       "\n",
       ".xr-var-item > .xr-var-name:hover span {\n",
       "  padding-right: 5px;\n",
       "}\n",
       "\n",
       ".xr-var-list > li:nth-child(odd) > div,\n",
       ".xr-var-list > li:nth-child(odd) > label,\n",
       ".xr-var-list > li:nth-child(odd) > .xr-var-name span {\n",
       "  background-color: var(--xr-background-color-row-odd);\n",
       "}\n",
       "\n",
       ".xr-var-name {\n",
       "  grid-column: 1;\n",
       "}\n",
       "\n",
       ".xr-var-dims {\n",
       "  grid-column: 2;\n",
       "}\n",
       "\n",
       ".xr-var-dtype {\n",
       "  grid-column: 3;\n",
       "  text-align: right;\n",
       "  color: var(--xr-font-color2);\n",
       "}\n",
       "\n",
       ".xr-var-preview {\n",
       "  grid-column: 4;\n",
       "}\n",
       "\n",
       ".xr-index-preview {\n",
       "  grid-column: 2 / 5;\n",
       "  color: var(--xr-font-color2);\n",
       "}\n",
       "\n",
       ".xr-var-name,\n",
       ".xr-var-dims,\n",
       ".xr-var-dtype,\n",
       ".xr-preview,\n",
       ".xr-attrs dt {\n",
       "  white-space: nowrap;\n",
       "  overflow: hidden;\n",
       "  text-overflow: ellipsis;\n",
       "  padding-right: 10px;\n",
       "}\n",
       "\n",
       ".xr-var-name:hover,\n",
       ".xr-var-dims:hover,\n",
       ".xr-var-dtype:hover,\n",
       ".xr-attrs dt:hover {\n",
       "  overflow: visible;\n",
       "  width: auto;\n",
       "  z-index: 1;\n",
       "}\n",
       "\n",
       ".xr-var-attrs,\n",
       ".xr-var-data,\n",
       ".xr-index-data {\n",
       "  display: none;\n",
       "  background-color: var(--xr-background-color) !important;\n",
       "  padding-bottom: 5px !important;\n",
       "}\n",
       "\n",
       ".xr-var-attrs-in:checked ~ .xr-var-attrs,\n",
       ".xr-var-data-in:checked ~ .xr-var-data,\n",
       ".xr-index-data-in:checked ~ .xr-index-data {\n",
       "  display: block;\n",
       "}\n",
       "\n",
       ".xr-var-data > table {\n",
       "  float: right;\n",
       "}\n",
       "\n",
       ".xr-var-name span,\n",
       ".xr-var-data,\n",
       ".xr-index-name div,\n",
       ".xr-index-data,\n",
       ".xr-attrs {\n",
       "  padding-left: 25px !important;\n",
       "}\n",
       "\n",
       ".xr-attrs,\n",
       ".xr-var-attrs,\n",
       ".xr-var-data,\n",
       ".xr-index-data {\n",
       "  grid-column: 1 / -1;\n",
       "}\n",
       "\n",
       "dl.xr-attrs {\n",
       "  padding: 0;\n",
       "  margin: 0;\n",
       "  display: grid;\n",
       "  grid-template-columns: 125px auto;\n",
       "}\n",
       "\n",
       ".xr-attrs dt,\n",
       ".xr-attrs dd {\n",
       "  padding: 0;\n",
       "  margin: 0;\n",
       "  float: left;\n",
       "  padding-right: 10px;\n",
       "  width: auto;\n",
       "}\n",
       "\n",
       ".xr-attrs dt {\n",
       "  font-weight: normal;\n",
       "  grid-column: 1;\n",
       "}\n",
       "\n",
       ".xr-attrs dt:hover span {\n",
       "  display: inline-block;\n",
       "  background: var(--xr-background-color);\n",
       "  padding-right: 10px;\n",
       "}\n",
       "\n",
       ".xr-attrs dd {\n",
       "  grid-column: 2;\n",
       "  white-space: pre-wrap;\n",
       "  word-break: break-all;\n",
       "}\n",
       "\n",
       ".xr-icon-database,\n",
       ".xr-icon-file-text2,\n",
       ".xr-no-icon {\n",
       "  display: inline-block;\n",
       "  vertical-align: middle;\n",
       "  width: 1em;\n",
       "  height: 1.5em !important;\n",
       "  stroke-width: 0;\n",
       "  stroke: currentColor;\n",
       "  fill: currentColor;\n",
       "}\n",
       "</style><pre class='xr-text-repr-fallback'>&lt;xarray.Dataset&gt;\n",
       "Dimensions:         (t: 1, z: 40, y: 898, x: 398)\n",
       "Dimensions without coordinates: t, z, y, x\n",
       "Data variables: (12/104)\n",
       "    tn              (t, z, y, x) float64 ...\n",
       "    sn              (t, z, y, x) float64 ...\n",
       "    tb              (t, z, y, x) float64 ...\n",
       "    sb              (t, z, y, x) float64 ...\n",
       "    TRNDON          (t, z, y, x) float64 ...\n",
       "    TRNMICZ         (t, z, y, x) float64 ...\n",
       "    ...              ...\n",
       "    sbc_O2_b        (t, y, x) float64 ...\n",
       "    rnf_pis_DIAT_b  (t, y, x) float64 ...\n",
       "    rnf_pis_TRA_b   (t, y, x) float64 ...\n",
       "    sbc_TA_b        (t, y, x) float64 ...\n",
       "    sbc_NH4_b       (t, y, x) float64 ...\n",
       "    sbc_bSi_b       (t, y, x) float64 ...\n",
       "Attributes:\n",
       "    Conventions:  CF-1.6\n",
       "    title:        All tracers for Bathymetry 202310 from nowcast-green 10aug1...\n",
       "    institution:  Dept of Earth, Ocean &amp; Atmospheric Sciences, University of ...\n",
       "    source:       REQUIRED\n",
       "    references:   REQUIRED\n",
       "    history:      [2023-10-25 18:30:34] Created netCDF4 zlib=True dataset.\n",
       "    comment:      All Tracers, physical and biological</pre><div class='xr-wrap' style='display:none'><div class='xr-header'><div class='xr-obj-type'>xarray.Dataset</div></div><ul class='xr-sections'><li class='xr-section-item'><input id='section-e8272ebb-6c36-4ddd-ba31-cbaee791628a' class='xr-section-summary-in' type='checkbox' disabled ><label for='section-e8272ebb-6c36-4ddd-ba31-cbaee791628a' class='xr-section-summary'  title='Expand/collapse section'>Dimensions:</label><div class='xr-section-inline-details'><ul class='xr-dim-list'><li><span>t</span>: 1</li><li><span>z</span>: 40</li><li><span>y</span>: 898</li><li><span>x</span>: 398</li></ul></div><div class='xr-section-details'></div></li><li class='xr-section-item'><input id='section-7df3812f-6ed8-466f-aa39-ef7e591941d6' class='xr-section-summary-in' type='checkbox' disabled ><label for='section-7df3812f-6ed8-466f-aa39-ef7e591941d6' class='xr-section-summary'  title='Expand/collapse section'>Coordinates: <span>(0)</span></label><div class='xr-section-inline-details'></div><div class='xr-section-details'><ul class='xr-var-list'></ul></div></li><li class='xr-section-item'><input id='section-50f7f492-9150-4f68-8ade-8c5ed1a6f357' class='xr-section-summary-in' type='checkbox'  ><label for='section-50f7f492-9150-4f68-8ade-8c5ed1a6f357' class='xr-section-summary' >Data variables: <span>(104)</span></label><div class='xr-section-inline-details'></div><div class='xr-section-details'><ul class='xr-var-list'><li class='xr-var-item'><div class='xr-var-name'><span>tn</span></div><div class='xr-var-dims'>(t, z, y, x)</div><div class='xr-var-dtype'>float64</div><div class='xr-var-preview xr-preview'>...</div><input id='attrs-895b4cf3-4636-4885-abd6-d2843c31445b' class='xr-var-attrs-in' type='checkbox' disabled><label for='attrs-895b4cf3-4636-4885-abd6-d2843c31445b' title='Show/Hide attributes'><svg class='icon xr-icon-file-text2'><use xlink:href='#icon-file-text2'></use></svg></label><input id='data-5a602405-b446-4b82-9678-9db10e36b751' class='xr-var-data-in' type='checkbox'><label for='data-5a602405-b446-4b82-9678-9db10e36b751' title='Show/Hide data repr'><svg class='icon xr-icon-database'><use xlink:href='#icon-database'></use></svg></label><div class='xr-var-attrs'><dl class='xr-attrs'></dl></div><div class='xr-var-data'><pre>[14296160 values with dtype=float64]</pre></div></li><li class='xr-var-item'><div class='xr-var-name'><span>sn</span></div><div class='xr-var-dims'>(t, z, y, x)</div><div class='xr-var-dtype'>float64</div><div class='xr-var-preview xr-preview'>...</div><input id='attrs-0bea749f-c8c4-46ba-9f70-0d3ee459b0de' class='xr-var-attrs-in' type='checkbox' disabled><label for='attrs-0bea749f-c8c4-46ba-9f70-0d3ee459b0de' title='Show/Hide attributes'><svg class='icon xr-icon-file-text2'><use xlink:href='#icon-file-text2'></use></svg></label><input id='data-88f1ba03-157d-49c9-a8c4-aa024b6175d8' class='xr-var-data-in' type='checkbox'><label for='data-88f1ba03-157d-49c9-a8c4-aa024b6175d8' title='Show/Hide data repr'><svg class='icon xr-icon-database'><use xlink:href='#icon-database'></use></svg></label><div class='xr-var-attrs'><dl class='xr-attrs'></dl></div><div class='xr-var-data'><pre>[14296160 values with dtype=float64]</pre></div></li><li class='xr-var-item'><div class='xr-var-name'><span>tb</span></div><div class='xr-var-dims'>(t, z, y, x)</div><div class='xr-var-dtype'>float64</div><div class='xr-var-preview xr-preview'>...</div><input id='attrs-e0b020bf-6174-447f-8e9e-be7b8be36f68' class='xr-var-attrs-in' type='checkbox' disabled><label for='attrs-e0b020bf-6174-447f-8e9e-be7b8be36f68' title='Show/Hide attributes'><svg class='icon xr-icon-file-text2'><use xlink:href='#icon-file-text2'></use></svg></label><input id='data-9be13967-54db-4408-bf70-ed7f49ed0da3' class='xr-var-data-in' type='checkbox'><label for='data-9be13967-54db-4408-bf70-ed7f49ed0da3' title='Show/Hide data repr'><svg class='icon xr-icon-database'><use xlink:href='#icon-database'></use></svg></label><div class='xr-var-attrs'><dl class='xr-attrs'></dl></div><div class='xr-var-data'><pre>[14296160 values with dtype=float64]</pre></div></li><li class='xr-var-item'><div class='xr-var-name'><span>sb</span></div><div class='xr-var-dims'>(t, z, y, x)</div><div class='xr-var-dtype'>float64</div><div class='xr-var-preview xr-preview'>...</div><input id='attrs-1cba1d3e-fc1e-4da0-893c-82ee55ffaa59' class='xr-var-attrs-in' type='checkbox' disabled><label for='attrs-1cba1d3e-fc1e-4da0-893c-82ee55ffaa59' title='Show/Hide attributes'><svg class='icon xr-icon-file-text2'><use xlink:href='#icon-file-text2'></use></svg></label><input id='data-820657ec-9e67-47b9-bc8b-e0d9a4185119' class='xr-var-data-in' type='checkbox'><label for='data-820657ec-9e67-47b9-bc8b-e0d9a4185119' title='Show/Hide data repr'><svg class='icon xr-icon-database'><use xlink:href='#icon-database'></use></svg></label><div class='xr-var-attrs'><dl class='xr-attrs'></dl></div><div class='xr-var-data'><pre>[14296160 values with dtype=float64]</pre></div></li><li class='xr-var-item'><div class='xr-var-name'><span>TRNDON</span></div><div class='xr-var-dims'>(t, z, y, x)</div><div class='xr-var-dtype'>float64</div><div class='xr-var-preview xr-preview'>...</div><input id='attrs-0fcc4386-9294-4f8b-aea8-c09d8ba01c61' class='xr-var-attrs-in' type='checkbox' disabled><label for='attrs-0fcc4386-9294-4f8b-aea8-c09d8ba01c61' title='Show/Hide attributes'><svg class='icon xr-icon-file-text2'><use xlink:href='#icon-file-text2'></use></svg></label><input id='data-505c32fa-017f-4b18-9a52-0277fe82f806' class='xr-var-data-in' type='checkbox'><label for='data-505c32fa-017f-4b18-9a52-0277fe82f806' title='Show/Hide data repr'><svg class='icon xr-icon-database'><use xlink:href='#icon-database'></use></svg></label><div class='xr-var-attrs'><dl class='xr-attrs'></dl></div><div class='xr-var-data'><pre>[14296160 values with dtype=float64]</pre></div></li><li class='xr-var-item'><div class='xr-var-name'><span>TRNMICZ</span></div><div class='xr-var-dims'>(t, z, y, x)</div><div class='xr-var-dtype'>float64</div><div class='xr-var-preview xr-preview'>...</div><input id='attrs-b410e888-367c-4242-93d5-3765c5b479b2' class='xr-var-attrs-in' type='checkbox' disabled><label for='attrs-b410e888-367c-4242-93d5-3765c5b479b2' title='Show/Hide attributes'><svg class='icon xr-icon-file-text2'><use xlink:href='#icon-file-text2'></use></svg></label><input id='data-53b2cce8-55bf-443c-ad95-409736e2307f' class='xr-var-data-in' type='checkbox'><label for='data-53b2cce8-55bf-443c-ad95-409736e2307f' title='Show/Hide data repr'><svg class='icon xr-icon-database'><use xlink:href='#icon-database'></use></svg></label><div class='xr-var-attrs'><dl class='xr-attrs'></dl></div><div class='xr-var-data'><pre>[14296160 values with dtype=float64]</pre></div></li><li class='xr-var-item'><div class='xr-var-name'><span>TRNMYRI</span></div><div class='xr-var-dims'>(t, z, y, x)</div><div class='xr-var-dtype'>float64</div><div class='xr-var-preview xr-preview'>...</div><input id='attrs-22b1b893-8364-4b60-95e0-a3b2492e6a72' class='xr-var-attrs-in' type='checkbox' disabled><label for='attrs-22b1b893-8364-4b60-95e0-a3b2492e6a72' title='Show/Hide attributes'><svg class='icon xr-icon-file-text2'><use xlink:href='#icon-file-text2'></use></svg></label><input id='data-f14786c6-90f2-4932-bd59-a3a4bb4e8a64' class='xr-var-data-in' type='checkbox'><label for='data-f14786c6-90f2-4932-bd59-a3a4bb4e8a64' title='Show/Hide data repr'><svg class='icon xr-icon-database'><use xlink:href='#icon-database'></use></svg></label><div class='xr-var-attrs'><dl class='xr-attrs'></dl></div><div class='xr-var-data'><pre>[14296160 values with dtype=float64]</pre></div></li><li class='xr-var-item'><div class='xr-var-name'><span>TRNNH4</span></div><div class='xr-var-dims'>(t, z, y, x)</div><div class='xr-var-dtype'>float64</div><div class='xr-var-preview xr-preview'>...</div><input id='attrs-5659aca4-b10f-400b-92d1-5fa1a276cf7c' class='xr-var-attrs-in' type='checkbox' disabled><label for='attrs-5659aca4-b10f-400b-92d1-5fa1a276cf7c' title='Show/Hide attributes'><svg class='icon xr-icon-file-text2'><use xlink:href='#icon-file-text2'></use></svg></label><input id='data-5e4a40f4-671a-4569-9b85-0df9ddbf51cd' class='xr-var-data-in' type='checkbox'><label for='data-5e4a40f4-671a-4569-9b85-0df9ddbf51cd' title='Show/Hide data repr'><svg class='icon xr-icon-database'><use xlink:href='#icon-database'></use></svg></label><div class='xr-var-attrs'><dl class='xr-attrs'></dl></div><div class='xr-var-data'><pre>[14296160 values with dtype=float64]</pre></div></li><li class='xr-var-item'><div class='xr-var-name'><span>TRNNO3</span></div><div class='xr-var-dims'>(t, z, y, x)</div><div class='xr-var-dtype'>float64</div><div class='xr-var-preview xr-preview'>...</div><input id='attrs-8c9be14a-ed06-4a9e-91f9-36dd187cad4d' class='xr-var-attrs-in' type='checkbox' disabled><label for='attrs-8c9be14a-ed06-4a9e-91f9-36dd187cad4d' title='Show/Hide attributes'><svg class='icon xr-icon-file-text2'><use xlink:href='#icon-file-text2'></use></svg></label><input id='data-1212f315-0c7f-406e-ae57-d3359a8fcb3f' class='xr-var-data-in' type='checkbox'><label for='data-1212f315-0c7f-406e-ae57-d3359a8fcb3f' title='Show/Hide data repr'><svg class='icon xr-icon-database'><use xlink:href='#icon-database'></use></svg></label><div class='xr-var-attrs'><dl class='xr-attrs'></dl></div><div class='xr-var-data'><pre>[14296160 values with dtype=float64]</pre></div></li><li class='xr-var-item'><div class='xr-var-name'><span>TRNTRA</span></div><div class='xr-var-dims'>(t, z, y, x)</div><div class='xr-var-dtype'>float64</div><div class='xr-var-preview xr-preview'>...</div><input id='attrs-571c2573-70ee-43ac-af9a-a73f40a1f558' class='xr-var-attrs-in' type='checkbox' disabled><label for='attrs-571c2573-70ee-43ac-af9a-a73f40a1f558' title='Show/Hide attributes'><svg class='icon xr-icon-file-text2'><use xlink:href='#icon-file-text2'></use></svg></label><input id='data-24eb6f44-7bb6-43dd-bcd9-116791574689' class='xr-var-data-in' type='checkbox'><label for='data-24eb6f44-7bb6-43dd-bcd9-116791574689' title='Show/Hide data repr'><svg class='icon xr-icon-database'><use xlink:href='#icon-database'></use></svg></label><div class='xr-var-attrs'><dl class='xr-attrs'></dl></div><div class='xr-var-data'><pre>[14296160 values with dtype=float64]</pre></div></li><li class='xr-var-item'><div class='xr-var-name'><span>TRNPHY</span></div><div class='xr-var-dims'>(t, z, y, x)</div><div class='xr-var-dtype'>float64</div><div class='xr-var-preview xr-preview'>...</div><input id='attrs-4b862f7b-773f-4d26-a40f-cf08aa51f208' class='xr-var-attrs-in' type='checkbox' disabled><label for='attrs-4b862f7b-773f-4d26-a40f-cf08aa51f208' title='Show/Hide attributes'><svg class='icon xr-icon-file-text2'><use xlink:href='#icon-file-text2'></use></svg></label><input id='data-c453850e-dcc1-4cf1-bc41-f4bde43310c1' class='xr-var-data-in' type='checkbox'><label for='data-c453850e-dcc1-4cf1-bc41-f4bde43310c1' title='Show/Hide data repr'><svg class='icon xr-icon-database'><use xlink:href='#icon-database'></use></svg></label><div class='xr-var-attrs'><dl class='xr-attrs'></dl></div><div class='xr-var-data'><pre>[14296160 values with dtype=float64]</pre></div></li><li class='xr-var-item'><div class='xr-var-name'><span>TRNDIAT</span></div><div class='xr-var-dims'>(t, z, y, x)</div><div class='xr-var-dtype'>float64</div><div class='xr-var-preview xr-preview'>...</div><input id='attrs-24c45cd6-110e-4f82-a78f-f727bc4f6b2e' class='xr-var-attrs-in' type='checkbox' disabled><label for='attrs-24c45cd6-110e-4f82-a78f-f727bc4f6b2e' title='Show/Hide attributes'><svg class='icon xr-icon-file-text2'><use xlink:href='#icon-file-text2'></use></svg></label><input id='data-f0d0fd7c-71e5-46e1-bd44-c86dcccc3eb2' class='xr-var-data-in' type='checkbox'><label for='data-f0d0fd7c-71e5-46e1-bd44-c86dcccc3eb2' title='Show/Hide data repr'><svg class='icon xr-icon-database'><use xlink:href='#icon-database'></use></svg></label><div class='xr-var-attrs'><dl class='xr-attrs'></dl></div><div class='xr-var-data'><pre>[14296160 values with dtype=float64]</pre></div></li><li class='xr-var-item'><div class='xr-var-name'><span>TRNPON</span></div><div class='xr-var-dims'>(t, z, y, x)</div><div class='xr-var-dtype'>float64</div><div class='xr-var-preview xr-preview'>...</div><input id='attrs-92efa02b-29c2-472b-a47d-59b74865c21b' class='xr-var-attrs-in' type='checkbox' disabled><label for='attrs-92efa02b-29c2-472b-a47d-59b74865c21b' title='Show/Hide attributes'><svg class='icon xr-icon-file-text2'><use xlink:href='#icon-file-text2'></use></svg></label><input id='data-b79cdb2e-0c15-4888-a71e-48d5ed47bf41' class='xr-var-data-in' type='checkbox'><label for='data-b79cdb2e-0c15-4888-a71e-48d5ed47bf41' title='Show/Hide data repr'><svg class='icon xr-icon-database'><use xlink:href='#icon-database'></use></svg></label><div class='xr-var-attrs'><dl class='xr-attrs'></dl></div><div class='xr-var-data'><pre>[14296160 values with dtype=float64]</pre></div></li><li class='xr-var-item'><div class='xr-var-name'><span>TRNSi</span></div><div class='xr-var-dims'>(t, z, y, x)</div><div class='xr-var-dtype'>float64</div><div class='xr-var-preview xr-preview'>...</div><input id='attrs-8476845a-036a-42fc-bdc4-742dbcfa85f9' class='xr-var-attrs-in' type='checkbox' disabled><label for='attrs-8476845a-036a-42fc-bdc4-742dbcfa85f9' title='Show/Hide attributes'><svg class='icon xr-icon-file-text2'><use xlink:href='#icon-file-text2'></use></svg></label><input id='data-67491a3f-a77c-4314-af96-da5780c2c5d2' class='xr-var-data-in' type='checkbox'><label for='data-67491a3f-a77c-4314-af96-da5780c2c5d2' title='Show/Hide data repr'><svg class='icon xr-icon-database'><use xlink:href='#icon-database'></use></svg></label><div class='xr-var-attrs'><dl class='xr-attrs'></dl></div><div class='xr-var-data'><pre>[14296160 values with dtype=float64]</pre></div></li><li class='xr-var-item'><div class='xr-var-name'><span>TRNbSi</span></div><div class='xr-var-dims'>(t, z, y, x)</div><div class='xr-var-dtype'>float64</div><div class='xr-var-preview xr-preview'>...</div><input id='attrs-339e07ca-0d75-4971-841d-704848b5110f' class='xr-var-attrs-in' type='checkbox' disabled><label for='attrs-339e07ca-0d75-4971-841d-704848b5110f' title='Show/Hide attributes'><svg class='icon xr-icon-file-text2'><use xlink:href='#icon-file-text2'></use></svg></label><input id='data-a22688ae-5c6c-484e-b62f-ed271a1876a7' class='xr-var-data-in' type='checkbox'><label for='data-a22688ae-5c6c-484e-b62f-ed271a1876a7' title='Show/Hide data repr'><svg class='icon xr-icon-database'><use xlink:href='#icon-database'></use></svg></label><div class='xr-var-attrs'><dl class='xr-attrs'></dl></div><div class='xr-var-data'><pre>[14296160 values with dtype=float64]</pre></div></li><li class='xr-var-item'><div class='xr-var-name'><span>TRNDIC</span></div><div class='xr-var-dims'>(t, z, y, x)</div><div class='xr-var-dtype'>float64</div><div class='xr-var-preview xr-preview'>...</div><input id='attrs-1f3b5557-f5c9-4f45-bdfc-62ca7f33e132' class='xr-var-attrs-in' type='checkbox' disabled><label for='attrs-1f3b5557-f5c9-4f45-bdfc-62ca7f33e132' title='Show/Hide attributes'><svg class='icon xr-icon-file-text2'><use xlink:href='#icon-file-text2'></use></svg></label><input id='data-b4da5a44-c936-49e1-8139-6a94d603b80b' class='xr-var-data-in' type='checkbox'><label for='data-b4da5a44-c936-49e1-8139-6a94d603b80b' title='Show/Hide data repr'><svg class='icon xr-icon-database'><use xlink:href='#icon-database'></use></svg></label><div class='xr-var-attrs'><dl class='xr-attrs'></dl></div><div class='xr-var-data'><pre>[14296160 values with dtype=float64]</pre></div></li><li class='xr-var-item'><div class='xr-var-name'><span>TRNTA</span></div><div class='xr-var-dims'>(t, z, y, x)</div><div class='xr-var-dtype'>float64</div><div class='xr-var-preview xr-preview'>...</div><input id='attrs-3d6eff5a-7d37-4223-9f15-9dacab6e1523' class='xr-var-attrs-in' type='checkbox' disabled><label for='attrs-3d6eff5a-7d37-4223-9f15-9dacab6e1523' title='Show/Hide attributes'><svg class='icon xr-icon-file-text2'><use xlink:href='#icon-file-text2'></use></svg></label><input id='data-d4d91877-6ffd-4c5b-94ab-b237c2c2a805' class='xr-var-data-in' type='checkbox'><label for='data-d4d91877-6ffd-4c5b-94ab-b237c2c2a805' title='Show/Hide data repr'><svg class='icon xr-icon-database'><use xlink:href='#icon-database'></use></svg></label><div class='xr-var-attrs'><dl class='xr-attrs'></dl></div><div class='xr-var-data'><pre>[14296160 values with dtype=float64]</pre></div></li><li class='xr-var-item'><div class='xr-var-name'><span>TRNO2</span></div><div class='xr-var-dims'>(t, z, y, x)</div><div class='xr-var-dtype'>float64</div><div class='xr-var-preview xr-preview'>...</div><input id='attrs-7a9fe460-4a35-48ed-8d69-04c1173ac056' class='xr-var-attrs-in' type='checkbox' disabled><label for='attrs-7a9fe460-4a35-48ed-8d69-04c1173ac056' title='Show/Hide attributes'><svg class='icon xr-icon-file-text2'><use xlink:href='#icon-file-text2'></use></svg></label><input id='data-a7bbce96-ec43-4106-9fe8-738ff07486c2' class='xr-var-data-in' type='checkbox'><label for='data-a7bbce96-ec43-4106-9fe8-738ff07486c2' title='Show/Hide data repr'><svg class='icon xr-icon-database'><use xlink:href='#icon-database'></use></svg></label><div class='xr-var-attrs'><dl class='xr-attrs'></dl></div><div class='xr-var-data'><pre>[14296160 values with dtype=float64]</pre></div></li><li class='xr-var-item'><div class='xr-var-name'><span>TRBDON</span></div><div class='xr-var-dims'>(t, z, y, x)</div><div class='xr-var-dtype'>float64</div><div class='xr-var-preview xr-preview'>...</div><input id='attrs-3ef3e4fc-ec2f-401f-b2d6-5b878788a6a0' class='xr-var-attrs-in' type='checkbox' disabled><label for='attrs-3ef3e4fc-ec2f-401f-b2d6-5b878788a6a0' title='Show/Hide attributes'><svg class='icon xr-icon-file-text2'><use xlink:href='#icon-file-text2'></use></svg></label><input id='data-6a44b1bb-473c-4d0e-a7be-2a7cd5c9ccb1' class='xr-var-data-in' type='checkbox'><label for='data-6a44b1bb-473c-4d0e-a7be-2a7cd5c9ccb1' title='Show/Hide data repr'><svg class='icon xr-icon-database'><use xlink:href='#icon-database'></use></svg></label><div class='xr-var-attrs'><dl class='xr-attrs'></dl></div><div class='xr-var-data'><pre>[14296160 values with dtype=float64]</pre></div></li><li class='xr-var-item'><div class='xr-var-name'><span>TRBMICZ</span></div><div class='xr-var-dims'>(t, z, y, x)</div><div class='xr-var-dtype'>float64</div><div class='xr-var-preview xr-preview'>...</div><input id='attrs-82e08a1f-62e1-4402-84b1-101e7484e75d' class='xr-var-attrs-in' type='checkbox' disabled><label for='attrs-82e08a1f-62e1-4402-84b1-101e7484e75d' title='Show/Hide attributes'><svg class='icon xr-icon-file-text2'><use xlink:href='#icon-file-text2'></use></svg></label><input id='data-3167fdd4-782e-4208-8175-38fbccb1733a' class='xr-var-data-in' type='checkbox'><label for='data-3167fdd4-782e-4208-8175-38fbccb1733a' title='Show/Hide data repr'><svg class='icon xr-icon-database'><use xlink:href='#icon-database'></use></svg></label><div class='xr-var-attrs'><dl class='xr-attrs'></dl></div><div class='xr-var-data'><pre>[14296160 values with dtype=float64]</pre></div></li><li class='xr-var-item'><div class='xr-var-name'><span>TRBMYRI</span></div><div class='xr-var-dims'>(t, z, y, x)</div><div class='xr-var-dtype'>float64</div><div class='xr-var-preview xr-preview'>...</div><input id='attrs-bbc3af96-3972-42f6-92d4-a31ce4c8b383' class='xr-var-attrs-in' type='checkbox' disabled><label for='attrs-bbc3af96-3972-42f6-92d4-a31ce4c8b383' title='Show/Hide attributes'><svg class='icon xr-icon-file-text2'><use xlink:href='#icon-file-text2'></use></svg></label><input id='data-deb156c7-3314-4524-bd18-1b5f0bacfe17' class='xr-var-data-in' type='checkbox'><label for='data-deb156c7-3314-4524-bd18-1b5f0bacfe17' title='Show/Hide data repr'><svg class='icon xr-icon-database'><use xlink:href='#icon-database'></use></svg></label><div class='xr-var-attrs'><dl class='xr-attrs'></dl></div><div class='xr-var-data'><pre>[14296160 values with dtype=float64]</pre></div></li><li class='xr-var-item'><div class='xr-var-name'><span>TRBNH4</span></div><div class='xr-var-dims'>(t, z, y, x)</div><div class='xr-var-dtype'>float64</div><div class='xr-var-preview xr-preview'>...</div><input id='attrs-2e6d7d64-b9f1-4980-bcbe-b0b430cc6da9' class='xr-var-attrs-in' type='checkbox' disabled><label for='attrs-2e6d7d64-b9f1-4980-bcbe-b0b430cc6da9' title='Show/Hide attributes'><svg class='icon xr-icon-file-text2'><use xlink:href='#icon-file-text2'></use></svg></label><input id='data-cccbce7c-a777-485a-b71d-430aaca414da' class='xr-var-data-in' type='checkbox'><label for='data-cccbce7c-a777-485a-b71d-430aaca414da' title='Show/Hide data repr'><svg class='icon xr-icon-database'><use xlink:href='#icon-database'></use></svg></label><div class='xr-var-attrs'><dl class='xr-attrs'></dl></div><div class='xr-var-data'><pre>[14296160 values with dtype=float64]</pre></div></li><li class='xr-var-item'><div class='xr-var-name'><span>TRBNO3</span></div><div class='xr-var-dims'>(t, z, y, x)</div><div class='xr-var-dtype'>float64</div><div class='xr-var-preview xr-preview'>...</div><input id='attrs-9aa59b3e-b3af-4e04-993a-d58a474ff17c' class='xr-var-attrs-in' type='checkbox' disabled><label for='attrs-9aa59b3e-b3af-4e04-993a-d58a474ff17c' title='Show/Hide attributes'><svg class='icon xr-icon-file-text2'><use xlink:href='#icon-file-text2'></use></svg></label><input id='data-880ae14c-a120-49ee-9d7d-1a4f850c17a7' class='xr-var-data-in' type='checkbox'><label for='data-880ae14c-a120-49ee-9d7d-1a4f850c17a7' title='Show/Hide data repr'><svg class='icon xr-icon-database'><use xlink:href='#icon-database'></use></svg></label><div class='xr-var-attrs'><dl class='xr-attrs'></dl></div><div class='xr-var-data'><pre>[14296160 values with dtype=float64]</pre></div></li><li class='xr-var-item'><div class='xr-var-name'><span>TRBTRA</span></div><div class='xr-var-dims'>(t, z, y, x)</div><div class='xr-var-dtype'>float64</div><div class='xr-var-preview xr-preview'>...</div><input id='attrs-17dd7297-0324-4f4b-9332-2a4b95849096' class='xr-var-attrs-in' type='checkbox' disabled><label for='attrs-17dd7297-0324-4f4b-9332-2a4b95849096' title='Show/Hide attributes'><svg class='icon xr-icon-file-text2'><use xlink:href='#icon-file-text2'></use></svg></label><input id='data-f0f3e35b-e057-48ac-a99e-5674efee91a5' class='xr-var-data-in' type='checkbox'><label for='data-f0f3e35b-e057-48ac-a99e-5674efee91a5' title='Show/Hide data repr'><svg class='icon xr-icon-database'><use xlink:href='#icon-database'></use></svg></label><div class='xr-var-attrs'><dl class='xr-attrs'></dl></div><div class='xr-var-data'><pre>[14296160 values with dtype=float64]</pre></div></li><li class='xr-var-item'><div class='xr-var-name'><span>TRBPHY</span></div><div class='xr-var-dims'>(t, z, y, x)</div><div class='xr-var-dtype'>float64</div><div class='xr-var-preview xr-preview'>...</div><input id='attrs-abc3bc0d-6fbd-46f6-b000-0df19952592a' class='xr-var-attrs-in' type='checkbox' disabled><label for='attrs-abc3bc0d-6fbd-46f6-b000-0df19952592a' title='Show/Hide attributes'><svg class='icon xr-icon-file-text2'><use xlink:href='#icon-file-text2'></use></svg></label><input id='data-3c11fe8d-7df5-4a97-a1da-b84a94d5d1f8' class='xr-var-data-in' type='checkbox'><label for='data-3c11fe8d-7df5-4a97-a1da-b84a94d5d1f8' title='Show/Hide data repr'><svg class='icon xr-icon-database'><use xlink:href='#icon-database'></use></svg></label><div class='xr-var-attrs'><dl class='xr-attrs'></dl></div><div class='xr-var-data'><pre>[14296160 values with dtype=float64]</pre></div></li><li class='xr-var-item'><div class='xr-var-name'><span>TRBDIAT</span></div><div class='xr-var-dims'>(t, z, y, x)</div><div class='xr-var-dtype'>float64</div><div class='xr-var-preview xr-preview'>...</div><input id='attrs-db55f39c-afec-4e75-a0a2-cea7c133a260' class='xr-var-attrs-in' type='checkbox' disabled><label for='attrs-db55f39c-afec-4e75-a0a2-cea7c133a260' title='Show/Hide attributes'><svg class='icon xr-icon-file-text2'><use xlink:href='#icon-file-text2'></use></svg></label><input id='data-0598f2d5-77c1-4eff-8c0b-78897c1bbc5e' class='xr-var-data-in' type='checkbox'><label for='data-0598f2d5-77c1-4eff-8c0b-78897c1bbc5e' title='Show/Hide data repr'><svg class='icon xr-icon-database'><use xlink:href='#icon-database'></use></svg></label><div class='xr-var-attrs'><dl class='xr-attrs'></dl></div><div class='xr-var-data'><pre>[14296160 values with dtype=float64]</pre></div></li><li class='xr-var-item'><div class='xr-var-name'><span>TRBPON</span></div><div class='xr-var-dims'>(t, z, y, x)</div><div class='xr-var-dtype'>float64</div><div class='xr-var-preview xr-preview'>...</div><input id='attrs-c0054831-f91b-47ed-adf2-96367de3f66a' class='xr-var-attrs-in' type='checkbox' disabled><label for='attrs-c0054831-f91b-47ed-adf2-96367de3f66a' title='Show/Hide attributes'><svg class='icon xr-icon-file-text2'><use xlink:href='#icon-file-text2'></use></svg></label><input id='data-3fc3cc73-f6c3-4d56-b9df-b76a1e7498e6' class='xr-var-data-in' type='checkbox'><label for='data-3fc3cc73-f6c3-4d56-b9df-b76a1e7498e6' title='Show/Hide data repr'><svg class='icon xr-icon-database'><use xlink:href='#icon-database'></use></svg></label><div class='xr-var-attrs'><dl class='xr-attrs'></dl></div><div class='xr-var-data'><pre>[14296160 values with dtype=float64]</pre></div></li><li class='xr-var-item'><div class='xr-var-name'><span>TRBSi</span></div><div class='xr-var-dims'>(t, z, y, x)</div><div class='xr-var-dtype'>float64</div><div class='xr-var-preview xr-preview'>...</div><input id='attrs-3f4d006f-b98e-4ae2-a4dc-b7c264b2dea1' class='xr-var-attrs-in' type='checkbox' disabled><label for='attrs-3f4d006f-b98e-4ae2-a4dc-b7c264b2dea1' title='Show/Hide attributes'><svg class='icon xr-icon-file-text2'><use xlink:href='#icon-file-text2'></use></svg></label><input id='data-0aff68a5-c595-490a-a1cd-48bec19914ab' class='xr-var-data-in' type='checkbox'><label for='data-0aff68a5-c595-490a-a1cd-48bec19914ab' title='Show/Hide data repr'><svg class='icon xr-icon-database'><use xlink:href='#icon-database'></use></svg></label><div class='xr-var-attrs'><dl class='xr-attrs'></dl></div><div class='xr-var-data'><pre>[14296160 values with dtype=float64]</pre></div></li><li class='xr-var-item'><div class='xr-var-name'><span>TRBbSi</span></div><div class='xr-var-dims'>(t, z, y, x)</div><div class='xr-var-dtype'>float64</div><div class='xr-var-preview xr-preview'>...</div><input id='attrs-4cf67d23-a646-4a32-af5a-45fcb1d816cd' class='xr-var-attrs-in' type='checkbox' disabled><label for='attrs-4cf67d23-a646-4a32-af5a-45fcb1d816cd' title='Show/Hide attributes'><svg class='icon xr-icon-file-text2'><use xlink:href='#icon-file-text2'></use></svg></label><input id='data-825e548a-7a57-44c2-8ee5-39cc0fcde67f' class='xr-var-data-in' type='checkbox'><label for='data-825e548a-7a57-44c2-8ee5-39cc0fcde67f' title='Show/Hide data repr'><svg class='icon xr-icon-database'><use xlink:href='#icon-database'></use></svg></label><div class='xr-var-attrs'><dl class='xr-attrs'></dl></div><div class='xr-var-data'><pre>[14296160 values with dtype=float64]</pre></div></li><li class='xr-var-item'><div class='xr-var-name'><span>TRBDIC</span></div><div class='xr-var-dims'>(t, z, y, x)</div><div class='xr-var-dtype'>float64</div><div class='xr-var-preview xr-preview'>...</div><input id='attrs-9f6477c0-0079-4b17-acea-795a3e436253' class='xr-var-attrs-in' type='checkbox' disabled><label for='attrs-9f6477c0-0079-4b17-acea-795a3e436253' title='Show/Hide attributes'><svg class='icon xr-icon-file-text2'><use xlink:href='#icon-file-text2'></use></svg></label><input id='data-77bfc87f-d272-42aa-b56d-1be8379bd804' class='xr-var-data-in' type='checkbox'><label for='data-77bfc87f-d272-42aa-b56d-1be8379bd804' title='Show/Hide data repr'><svg class='icon xr-icon-database'><use xlink:href='#icon-database'></use></svg></label><div class='xr-var-attrs'><dl class='xr-attrs'></dl></div><div class='xr-var-data'><pre>[14296160 values with dtype=float64]</pre></div></li><li class='xr-var-item'><div class='xr-var-name'><span>TRBTA</span></div><div class='xr-var-dims'>(t, z, y, x)</div><div class='xr-var-dtype'>float64</div><div class='xr-var-preview xr-preview'>...</div><input id='attrs-6c42a364-496a-4086-a9f6-1bd0462119a7' class='xr-var-attrs-in' type='checkbox' disabled><label for='attrs-6c42a364-496a-4086-a9f6-1bd0462119a7' title='Show/Hide attributes'><svg class='icon xr-icon-file-text2'><use xlink:href='#icon-file-text2'></use></svg></label><input id='data-f70bdfca-9be6-4749-ba4e-6b34497d5bf0' class='xr-var-data-in' type='checkbox'><label for='data-f70bdfca-9be6-4749-ba4e-6b34497d5bf0' title='Show/Hide data repr'><svg class='icon xr-icon-database'><use xlink:href='#icon-database'></use></svg></label><div class='xr-var-attrs'><dl class='xr-attrs'></dl></div><div class='xr-var-data'><pre>[14296160 values with dtype=float64]</pre></div></li><li class='xr-var-item'><div class='xr-var-name'><span>TRBO2</span></div><div class='xr-var-dims'>(t, z, y, x)</div><div class='xr-var-dtype'>float64</div><div class='xr-var-preview xr-preview'>...</div><input id='attrs-999081b9-09f2-4ff1-b029-1771a3a97192' class='xr-var-attrs-in' type='checkbox' disabled><label for='attrs-999081b9-09f2-4ff1-b029-1771a3a97192' title='Show/Hide attributes'><svg class='icon xr-icon-file-text2'><use xlink:href='#icon-file-text2'></use></svg></label><input id='data-7935640d-0116-41f9-9876-69d752e8abc0' class='xr-var-data-in' type='checkbox'><label for='data-7935640d-0116-41f9-9876-69d752e8abc0' title='Show/Hide data repr'><svg class='icon xr-icon-database'><use xlink:href='#icon-database'></use></svg></label><div class='xr-var-attrs'><dl class='xr-attrs'></dl></div><div class='xr-var-data'><pre>[14296160 values with dtype=float64]</pre></div></li><li class='xr-var-item'><div class='xr-var-name'><span>qns_b</span></div><div class='xr-var-dims'>(t, y, x)</div><div class='xr-var-dtype'>float64</div><div class='xr-var-preview xr-preview'>...</div><input id='attrs-e2282bd6-f3e8-46d1-acce-dc5c8827b6bd' class='xr-var-attrs-in' type='checkbox' disabled><label for='attrs-e2282bd6-f3e8-46d1-acce-dc5c8827b6bd' title='Show/Hide attributes'><svg class='icon xr-icon-file-text2'><use xlink:href='#icon-file-text2'></use></svg></label><input id='data-1868af4b-5a2e-45d4-95b1-423ede214c9b' class='xr-var-data-in' type='checkbox'><label for='data-1868af4b-5a2e-45d4-95b1-423ede214c9b' title='Show/Hide data repr'><svg class='icon xr-icon-database'><use xlink:href='#icon-database'></use></svg></label><div class='xr-var-attrs'><dl class='xr-attrs'></dl></div><div class='xr-var-data'><pre>[357404 values with dtype=float64]</pre></div></li><li class='xr-var-item'><div class='xr-var-name'><span>rnf_sc_b</span></div><div class='xr-var-dims'>(t, y, x)</div><div class='xr-var-dtype'>float64</div><div class='xr-var-preview xr-preview'>...</div><input id='attrs-5cc7cc2d-9778-476b-8cad-800efb6d1e2a' class='xr-var-attrs-in' type='checkbox' disabled><label for='attrs-5cc7cc2d-9778-476b-8cad-800efb6d1e2a' title='Show/Hide attributes'><svg class='icon xr-icon-file-text2'><use xlink:href='#icon-file-text2'></use></svg></label><input id='data-c00b6a56-4e9b-4be5-b1b5-e39ee6a3c66a' class='xr-var-data-in' type='checkbox'><label for='data-c00b6a56-4e9b-4be5-b1b5-e39ee6a3c66a' title='Show/Hide data repr'><svg class='icon xr-icon-database'><use xlink:href='#icon-database'></use></svg></label><div class='xr-var-attrs'><dl class='xr-attrs'></dl></div><div class='xr-var-data'><pre>[357404 values with dtype=float64]</pre></div></li><li class='xr-var-item'><div class='xr-var-name'><span>vtau_b</span></div><div class='xr-var-dims'>(t, y, x)</div><div class='xr-var-dtype'>float64</div><div class='xr-var-preview xr-preview'>...</div><input id='attrs-b5149f7f-576a-448b-865a-cf790297006f' class='xr-var-attrs-in' type='checkbox' disabled><label for='attrs-b5149f7f-576a-448b-865a-cf790297006f' title='Show/Hide attributes'><svg class='icon xr-icon-file-text2'><use xlink:href='#icon-file-text2'></use></svg></label><input id='data-230cf715-4bdf-4f5b-a0b1-49bc52d2a7a2' class='xr-var-data-in' type='checkbox'><label for='data-230cf715-4bdf-4f5b-a0b1-49bc52d2a7a2' title='Show/Hide data repr'><svg class='icon xr-icon-database'><use xlink:href='#icon-database'></use></svg></label><div class='xr-var-attrs'><dl class='xr-attrs'></dl></div><div class='xr-var-data'><pre>[357404 values with dtype=float64]</pre></div></li><li class='xr-var-item'><div class='xr-var-name'><span>sshb</span></div><div class='xr-var-dims'>(t, y, x)</div><div class='xr-var-dtype'>float64</div><div class='xr-var-preview xr-preview'>...</div><input id='attrs-8914fd38-83e7-41e6-86ed-4f2604cbb246' class='xr-var-attrs-in' type='checkbox' disabled><label for='attrs-8914fd38-83e7-41e6-86ed-4f2604cbb246' title='Show/Hide attributes'><svg class='icon xr-icon-file-text2'><use xlink:href='#icon-file-text2'></use></svg></label><input id='data-ff0b9eeb-c05c-4156-adc4-70a65b1c6dd3' class='xr-var-data-in' type='checkbox'><label for='data-ff0b9eeb-c05c-4156-adc4-70a65b1c6dd3' title='Show/Hide data repr'><svg class='icon xr-icon-database'><use xlink:href='#icon-database'></use></svg></label><div class='xr-var-attrs'><dl class='xr-attrs'></dl></div><div class='xr-var-data'><pre>[357404 values with dtype=float64]</pre></div></li><li class='xr-var-item'><div class='xr-var-name'><span>avmv</span></div><div class='xr-var-dims'>(t, z, y, x)</div><div class='xr-var-dtype'>float64</div><div class='xr-var-preview xr-preview'>...</div><input id='attrs-e355f270-3583-422f-aa49-01f71fc5cd4f' class='xr-var-attrs-in' type='checkbox' disabled><label for='attrs-e355f270-3583-422f-aa49-01f71fc5cd4f' title='Show/Hide attributes'><svg class='icon xr-icon-file-text2'><use xlink:href='#icon-file-text2'></use></svg></label><input id='data-e6adc057-51bf-4031-b5d1-ed2f05019a7e' class='xr-var-data-in' type='checkbox'><label for='data-e6adc057-51bf-4031-b5d1-ed2f05019a7e' title='Show/Hide data repr'><svg class='icon xr-icon-database'><use xlink:href='#icon-database'></use></svg></label><div class='xr-var-attrs'><dl class='xr-attrs'></dl></div><div class='xr-var-data'><pre>[14296160 values with dtype=float64]</pre></div></li><li class='xr-var-item'><div class='xr-var-name'><span>sbc_sc_b</span></div><div class='xr-var-dims'>(t, y, x)</div><div class='xr-var-dtype'>float64</div><div class='xr-var-preview xr-preview'>...</div><input id='attrs-4b173670-0624-4d1a-8048-dc7e646dbf47' class='xr-var-attrs-in' type='checkbox' disabled><label for='attrs-4b173670-0624-4d1a-8048-dc7e646dbf47' title='Show/Hide attributes'><svg class='icon xr-icon-file-text2'><use xlink:href='#icon-file-text2'></use></svg></label><input id='data-4627293d-a17f-4f3b-86e4-7f9c6416c92d' class='xr-var-data-in' type='checkbox'><label for='data-4627293d-a17f-4f3b-86e4-7f9c6416c92d' title='Show/Hide data repr'><svg class='icon xr-icon-database'><use xlink:href='#icon-database'></use></svg></label><div class='xr-var-attrs'><dl class='xr-attrs'></dl></div><div class='xr-var-data'><pre>[357404 values with dtype=float64]</pre></div></li><li class='xr-var-item'><div class='xr-var-name'><span>ndastp</span></div><div class='xr-var-dims'>()</div><div class='xr-var-dtype'>float64</div><div class='xr-var-preview xr-preview'>...</div><input id='attrs-84d78ff4-78d1-4e1b-9be4-5a3b866b0bf3' class='xr-var-attrs-in' type='checkbox' disabled><label for='attrs-84d78ff4-78d1-4e1b-9be4-5a3b866b0bf3' title='Show/Hide attributes'><svg class='icon xr-icon-file-text2'><use xlink:href='#icon-file-text2'></use></svg></label><input id='data-d5c4b5f1-b62a-40cb-a344-8ca334c42f6b' class='xr-var-data-in' type='checkbox'><label for='data-d5c4b5f1-b62a-40cb-a344-8ca334c42f6b' title='Show/Hide data repr'><svg class='icon xr-icon-database'><use xlink:href='#icon-database'></use></svg></label><div class='xr-var-attrs'><dl class='xr-attrs'></dl></div><div class='xr-var-data'><pre>[1 values with dtype=float64]</pre></div></li><li class='xr-var-item'><div class='xr-var-name'><span>sshn</span></div><div class='xr-var-dims'>(t, y, x)</div><div class='xr-var-dtype'>float64</div><div class='xr-var-preview xr-preview'>...</div><input id='attrs-027c3646-62f4-4a45-8116-0eb587b76c93' class='xr-var-attrs-in' type='checkbox' disabled><label for='attrs-027c3646-62f4-4a45-8116-0eb587b76c93' title='Show/Hide attributes'><svg class='icon xr-icon-file-text2'><use xlink:href='#icon-file-text2'></use></svg></label><input id='data-2dcf7a82-f7fa-43f8-93c6-7c5e697c8272' class='xr-var-data-in' type='checkbox'><label for='data-2dcf7a82-f7fa-43f8-93c6-7c5e697c8272' title='Show/Hide data repr'><svg class='icon xr-icon-database'><use xlink:href='#icon-database'></use></svg></label><div class='xr-var-attrs'><dl class='xr-attrs'></dl></div><div class='xr-var-data'><pre>[357404 values with dtype=float64]</pre></div></li><li class='xr-var-item'><div class='xr-var-name'><span>qsr_hc_b</span></div><div class='xr-var-dims'>(t, z, y, x)</div><div class='xr-var-dtype'>float64</div><div class='xr-var-preview xr-preview'>...</div><input id='attrs-925007ba-bfc3-40cc-bc36-6c71575ac8c4' class='xr-var-attrs-in' type='checkbox' disabled><label for='attrs-925007ba-bfc3-40cc-bc36-6c71575ac8c4' title='Show/Hide attributes'><svg class='icon xr-icon-file-text2'><use xlink:href='#icon-file-text2'></use></svg></label><input id='data-6708617e-9af0-4a6a-801e-217b03aa17b8' class='xr-var-data-in' type='checkbox'><label for='data-6708617e-9af0-4a6a-801e-217b03aa17b8' title='Show/Hide data repr'><svg class='icon xr-icon-database'><use xlink:href='#icon-database'></use></svg></label><div class='xr-var-attrs'><dl class='xr-attrs'></dl></div><div class='xr-var-data'><pre>[14296160 values with dtype=float64]</pre></div></li><li class='xr-var-item'><div class='xr-var-name'><span>sbc_hc_b</span></div><div class='xr-var-dims'>(t, y, x)</div><div class='xr-var-dtype'>float64</div><div class='xr-var-preview xr-preview'>...</div><input id='attrs-c0bbba68-6329-4787-940c-b4f63d06f3a8' class='xr-var-attrs-in' type='checkbox' disabled><label for='attrs-c0bbba68-6329-4787-940c-b4f63d06f3a8' title='Show/Hide attributes'><svg class='icon xr-icon-file-text2'><use xlink:href='#icon-file-text2'></use></svg></label><input id='data-d16880a8-6a4d-4f40-9b74-2fca2a13501d' class='xr-var-data-in' type='checkbox'><label for='data-d16880a8-6a4d-4f40-9b74-2fca2a13501d' title='Show/Hide data repr'><svg class='icon xr-icon-database'><use xlink:href='#icon-database'></use></svg></label><div class='xr-var-attrs'><dl class='xr-attrs'></dl></div><div class='xr-var-data'><pre>[357404 values with dtype=float64]</pre></div></li><li class='xr-var-item'><div class='xr-var-name'><span>fse3t_b</span></div><div class='xr-var-dims'>(t, z, y, x)</div><div class='xr-var-dtype'>float64</div><div class='xr-var-preview xr-preview'>...</div><input id='attrs-585fe06c-8766-4669-806e-869e81b723dc' class='xr-var-attrs-in' type='checkbox' disabled><label for='attrs-585fe06c-8766-4669-806e-869e81b723dc' title='Show/Hide attributes'><svg class='icon xr-icon-file-text2'><use xlink:href='#icon-file-text2'></use></svg></label><input id='data-2bebc47d-e527-4c73-9423-3a6717a9f09d' class='xr-var-data-in' type='checkbox'><label for='data-2bebc47d-e527-4c73-9423-3a6717a9f09d' title='Show/Hide data repr'><svg class='icon xr-icon-database'><use xlink:href='#icon-database'></use></svg></label><div class='xr-var-attrs'><dl class='xr-attrs'></dl></div><div class='xr-var-data'><pre>[14296160 values with dtype=float64]</pre></div></li><li class='xr-var-item'><div class='xr-var-name'><span>rotn</span></div><div class='xr-var-dims'>(t, z, y, x)</div><div class='xr-var-dtype'>float64</div><div class='xr-var-preview xr-preview'>...</div><input id='attrs-49a9e6f6-e1db-4660-91be-1f2c00260bde' class='xr-var-attrs-in' type='checkbox' disabled><label for='attrs-49a9e6f6-e1db-4660-91be-1f2c00260bde' title='Show/Hide attributes'><svg class='icon xr-icon-file-text2'><use xlink:href='#icon-file-text2'></use></svg></label><input id='data-45a25490-2b25-4ea0-a0da-04285ab4c5d1' class='xr-var-data-in' type='checkbox'><label for='data-45a25490-2b25-4ea0-a0da-04285ab4c5d1' title='Show/Hide data repr'><svg class='icon xr-icon-database'><use xlink:href='#icon-database'></use></svg></label><div class='xr-var-attrs'><dl class='xr-attrs'></dl></div><div class='xr-var-data'><pre>[14296160 values with dtype=float64]</pre></div></li><li class='xr-var-item'><div class='xr-var-name'><span>vb2_b</span></div><div class='xr-var-dims'>(t, y, x)</div><div class='xr-var-dtype'>float64</div><div class='xr-var-preview xr-preview'>...</div><input id='attrs-5cff897e-9ae9-4ad9-9bb4-ca21f91c4ce5' class='xr-var-attrs-in' type='checkbox' disabled><label for='attrs-5cff897e-9ae9-4ad9-9bb4-ca21f91c4ce5' title='Show/Hide attributes'><svg class='icon xr-icon-file-text2'><use xlink:href='#icon-file-text2'></use></svg></label><input id='data-4d5a9d07-f200-4620-88ea-26bd491c3443' class='xr-var-data-in' type='checkbox'><label for='data-4d5a9d07-f200-4620-88ea-26bd491c3443' title='Show/Hide data repr'><svg class='icon xr-icon-database'><use xlink:href='#icon-database'></use></svg></label><div class='xr-var-attrs'><dl class='xr-attrs'></dl></div><div class='xr-var-data'><pre>[357404 values with dtype=float64]</pre></div></li><li class='xr-var-item'><div class='xr-var-name'><span>nav_lat</span></div><div class='xr-var-dims'>(y, x)</div><div class='xr-var-dtype'>float32</div><div class='xr-var-preview xr-preview'>...</div><input id='attrs-ab5ba212-f763-4b09-b601-2ea83398e81a' class='xr-var-attrs-in' type='checkbox' disabled><label for='attrs-ab5ba212-f763-4b09-b601-2ea83398e81a' title='Show/Hide attributes'><svg class='icon xr-icon-file-text2'><use xlink:href='#icon-file-text2'></use></svg></label><input id='data-ddfc010c-875f-48e4-96a9-0aa0338cad5d' class='xr-var-data-in' type='checkbox'><label for='data-ddfc010c-875f-48e4-96a9-0aa0338cad5d' title='Show/Hide data repr'><svg class='icon xr-icon-database'><use xlink:href='#icon-database'></use></svg></label><div class='xr-var-attrs'><dl class='xr-attrs'></dl></div><div class='xr-var-data'><pre>[357404 values with dtype=float32]</pre></div></li><li class='xr-var-item'><div class='xr-var-name'><span>nav_lev</span></div><div class='xr-var-dims'>(z)</div><div class='xr-var-dtype'>float32</div><div class='xr-var-preview xr-preview'>...</div><input id='attrs-ee19cc87-e036-4277-8fc2-24b019588c31' class='xr-var-attrs-in' type='checkbox' disabled><label for='attrs-ee19cc87-e036-4277-8fc2-24b019588c31' title='Show/Hide attributes'><svg class='icon xr-icon-file-text2'><use xlink:href='#icon-file-text2'></use></svg></label><input id='data-53246f6d-782b-463e-87b9-d2a0965857f3' class='xr-var-data-in' type='checkbox'><label for='data-53246f6d-782b-463e-87b9-d2a0965857f3' title='Show/Hide data repr'><svg class='icon xr-icon-database'><use xlink:href='#icon-database'></use></svg></label><div class='xr-var-attrs'><dl class='xr-attrs'></dl></div><div class='xr-var-data'><pre>[40 values with dtype=float32]</pre></div></li><li class='xr-var-item'><div class='xr-var-name'><span>hdivb</span></div><div class='xr-var-dims'>(t, z, y, x)</div><div class='xr-var-dtype'>float64</div><div class='xr-var-preview xr-preview'>...</div><input id='attrs-68178186-58b8-48f0-8581-82649d9d6c19' class='xr-var-attrs-in' type='checkbox' disabled><label for='attrs-68178186-58b8-48f0-8581-82649d9d6c19' title='Show/Hide attributes'><svg class='icon xr-icon-file-text2'><use xlink:href='#icon-file-text2'></use></svg></label><input id='data-897b9053-1aff-49b9-8fc5-c86ee986b4e6' class='xr-var-data-in' type='checkbox'><label for='data-897b9053-1aff-49b9-8fc5-c86ee986b4e6' title='Show/Hide data repr'><svg class='icon xr-icon-database'><use xlink:href='#icon-database'></use></svg></label><div class='xr-var-attrs'><dl class='xr-attrs'></dl></div><div class='xr-var-data'><pre>[14296160 values with dtype=float64]</pre></div></li><li class='xr-var-item'><div class='xr-var-name'><span>en</span></div><div class='xr-var-dims'>(t, z, y, x)</div><div class='xr-var-dtype'>float64</div><div class='xr-var-preview xr-preview'>...</div><input id='attrs-f32828c2-4974-4487-a993-8d574682b277' class='xr-var-attrs-in' type='checkbox' disabled><label for='attrs-f32828c2-4974-4487-a993-8d574682b277' title='Show/Hide attributes'><svg class='icon xr-icon-file-text2'><use xlink:href='#icon-file-text2'></use></svg></label><input id='data-f250cb8a-d510-45fd-bfe5-828a9f9dba11' class='xr-var-data-in' type='checkbox'><label for='data-f250cb8a-d510-45fd-bfe5-828a9f9dba11' title='Show/Hide data repr'><svg class='icon xr-icon-database'><use xlink:href='#icon-database'></use></svg></label><div class='xr-var-attrs'><dl class='xr-attrs'></dl></div><div class='xr-var-data'><pre>[14296160 values with dtype=float64]</pre></div></li><li class='xr-var-item'><div class='xr-var-name'><span>ub2_b</span></div><div class='xr-var-dims'>(t, y, x)</div><div class='xr-var-dtype'>float64</div><div class='xr-var-preview xr-preview'>...</div><input id='attrs-100fd999-b822-4cb4-a142-33a436577dd1' class='xr-var-attrs-in' type='checkbox' disabled><label for='attrs-100fd999-b822-4cb4-a142-33a436577dd1' title='Show/Hide attributes'><svg class='icon xr-icon-file-text2'><use xlink:href='#icon-file-text2'></use></svg></label><input id='data-cdc2a0f9-9479-4357-a5e7-dffb901f9f25' class='xr-var-data-in' type='checkbox'><label for='data-cdc2a0f9-9479-4357-a5e7-dffb901f9f25' title='Show/Hide data repr'><svg class='icon xr-icon-database'><use xlink:href='#icon-database'></use></svg></label><div class='xr-var-attrs'><dl class='xr-attrs'></dl></div><div class='xr-var-data'><pre>[357404 values with dtype=float64]</pre></div></li><li class='xr-var-item'><div class='xr-var-name'><span>mxln</span></div><div class='xr-var-dims'>(t, z, y, x)</div><div class='xr-var-dtype'>float64</div><div class='xr-var-preview xr-preview'>...</div><input id='attrs-4d61d8f6-363b-4b1d-9094-ac3cb1a22263' class='xr-var-attrs-in' type='checkbox' disabled><label for='attrs-4d61d8f6-363b-4b1d-9094-ac3cb1a22263' title='Show/Hide attributes'><svg class='icon xr-icon-file-text2'><use xlink:href='#icon-file-text2'></use></svg></label><input id='data-5d3940c6-dffa-47b3-b30b-fc97ac9c91e5' class='xr-var-data-in' type='checkbox'><label for='data-5d3940c6-dffa-47b3-b30b-fc97ac9c91e5' title='Show/Hide data repr'><svg class='icon xr-icon-database'><use xlink:href='#icon-database'></use></svg></label><div class='xr-var-attrs'><dl class='xr-attrs'></dl></div><div class='xr-var-data'><pre>[14296160 values with dtype=float64]</pre></div></li><li class='xr-var-item'><div class='xr-var-name'><span>rnf_b</span></div><div class='xr-var-dims'>(t, y, x)</div><div class='xr-var-dtype'>float64</div><div class='xr-var-preview xr-preview'>...</div><input id='attrs-1f373ee1-e535-4b5c-87a3-bbb88fb83002' class='xr-var-attrs-in' type='checkbox' disabled><label for='attrs-1f373ee1-e535-4b5c-87a3-bbb88fb83002' title='Show/Hide attributes'><svg class='icon xr-icon-file-text2'><use xlink:href='#icon-file-text2'></use></svg></label><input id='data-ee187e82-39b2-4c81-b1c4-f5ff40b0f0e0' class='xr-var-data-in' type='checkbox'><label for='data-ee187e82-39b2-4c81-b1c4-f5ff40b0f0e0' title='Show/Hide data repr'><svg class='icon xr-icon-database'><use xlink:href='#icon-database'></use></svg></label><div class='xr-var-attrs'><dl class='xr-attrs'></dl></div><div class='xr-var-data'><pre>[357404 values with dtype=float64]</pre></div></li><li class='xr-var-item'><div class='xr-var-name'><span>sfx_b</span></div><div class='xr-var-dims'>(t, y, x)</div><div class='xr-var-dtype'>float64</div><div class='xr-var-preview xr-preview'>...</div><input id='attrs-9f76dbea-f0c3-4225-8c42-7eae04803751' class='xr-var-attrs-in' type='checkbox' disabled><label for='attrs-9f76dbea-f0c3-4225-8c42-7eae04803751' title='Show/Hide attributes'><svg class='icon xr-icon-file-text2'><use xlink:href='#icon-file-text2'></use></svg></label><input id='data-f0e427ca-70de-4754-8857-7b569f5446bf' class='xr-var-data-in' type='checkbox'><label for='data-f0e427ca-70de-4754-8857-7b569f5446bf' title='Show/Hide data repr'><svg class='icon xr-icon-database'><use xlink:href='#icon-database'></use></svg></label><div class='xr-var-attrs'><dl class='xr-attrs'></dl></div><div class='xr-var-data'><pre>[357404 values with dtype=float64]</pre></div></li><li class='xr-var-item'><div class='xr-var-name'><span>ssh_ibb</span></div><div class='xr-var-dims'>(t, y, x)</div><div class='xr-var-dtype'>float64</div><div class='xr-var-preview xr-preview'>...</div><input id='attrs-e5e16c43-774d-4439-90b1-505206896a22' class='xr-var-attrs-in' type='checkbox' disabled><label for='attrs-e5e16c43-774d-4439-90b1-505206896a22' title='Show/Hide attributes'><svg class='icon xr-icon-file-text2'><use xlink:href='#icon-file-text2'></use></svg></label><input id='data-e5fd45df-88ee-47a8-b275-c5ecf9f76796' class='xr-var-data-in' type='checkbox'><label for='data-e5fd45df-88ee-47a8-b275-c5ecf9f76796' title='Show/Hide data repr'><svg class='icon xr-icon-database'><use xlink:href='#icon-database'></use></svg></label><div class='xr-var-attrs'><dl class='xr-attrs'></dl></div><div class='xr-var-data'><pre>[357404 values with dtype=float64]</pre></div></li><li class='xr-var-item'><div class='xr-var-name'><span>rotb</span></div><div class='xr-var-dims'>(t, z, y, x)</div><div class='xr-var-dtype'>float64</div><div class='xr-var-preview xr-preview'>...</div><input id='attrs-c3a28507-1600-44b0-9277-dc2992d76bf6' class='xr-var-attrs-in' type='checkbox' disabled><label for='attrs-c3a28507-1600-44b0-9277-dc2992d76bf6' title='Show/Hide attributes'><svg class='icon xr-icon-file-text2'><use xlink:href='#icon-file-text2'></use></svg></label><input id='data-3bf9eb64-3b86-49b3-b79f-9b664f03356e' class='xr-var-data-in' type='checkbox'><label for='data-3bf9eb64-3b86-49b3-b79f-9b664f03356e' title='Show/Hide data repr'><svg class='icon xr-icon-database'><use xlink:href='#icon-database'></use></svg></label><div class='xr-var-attrs'><dl class='xr-attrs'></dl></div><div class='xr-var-data'><pre>[14296160 values with dtype=float64]</pre></div></li><li class='xr-var-item'><div class='xr-var-name'><span>fraqsr_1lev</span></div><div class='xr-var-dims'>(t, y, x)</div><div class='xr-var-dtype'>float64</div><div class='xr-var-preview xr-preview'>...</div><input id='attrs-a4953a8b-de4f-4297-99b4-dad981661aa6' class='xr-var-attrs-in' type='checkbox' disabled><label for='attrs-a4953a8b-de4f-4297-99b4-dad981661aa6' title='Show/Hide attributes'><svg class='icon xr-icon-file-text2'><use xlink:href='#icon-file-text2'></use></svg></label><input id='data-a027f5e1-ed91-4a83-a0cf-2d527fb0c46c' class='xr-var-data-in' type='checkbox'><label for='data-a027f5e1-ed91-4a83-a0cf-2d527fb0c46c' title='Show/Hide data repr'><svg class='icon xr-icon-database'><use xlink:href='#icon-database'></use></svg></label><div class='xr-var-attrs'><dl class='xr-attrs'></dl></div><div class='xr-var-data'><pre>[357404 values with dtype=float64]</pre></div></li><li class='xr-var-item'><div class='xr-var-name'><span>emp_b</span></div><div class='xr-var-dims'>(t, y, x)</div><div class='xr-var-dtype'>float64</div><div class='xr-var-preview xr-preview'>...</div><input id='attrs-f2230dfd-2be7-40d1-8e36-595d2de1e39f' class='xr-var-attrs-in' type='checkbox' disabled><label for='attrs-f2230dfd-2be7-40d1-8e36-595d2de1e39f' title='Show/Hide attributes'><svg class='icon xr-icon-file-text2'><use xlink:href='#icon-file-text2'></use></svg></label><input id='data-eba39ac9-2d0b-4b21-a342-71212d50a820' class='xr-var-data-in' type='checkbox'><label for='data-eba39ac9-2d0b-4b21-a342-71212d50a820' title='Show/Hide data repr'><svg class='icon xr-icon-database'><use xlink:href='#icon-database'></use></svg></label><div class='xr-var-attrs'><dl class='xr-attrs'></dl></div><div class='xr-var-data'><pre>[357404 values with dtype=float64]</pre></div></li><li class='xr-var-item'><div class='xr-var-name'><span>time_counter</span></div><div class='xr-var-dims'>(t)</div><div class='xr-var-dtype'>float64</div><div class='xr-var-preview xr-preview'>...</div><input id='attrs-7809a3a5-295e-4d27-8828-ed147c462a41' class='xr-var-attrs-in' type='checkbox' disabled><label for='attrs-7809a3a5-295e-4d27-8828-ed147c462a41' title='Show/Hide attributes'><svg class='icon xr-icon-file-text2'><use xlink:href='#icon-file-text2'></use></svg></label><input id='data-564f6190-8fbe-428c-919e-f836f6bd49f1' class='xr-var-data-in' type='checkbox'><label for='data-564f6190-8fbe-428c-919e-f836f6bd49f1' title='Show/Hide data repr'><svg class='icon xr-icon-database'><use xlink:href='#icon-database'></use></svg></label><div class='xr-var-attrs'><dl class='xr-attrs'></dl></div><div class='xr-var-data'><pre>[1 values with dtype=float64]</pre></div></li><li class='xr-var-item'><div class='xr-var-name'><span>adatrj</span></div><div class='xr-var-dims'>()</div><div class='xr-var-dtype'>float64</div><div class='xr-var-preview xr-preview'>...</div><input id='attrs-6f1b4c72-5065-4deb-bf62-05902e65f708' class='xr-var-attrs-in' type='checkbox' disabled><label for='attrs-6f1b4c72-5065-4deb-bf62-05902e65f708' title='Show/Hide attributes'><svg class='icon xr-icon-file-text2'><use xlink:href='#icon-file-text2'></use></svg></label><input id='data-0b6b918c-ffe3-4683-907c-152e8db8acae' class='xr-var-data-in' type='checkbox'><label for='data-0b6b918c-ffe3-4683-907c-152e8db8acae' title='Show/Hide data repr'><svg class='icon xr-icon-database'><use xlink:href='#icon-database'></use></svg></label><div class='xr-var-attrs'><dl class='xr-attrs'></dl></div><div class='xr-var-data'><pre>[1 values with dtype=float64]</pre></div></li><li class='xr-var-item'><div class='xr-var-name'><span>vb</span></div><div class='xr-var-dims'>(t, z, y, x)</div><div class='xr-var-dtype'>float64</div><div class='xr-var-preview xr-preview'>...</div><input id='attrs-3b5f3f1f-0eb3-4eb6-afe4-d134baeb88ec' class='xr-var-attrs-in' type='checkbox' disabled><label for='attrs-3b5f3f1f-0eb3-4eb6-afe4-d134baeb88ec' title='Show/Hide attributes'><svg class='icon xr-icon-file-text2'><use xlink:href='#icon-file-text2'></use></svg></label><input id='data-3d9ed665-a3ad-4760-ac6e-789d776912c2' class='xr-var-data-in' type='checkbox'><label for='data-3d9ed665-a3ad-4760-ac6e-789d776912c2' title='Show/Hide data repr'><svg class='icon xr-icon-database'><use xlink:href='#icon-database'></use></svg></label><div class='xr-var-attrs'><dl class='xr-attrs'></dl></div><div class='xr-var-data'><pre>[14296160 values with dtype=float64]</pre></div></li><li class='xr-var-item'><div class='xr-var-name'><span>rnf_hc_b</span></div><div class='xr-var-dims'>(t, y, x)</div><div class='xr-var-dtype'>float64</div><div class='xr-var-preview xr-preview'>...</div><input id='attrs-2cba634d-38ed-4770-9316-a0f6706d6a28' class='xr-var-attrs-in' type='checkbox' disabled><label for='attrs-2cba634d-38ed-4770-9316-a0f6706d6a28' title='Show/Hide attributes'><svg class='icon xr-icon-file-text2'><use xlink:href='#icon-file-text2'></use></svg></label><input id='data-2753d185-fae4-4c08-9f10-add4332d05b2' class='xr-var-data-in' type='checkbox'><label for='data-2753d185-fae4-4c08-9f10-add4332d05b2' title='Show/Hide data repr'><svg class='icon xr-icon-database'><use xlink:href='#icon-database'></use></svg></label><div class='xr-var-attrs'><dl class='xr-attrs'></dl></div><div class='xr-var-data'><pre>[357404 values with dtype=float64]</pre></div></li><li class='xr-var-item'><div class='xr-var-name'><span>fse3t_n</span></div><div class='xr-var-dims'>(t, z, y, x)</div><div class='xr-var-dtype'>float64</div><div class='xr-var-preview xr-preview'>...</div><input id='attrs-b024551f-c775-4e1e-a4c5-90e411166ac2' class='xr-var-attrs-in' type='checkbox' disabled><label for='attrs-b024551f-c775-4e1e-a4c5-90e411166ac2' title='Show/Hide attributes'><svg class='icon xr-icon-file-text2'><use xlink:href='#icon-file-text2'></use></svg></label><input id='data-96e43b28-a967-4804-b898-6a658b9ea0a1' class='xr-var-data-in' type='checkbox'><label for='data-96e43b28-a967-4804-b898-6a658b9ea0a1' title='Show/Hide data repr'><svg class='icon xr-icon-database'><use xlink:href='#icon-database'></use></svg></label><div class='xr-var-attrs'><dl class='xr-attrs'></dl></div><div class='xr-var-data'><pre>[14296160 values with dtype=float64]</pre></div></li><li class='xr-var-item'><div class='xr-var-name'><span>rdt</span></div><div class='xr-var-dims'>()</div><div class='xr-var-dtype'>float64</div><div class='xr-var-preview xr-preview'>...</div><input id='attrs-fcbe7929-9806-4a22-a09d-cee41a30a60e' class='xr-var-attrs-in' type='checkbox' disabled><label for='attrs-fcbe7929-9806-4a22-a09d-cee41a30a60e' title='Show/Hide attributes'><svg class='icon xr-icon-file-text2'><use xlink:href='#icon-file-text2'></use></svg></label><input id='data-27627c55-d987-4ebc-8348-66235c0ffb14' class='xr-var-data-in' type='checkbox'><label for='data-27627c55-d987-4ebc-8348-66235c0ffb14' title='Show/Hide data repr'><svg class='icon xr-icon-database'><use xlink:href='#icon-database'></use></svg></label><div class='xr-var-attrs'><dl class='xr-attrs'></dl></div><div class='xr-var-data'><pre>[1 values with dtype=float64]</pre></div></li><li class='xr-var-item'><div class='xr-var-name'><span>kt</span></div><div class='xr-var-dims'>()</div><div class='xr-var-dtype'>float64</div><div class='xr-var-preview xr-preview'>...</div><input id='attrs-8e6ad443-5b92-47a3-a288-4265dd3248f5' class='xr-var-attrs-in' type='checkbox' disabled><label for='attrs-8e6ad443-5b92-47a3-a288-4265dd3248f5' title='Show/Hide attributes'><svg class='icon xr-icon-file-text2'><use xlink:href='#icon-file-text2'></use></svg></label><input id='data-4d7b34d3-a88f-4b6d-85d9-93214681e49a' class='xr-var-data-in' type='checkbox'><label for='data-4d7b34d3-a88f-4b6d-85d9-93214681e49a' title='Show/Hide data repr'><svg class='icon xr-icon-database'><use xlink:href='#icon-database'></use></svg></label><div class='xr-var-attrs'><dl class='xr-attrs'></dl></div><div class='xr-var-data'><pre>[1 values with dtype=float64]</pre></div></li><li class='xr-var-item'><div class='xr-var-name'><span>rhop</span></div><div class='xr-var-dims'>(t, z, y, x)</div><div class='xr-var-dtype'>float64</div><div class='xr-var-preview xr-preview'>...</div><input id='attrs-ccc9c66a-1e31-4efb-8e58-ea244c8c6782' class='xr-var-attrs-in' type='checkbox' disabled><label for='attrs-ccc9c66a-1e31-4efb-8e58-ea244c8c6782' title='Show/Hide attributes'><svg class='icon xr-icon-file-text2'><use xlink:href='#icon-file-text2'></use></svg></label><input id='data-21d41571-cc0e-4336-95b7-e883607af6e2' class='xr-var-data-in' type='checkbox'><label for='data-21d41571-cc0e-4336-95b7-e883607af6e2' title='Show/Hide data repr'><svg class='icon xr-icon-database'><use xlink:href='#icon-database'></use></svg></label><div class='xr-var-attrs'><dl class='xr-attrs'></dl></div><div class='xr-var-data'><pre>[14296160 values with dtype=float64]</pre></div></li><li class='xr-var-item'><div class='xr-var-name'><span>avt</span></div><div class='xr-var-dims'>(t, z, y, x)</div><div class='xr-var-dtype'>float64</div><div class='xr-var-preview xr-preview'>...</div><input id='attrs-4bc18fe7-c01b-468b-b8c3-afb652b74351' class='xr-var-attrs-in' type='checkbox' disabled><label for='attrs-4bc18fe7-c01b-468b-b8c3-afb652b74351' title='Show/Hide attributes'><svg class='icon xr-icon-file-text2'><use xlink:href='#icon-file-text2'></use></svg></label><input id='data-d364e94c-5ae7-4978-af71-3905e28d322f' class='xr-var-data-in' type='checkbox'><label for='data-d364e94c-5ae7-4978-af71-3905e28d322f' title='Show/Hide data repr'><svg class='icon xr-icon-database'><use xlink:href='#icon-database'></use></svg></label><div class='xr-var-attrs'><dl class='xr-attrs'></dl></div><div class='xr-var-data'><pre>[14296160 values with dtype=float64]</pre></div></li><li class='xr-var-item'><div class='xr-var-name'><span>avm</span></div><div class='xr-var-dims'>(t, z, y, x)</div><div class='xr-var-dtype'>float64</div><div class='xr-var-preview xr-preview'>...</div><input id='attrs-7babcde8-6644-4593-8c45-5f5bb2d552ab' class='xr-var-attrs-in' type='checkbox' disabled><label for='attrs-7babcde8-6644-4593-8c45-5f5bb2d552ab' title='Show/Hide attributes'><svg class='icon xr-icon-file-text2'><use xlink:href='#icon-file-text2'></use></svg></label><input id='data-83ac34a1-e75b-47ac-8933-d36b82658e52' class='xr-var-data-in' type='checkbox'><label for='data-83ac34a1-e75b-47ac-8933-d36b82658e52' title='Show/Hide data repr'><svg class='icon xr-icon-database'><use xlink:href='#icon-database'></use></svg></label><div class='xr-var-attrs'><dl class='xr-attrs'></dl></div><div class='xr-var-data'><pre>[14296160 values with dtype=float64]</pre></div></li><li class='xr-var-item'><div class='xr-var-name'><span>un</span></div><div class='xr-var-dims'>(t, z, y, x)</div><div class='xr-var-dtype'>float64</div><div class='xr-var-preview xr-preview'>...</div><input id='attrs-5010a776-0d31-4234-afdf-2fe38072eef2' class='xr-var-attrs-in' type='checkbox' disabled><label for='attrs-5010a776-0d31-4234-afdf-2fe38072eef2' title='Show/Hide attributes'><svg class='icon xr-icon-file-text2'><use xlink:href='#icon-file-text2'></use></svg></label><input id='data-56c6637e-ed89-4d12-b843-814ae548bdcb' class='xr-var-data-in' type='checkbox'><label for='data-56c6637e-ed89-4d12-b843-814ae548bdcb' title='Show/Hide data repr'><svg class='icon xr-icon-database'><use xlink:href='#icon-database'></use></svg></label><div class='xr-var-attrs'><dl class='xr-attrs'></dl></div><div class='xr-var-data'><pre>[14296160 values with dtype=float64]</pre></div></li><li class='xr-var-item'><div class='xr-var-name'><span>vn</span></div><div class='xr-var-dims'>(t, z, y, x)</div><div class='xr-var-dtype'>float64</div><div class='xr-var-preview xr-preview'>...</div><input id='attrs-b9d0ab49-1f16-446f-8935-f673cb90f14a' class='xr-var-attrs-in' type='checkbox' disabled><label for='attrs-b9d0ab49-1f16-446f-8935-f673cb90f14a' title='Show/Hide attributes'><svg class='icon xr-icon-file-text2'><use xlink:href='#icon-file-text2'></use></svg></label><input id='data-f0aa6e83-1182-464c-bbd3-fd6a7259ab26' class='xr-var-data-in' type='checkbox'><label for='data-f0aa6e83-1182-464c-bbd3-fd6a7259ab26' title='Show/Hide data repr'><svg class='icon xr-icon-database'><use xlink:href='#icon-database'></use></svg></label><div class='xr-var-attrs'><dl class='xr-attrs'></dl></div><div class='xr-var-data'><pre>[14296160 values with dtype=float64]</pre></div></li><li class='xr-var-item'><div class='xr-var-name'><span>nav_lon</span></div><div class='xr-var-dims'>(y, x)</div><div class='xr-var-dtype'>float32</div><div class='xr-var-preview xr-preview'>...</div><input id='attrs-2f5c3a89-8fa3-491a-8247-8f95f27a7581' class='xr-var-attrs-in' type='checkbox' disabled><label for='attrs-2f5c3a89-8fa3-491a-8247-8f95f27a7581' title='Show/Hide attributes'><svg class='icon xr-icon-file-text2'><use xlink:href='#icon-file-text2'></use></svg></label><input id='data-b8e6073c-bfe4-41c9-821d-507373a2824a' class='xr-var-data-in' type='checkbox'><label for='data-b8e6073c-bfe4-41c9-821d-507373a2824a' title='Show/Hide data repr'><svg class='icon xr-icon-database'><use xlink:href='#icon-database'></use></svg></label><div class='xr-var-attrs'><dl class='xr-attrs'></dl></div><div class='xr-var-data'><pre>[357404 values with dtype=float32]</pre></div></li><li class='xr-var-item'><div class='xr-var-name'><span>avmu</span></div><div class='xr-var-dims'>(t, z, y, x)</div><div class='xr-var-dtype'>float64</div><div class='xr-var-preview xr-preview'>...</div><input id='attrs-aa5c8438-f530-4a63-95ca-3acb29140ac5' class='xr-var-attrs-in' type='checkbox' disabled><label for='attrs-aa5c8438-f530-4a63-95ca-3acb29140ac5' title='Show/Hide attributes'><svg class='icon xr-icon-file-text2'><use xlink:href='#icon-file-text2'></use></svg></label><input id='data-8c0dcd58-542c-4ece-b86a-91605fec3ec4' class='xr-var-data-in' type='checkbox'><label for='data-8c0dcd58-542c-4ece-b86a-91605fec3ec4' title='Show/Hide data repr'><svg class='icon xr-icon-database'><use xlink:href='#icon-database'></use></svg></label><div class='xr-var-attrs'><dl class='xr-attrs'></dl></div><div class='xr-var-data'><pre>[14296160 values with dtype=float64]</pre></div></li><li class='xr-var-item'><div class='xr-var-name'><span>ub</span></div><div class='xr-var-dims'>(t, z, y, x)</div><div class='xr-var-dtype'>float64</div><div class='xr-var-preview xr-preview'>...</div><input id='attrs-4a84edf8-8a2a-41bb-ad47-2f90e9477896' class='xr-var-attrs-in' type='checkbox' disabled><label for='attrs-4a84edf8-8a2a-41bb-ad47-2f90e9477896' title='Show/Hide attributes'><svg class='icon xr-icon-file-text2'><use xlink:href='#icon-file-text2'></use></svg></label><input id='data-7561dcc6-eca4-40f6-9016-7852acef5873' class='xr-var-data-in' type='checkbox'><label for='data-7561dcc6-eca4-40f6-9016-7852acef5873' title='Show/Hide data repr'><svg class='icon xr-icon-database'><use xlink:href='#icon-database'></use></svg></label><div class='xr-var-attrs'><dl class='xr-attrs'></dl></div><div class='xr-var-data'><pre>[14296160 values with dtype=float64]</pre></div></li><li class='xr-var-item'><div class='xr-var-name'><span>rdttra1</span></div><div class='xr-var-dims'>()</div><div class='xr-var-dtype'>float64</div><div class='xr-var-preview xr-preview'>...</div><input id='attrs-3ace29b0-d167-4c6a-a575-43ac75de42d7' class='xr-var-attrs-in' type='checkbox' disabled><label for='attrs-3ace29b0-d167-4c6a-a575-43ac75de42d7' title='Show/Hide attributes'><svg class='icon xr-icon-file-text2'><use xlink:href='#icon-file-text2'></use></svg></label><input id='data-f9089fed-c352-43e6-ad05-451d519dffea' class='xr-var-data-in' type='checkbox'><label for='data-f9089fed-c352-43e6-ad05-451d519dffea' title='Show/Hide data repr'><svg class='icon xr-icon-database'><use xlink:href='#icon-database'></use></svg></label><div class='xr-var-attrs'><dl class='xr-attrs'></dl></div><div class='xr-var-data'><pre>[1 values with dtype=float64]</pre></div></li><li class='xr-var-item'><div class='xr-var-name'><span>hdivn</span></div><div class='xr-var-dims'>(t, z, y, x)</div><div class='xr-var-dtype'>float64</div><div class='xr-var-preview xr-preview'>...</div><input id='attrs-d7407151-2de3-42a3-a774-b1e2d26b45ff' class='xr-var-attrs-in' type='checkbox' disabled><label for='attrs-d7407151-2de3-42a3-a774-b1e2d26b45ff' title='Show/Hide attributes'><svg class='icon xr-icon-file-text2'><use xlink:href='#icon-file-text2'></use></svg></label><input id='data-374b9d33-ee10-4157-b1c6-c400c4dee2a2' class='xr-var-data-in' type='checkbox'><label for='data-374b9d33-ee10-4157-b1c6-c400c4dee2a2' title='Show/Hide data repr'><svg class='icon xr-icon-database'><use xlink:href='#icon-database'></use></svg></label><div class='xr-var-attrs'><dl class='xr-attrs'></dl></div><div class='xr-var-data'><pre>[14296160 values with dtype=float64]</pre></div></li><li class='xr-var-item'><div class='xr-var-name'><span>utau_b</span></div><div class='xr-var-dims'>(t, y, x)</div><div class='xr-var-dtype'>float64</div><div class='xr-var-preview xr-preview'>...</div><input id='attrs-a80754bd-a461-46e8-ba40-19b2c683c565' class='xr-var-attrs-in' type='checkbox' disabled><label for='attrs-a80754bd-a461-46e8-ba40-19b2c683c565' title='Show/Hide attributes'><svg class='icon xr-icon-file-text2'><use xlink:href='#icon-file-text2'></use></svg></label><input id='data-6a2f73fa-50b1-4922-9892-cbb9e29fda76' class='xr-var-data-in' type='checkbox'><label for='data-6a2f73fa-50b1-4922-9892-cbb9e29fda76' title='Show/Hide data repr'><svg class='icon xr-icon-database'><use xlink:href='#icon-database'></use></svg></label><div class='xr-var-attrs'><dl class='xr-attrs'></dl></div><div class='xr-var-data'><pre>[357404 values with dtype=float64]</pre></div></li><li class='xr-var-item'><div class='xr-var-name'><span>sbc_DON_b</span></div><div class='xr-var-dims'>(t, y, x)</div><div class='xr-var-dtype'>float64</div><div class='xr-var-preview xr-preview'>...</div><input id='attrs-df4d2745-ef10-4d5f-8036-7054ae27fe2d' class='xr-var-attrs-in' type='checkbox' disabled><label for='attrs-df4d2745-ef10-4d5f-8036-7054ae27fe2d' title='Show/Hide attributes'><svg class='icon xr-icon-file-text2'><use xlink:href='#icon-file-text2'></use></svg></label><input id='data-1df04323-d9c1-430a-9476-cf05dae2b3be' class='xr-var-data-in' type='checkbox'><label for='data-1df04323-d9c1-430a-9476-cf05dae2b3be' title='Show/Hide data repr'><svg class='icon xr-icon-database'><use xlink:href='#icon-database'></use></svg></label><div class='xr-var-attrs'><dl class='xr-attrs'></dl></div><div class='xr-var-data'><pre>[357404 values with dtype=float64]</pre></div></li><li class='xr-var-item'><div class='xr-var-name'><span>rnf_pis_MYRI_b</span></div><div class='xr-var-dims'>(t, y, x)</div><div class='xr-var-dtype'>float64</div><div class='xr-var-preview xr-preview'>...</div><input id='attrs-d70e3442-2431-4956-8538-005ec4388312' class='xr-var-attrs-in' type='checkbox' disabled><label for='attrs-d70e3442-2431-4956-8538-005ec4388312' title='Show/Hide attributes'><svg class='icon xr-icon-file-text2'><use xlink:href='#icon-file-text2'></use></svg></label><input id='data-20f273a1-141a-4155-8aec-d47431a2316c' class='xr-var-data-in' type='checkbox'><label for='data-20f273a1-141a-4155-8aec-d47431a2316c' title='Show/Hide data repr'><svg class='icon xr-icon-database'><use xlink:href='#icon-database'></use></svg></label><div class='xr-var-attrs'><dl class='xr-attrs'></dl></div><div class='xr-var-data'><pre>[357404 values with dtype=float64]</pre></div></li><li class='xr-var-item'><div class='xr-var-name'><span>rnf_pis_bSi_b</span></div><div class='xr-var-dims'>(t, y, x)</div><div class='xr-var-dtype'>float64</div><div class='xr-var-preview xr-preview'>...</div><input id='attrs-4bdcc791-2365-4e6f-a72f-741553fc7e2e' class='xr-var-attrs-in' type='checkbox' disabled><label for='attrs-4bdcc791-2365-4e6f-a72f-741553fc7e2e' title='Show/Hide attributes'><svg class='icon xr-icon-file-text2'><use xlink:href='#icon-file-text2'></use></svg></label><input id='data-f31914b0-de86-4252-a756-f4d80a208bb4' class='xr-var-data-in' type='checkbox'><label for='data-f31914b0-de86-4252-a756-f4d80a208bb4' title='Show/Hide data repr'><svg class='icon xr-icon-database'><use xlink:href='#icon-database'></use></svg></label><div class='xr-var-attrs'><dl class='xr-attrs'></dl></div><div class='xr-var-data'><pre>[357404 values with dtype=float64]</pre></div></li><li class='xr-var-item'><div class='xr-var-name'><span>rnf_pis_MICZ_b</span></div><div class='xr-var-dims'>(t, y, x)</div><div class='xr-var-dtype'>float64</div><div class='xr-var-preview xr-preview'>...</div><input id='attrs-81f3d36e-83a6-4afc-810e-5cb104ac03c3' class='xr-var-attrs-in' type='checkbox' disabled><label for='attrs-81f3d36e-83a6-4afc-810e-5cb104ac03c3' title='Show/Hide attributes'><svg class='icon xr-icon-file-text2'><use xlink:href='#icon-file-text2'></use></svg></label><input id='data-2a2b0ec4-0c3a-48c3-ae0b-4a70b3c695d8' class='xr-var-data-in' type='checkbox'><label for='data-2a2b0ec4-0c3a-48c3-ae0b-4a70b3c695d8' title='Show/Hide data repr'><svg class='icon xr-icon-database'><use xlink:href='#icon-database'></use></svg></label><div class='xr-var-attrs'><dl class='xr-attrs'></dl></div><div class='xr-var-data'><pre>[357404 values with dtype=float64]</pre></div></li><li class='xr-var-item'><div class='xr-var-name'><span>sbc_NO3_b</span></div><div class='xr-var-dims'>(t, y, x)</div><div class='xr-var-dtype'>float64</div><div class='xr-var-preview xr-preview'>...</div><input id='attrs-cba2512a-b6ed-4789-a33d-62f9318311c5' class='xr-var-attrs-in' type='checkbox' disabled><label for='attrs-cba2512a-b6ed-4789-a33d-62f9318311c5' title='Show/Hide attributes'><svg class='icon xr-icon-file-text2'><use xlink:href='#icon-file-text2'></use></svg></label><input id='data-41b9386d-fed7-4e52-a884-c9c36f2c00c5' class='xr-var-data-in' type='checkbox'><label for='data-41b9386d-fed7-4e52-a884-c9c36f2c00c5' title='Show/Hide data repr'><svg class='icon xr-icon-database'><use xlink:href='#icon-database'></use></svg></label><div class='xr-var-attrs'><dl class='xr-attrs'></dl></div><div class='xr-var-data'><pre>[357404 values with dtype=float64]</pre></div></li><li class='xr-var-item'><div class='xr-var-name'><span>sbc_MYRI_b</span></div><div class='xr-var-dims'>(t, y, x)</div><div class='xr-var-dtype'>float64</div><div class='xr-var-preview xr-preview'>...</div><input id='attrs-54d91a33-163c-42b2-8207-cbf1bb7feb60' class='xr-var-attrs-in' type='checkbox' disabled><label for='attrs-54d91a33-163c-42b2-8207-cbf1bb7feb60' title='Show/Hide attributes'><svg class='icon xr-icon-file-text2'><use xlink:href='#icon-file-text2'></use></svg></label><input id='data-70bdde56-8436-4da1-bbfd-d62a0be72f45' class='xr-var-data-in' type='checkbox'><label for='data-70bdde56-8436-4da1-bbfd-d62a0be72f45' title='Show/Hide data repr'><svg class='icon xr-icon-database'><use xlink:href='#icon-database'></use></svg></label><div class='xr-var-attrs'><dl class='xr-attrs'></dl></div><div class='xr-var-data'><pre>[357404 values with dtype=float64]</pre></div></li><li class='xr-var-item'><div class='xr-var-name'><span>sbc_PON_b</span></div><div class='xr-var-dims'>(t, y, x)</div><div class='xr-var-dtype'>float64</div><div class='xr-var-preview xr-preview'>...</div><input id='attrs-0bcc8eb5-1cc1-4730-9b96-0570e3e53ddc' class='xr-var-attrs-in' type='checkbox' disabled><label for='attrs-0bcc8eb5-1cc1-4730-9b96-0570e3e53ddc' title='Show/Hide attributes'><svg class='icon xr-icon-file-text2'><use xlink:href='#icon-file-text2'></use></svg></label><input id='data-331ba18b-308f-4e18-893b-fbcd0ba27074' class='xr-var-data-in' type='checkbox'><label for='data-331ba18b-308f-4e18-893b-fbcd0ba27074' title='Show/Hide data repr'><svg class='icon xr-icon-database'><use xlink:href='#icon-database'></use></svg></label><div class='xr-var-attrs'><dl class='xr-attrs'></dl></div><div class='xr-var-data'><pre>[357404 values with dtype=float64]</pre></div></li><li class='xr-var-item'><div class='xr-var-name'><span>rnf_pis_TA_b</span></div><div class='xr-var-dims'>(t, y, x)</div><div class='xr-var-dtype'>float64</div><div class='xr-var-preview xr-preview'>...</div><input id='attrs-7a3e3321-5f8b-4982-a4b2-d578f7eb2604' class='xr-var-attrs-in' type='checkbox' disabled><label for='attrs-7a3e3321-5f8b-4982-a4b2-d578f7eb2604' title='Show/Hide attributes'><svg class='icon xr-icon-file-text2'><use xlink:href='#icon-file-text2'></use></svg></label><input id='data-73e18583-4701-4c9c-87a7-f8e7fdc3d747' class='xr-var-data-in' type='checkbox'><label for='data-73e18583-4701-4c9c-87a7-f8e7fdc3d747' title='Show/Hide data repr'><svg class='icon xr-icon-database'><use xlink:href='#icon-database'></use></svg></label><div class='xr-var-attrs'><dl class='xr-attrs'></dl></div><div class='xr-var-data'><pre>[357404 values with dtype=float64]</pre></div></li><li class='xr-var-item'><div class='xr-var-name'><span>rnf_pis_PON_b</span></div><div class='xr-var-dims'>(t, y, x)</div><div class='xr-var-dtype'>float64</div><div class='xr-var-preview xr-preview'>...</div><input id='attrs-140bb20a-ad52-4176-925f-7d748c0cd83c' class='xr-var-attrs-in' type='checkbox' disabled><label for='attrs-140bb20a-ad52-4176-925f-7d748c0cd83c' title='Show/Hide attributes'><svg class='icon xr-icon-file-text2'><use xlink:href='#icon-file-text2'></use></svg></label><input id='data-070f2ef1-03ea-425e-b1d3-3572340d58cf' class='xr-var-data-in' type='checkbox'><label for='data-070f2ef1-03ea-425e-b1d3-3572340d58cf' title='Show/Hide data repr'><svg class='icon xr-icon-database'><use xlink:href='#icon-database'></use></svg></label><div class='xr-var-attrs'><dl class='xr-attrs'></dl></div><div class='xr-var-data'><pre>[357404 values with dtype=float64]</pre></div></li><li class='xr-var-item'><div class='xr-var-name'><span>sbc_DIC_b</span></div><div class='xr-var-dims'>(t, y, x)</div><div class='xr-var-dtype'>float64</div><div class='xr-var-preview xr-preview'>...</div><input id='attrs-a95661bc-4f76-485a-858c-996db7acc1c0' class='xr-var-attrs-in' type='checkbox' disabled><label for='attrs-a95661bc-4f76-485a-858c-996db7acc1c0' title='Show/Hide attributes'><svg class='icon xr-icon-file-text2'><use xlink:href='#icon-file-text2'></use></svg></label><input id='data-857a721d-fe97-4757-af52-acd44c98774f' class='xr-var-data-in' type='checkbox'><label for='data-857a721d-fe97-4757-af52-acd44c98774f' title='Show/Hide data repr'><svg class='icon xr-icon-database'><use xlink:href='#icon-database'></use></svg></label><div class='xr-var-attrs'><dl class='xr-attrs'></dl></div><div class='xr-var-data'><pre>[357404 values with dtype=float64]</pre></div></li><li class='xr-var-item'><div class='xr-var-name'><span>rnf_pis_DIC_b</span></div><div class='xr-var-dims'>(t, y, x)</div><div class='xr-var-dtype'>float64</div><div class='xr-var-preview xr-preview'>...</div><input id='attrs-e8958f1c-f86e-4c0c-a925-dc582686c4ec' class='xr-var-attrs-in' type='checkbox' disabled><label for='attrs-e8958f1c-f86e-4c0c-a925-dc582686c4ec' title='Show/Hide attributes'><svg class='icon xr-icon-file-text2'><use xlink:href='#icon-file-text2'></use></svg></label><input id='data-ffcb727d-dd0e-434d-9bf8-7ccafccba69e' class='xr-var-data-in' type='checkbox'><label for='data-ffcb727d-dd0e-434d-9bf8-7ccafccba69e' title='Show/Hide data repr'><svg class='icon xr-icon-database'><use xlink:href='#icon-database'></use></svg></label><div class='xr-var-attrs'><dl class='xr-attrs'></dl></div><div class='xr-var-data'><pre>[357404 values with dtype=float64]</pre></div></li><li class='xr-var-item'><div class='xr-var-name'><span>rdttrc1</span></div><div class='xr-var-dims'>()</div><div class='xr-var-dtype'>float64</div><div class='xr-var-preview xr-preview'>...</div><input id='attrs-ab830052-0369-43c9-9a8e-22a25c9bcd06' class='xr-var-attrs-in' type='checkbox' disabled><label for='attrs-ab830052-0369-43c9-9a8e-22a25c9bcd06' title='Show/Hide attributes'><svg class='icon xr-icon-file-text2'><use xlink:href='#icon-file-text2'></use></svg></label><input id='data-8fc3d962-e039-4257-94ab-88345a0458f3' class='xr-var-data-in' type='checkbox'><label for='data-8fc3d962-e039-4257-94ab-88345a0458f3' title='Show/Hide data repr'><svg class='icon xr-icon-database'><use xlink:href='#icon-database'></use></svg></label><div class='xr-var-attrs'><dl class='xr-attrs'></dl></div><div class='xr-var-data'><pre>[1 values with dtype=float64]</pre></div></li><li class='xr-var-item'><div class='xr-var-name'><span>sbc_TRA_b</span></div><div class='xr-var-dims'>(t, y, x)</div><div class='xr-var-dtype'>float64</div><div class='xr-var-preview xr-preview'>...</div><input id='attrs-7dc7a53d-0b1a-461e-8f4e-a8dbbc7757c6' class='xr-var-attrs-in' type='checkbox' disabled><label for='attrs-7dc7a53d-0b1a-461e-8f4e-a8dbbc7757c6' title='Show/Hide attributes'><svg class='icon xr-icon-file-text2'><use xlink:href='#icon-file-text2'></use></svg></label><input id='data-9dc08b07-96a0-4e73-9c2d-89201a1b04e9' class='xr-var-data-in' type='checkbox'><label for='data-9dc08b07-96a0-4e73-9c2d-89201a1b04e9' title='Show/Hide data repr'><svg class='icon xr-icon-database'><use xlink:href='#icon-database'></use></svg></label><div class='xr-var-attrs'><dl class='xr-attrs'></dl></div><div class='xr-var-data'><pre>[357404 values with dtype=float64]</pre></div></li><li class='xr-var-item'><div class='xr-var-name'><span>rnf_pis_PHY_b</span></div><div class='xr-var-dims'>(t, y, x)</div><div class='xr-var-dtype'>float64</div><div class='xr-var-preview xr-preview'>...</div><input id='attrs-8bdafe37-093a-4a6b-b883-8af066f790bd' class='xr-var-attrs-in' type='checkbox' disabled><label for='attrs-8bdafe37-093a-4a6b-b883-8af066f790bd' title='Show/Hide attributes'><svg class='icon xr-icon-file-text2'><use xlink:href='#icon-file-text2'></use></svg></label><input id='data-26adfdab-148a-4ad6-a735-0cd847fdfe37' class='xr-var-data-in' type='checkbox'><label for='data-26adfdab-148a-4ad6-a735-0cd847fdfe37' title='Show/Hide data repr'><svg class='icon xr-icon-database'><use xlink:href='#icon-database'></use></svg></label><div class='xr-var-attrs'><dl class='xr-attrs'></dl></div><div class='xr-var-data'><pre>[357404 values with dtype=float64]</pre></div></li><li class='xr-var-item'><div class='xr-var-name'><span>rnf_pis_NO3_b</span></div><div class='xr-var-dims'>(t, y, x)</div><div class='xr-var-dtype'>float64</div><div class='xr-var-preview xr-preview'>...</div><input id='attrs-2fec104c-97db-4ef9-98dd-22b8a5691b57' class='xr-var-attrs-in' type='checkbox' disabled><label for='attrs-2fec104c-97db-4ef9-98dd-22b8a5691b57' title='Show/Hide attributes'><svg class='icon xr-icon-file-text2'><use xlink:href='#icon-file-text2'></use></svg></label><input id='data-63cf023f-36de-4623-a5eb-da7513be7794' class='xr-var-data-in' type='checkbox'><label for='data-63cf023f-36de-4623-a5eb-da7513be7794' title='Show/Hide data repr'><svg class='icon xr-icon-database'><use xlink:href='#icon-database'></use></svg></label><div class='xr-var-attrs'><dl class='xr-attrs'></dl></div><div class='xr-var-data'><pre>[357404 values with dtype=float64]</pre></div></li><li class='xr-var-item'><div class='xr-var-name'><span>rnf_pis_DON_b</span></div><div class='xr-var-dims'>(t, y, x)</div><div class='xr-var-dtype'>float64</div><div class='xr-var-preview xr-preview'>...</div><input id='attrs-45bd45f8-1a44-4fbd-b6a8-916cbc5cf604' class='xr-var-attrs-in' type='checkbox' disabled><label for='attrs-45bd45f8-1a44-4fbd-b6a8-916cbc5cf604' title='Show/Hide attributes'><svg class='icon xr-icon-file-text2'><use xlink:href='#icon-file-text2'></use></svg></label><input id='data-50aec774-197b-4914-bc71-7fbbbde39f00' class='xr-var-data-in' type='checkbox'><label for='data-50aec774-197b-4914-bc71-7fbbbde39f00' title='Show/Hide data repr'><svg class='icon xr-icon-database'><use xlink:href='#icon-database'></use></svg></label><div class='xr-var-attrs'><dl class='xr-attrs'></dl></div><div class='xr-var-data'><pre>[357404 values with dtype=float64]</pre></div></li><li class='xr-var-item'><div class='xr-var-name'><span>sbc_Si_b</span></div><div class='xr-var-dims'>(t, y, x)</div><div class='xr-var-dtype'>float64</div><div class='xr-var-preview xr-preview'>...</div><input id='attrs-212ecc26-d05f-4577-a436-dc467b47efaf' class='xr-var-attrs-in' type='checkbox' disabled><label for='attrs-212ecc26-d05f-4577-a436-dc467b47efaf' title='Show/Hide attributes'><svg class='icon xr-icon-file-text2'><use xlink:href='#icon-file-text2'></use></svg></label><input id='data-e226a47c-c44c-42aa-aa5e-6c42064f650a' class='xr-var-data-in' type='checkbox'><label for='data-e226a47c-c44c-42aa-aa5e-6c42064f650a' title='Show/Hide data repr'><svg class='icon xr-icon-database'><use xlink:href='#icon-database'></use></svg></label><div class='xr-var-attrs'><dl class='xr-attrs'></dl></div><div class='xr-var-data'><pre>[357404 values with dtype=float64]</pre></div></li><li class='xr-var-item'><div class='xr-var-name'><span>sbc_PHY_b</span></div><div class='xr-var-dims'>(t, y, x)</div><div class='xr-var-dtype'>float64</div><div class='xr-var-preview xr-preview'>...</div><input id='attrs-6790a420-496d-4a8e-858d-47a6b0bbdd5a' class='xr-var-attrs-in' type='checkbox' disabled><label for='attrs-6790a420-496d-4a8e-858d-47a6b0bbdd5a' title='Show/Hide attributes'><svg class='icon xr-icon-file-text2'><use xlink:href='#icon-file-text2'></use></svg></label><input id='data-bac9a23d-b86b-4968-b7a5-f6040bfc26b7' class='xr-var-data-in' type='checkbox'><label for='data-bac9a23d-b86b-4968-b7a5-f6040bfc26b7' title='Show/Hide data repr'><svg class='icon xr-icon-database'><use xlink:href='#icon-database'></use></svg></label><div class='xr-var-attrs'><dl class='xr-attrs'></dl></div><div class='xr-var-data'><pre>[357404 values with dtype=float64]</pre></div></li><li class='xr-var-item'><div class='xr-var-name'><span>rnf_pis_Si_b</span></div><div class='xr-var-dims'>(t, y, x)</div><div class='xr-var-dtype'>float64</div><div class='xr-var-preview xr-preview'>...</div><input id='attrs-eff2af53-1dc8-41a2-9481-dd0394c15928' class='xr-var-attrs-in' type='checkbox' disabled><label for='attrs-eff2af53-1dc8-41a2-9481-dd0394c15928' title='Show/Hide attributes'><svg class='icon xr-icon-file-text2'><use xlink:href='#icon-file-text2'></use></svg></label><input id='data-cf200e5a-2c9c-40f5-bca9-ea42f9770505' class='xr-var-data-in' type='checkbox'><label for='data-cf200e5a-2c9c-40f5-bca9-ea42f9770505' title='Show/Hide data repr'><svg class='icon xr-icon-database'><use xlink:href='#icon-database'></use></svg></label><div class='xr-var-attrs'><dl class='xr-attrs'></dl></div><div class='xr-var-data'><pre>[357404 values with dtype=float64]</pre></div></li><li class='xr-var-item'><div class='xr-var-name'><span>rnf_pis_NH4_b</span></div><div class='xr-var-dims'>(t, y, x)</div><div class='xr-var-dtype'>float64</div><div class='xr-var-preview xr-preview'>...</div><input id='attrs-5335b289-729f-43a9-9367-168c191bb504' class='xr-var-attrs-in' type='checkbox' disabled><label for='attrs-5335b289-729f-43a9-9367-168c191bb504' title='Show/Hide attributes'><svg class='icon xr-icon-file-text2'><use xlink:href='#icon-file-text2'></use></svg></label><input id='data-2ac634c1-bc14-48b8-aeae-b7878f561005' class='xr-var-data-in' type='checkbox'><label for='data-2ac634c1-bc14-48b8-aeae-b7878f561005' title='Show/Hide data repr'><svg class='icon xr-icon-database'><use xlink:href='#icon-database'></use></svg></label><div class='xr-var-attrs'><dl class='xr-attrs'></dl></div><div class='xr-var-data'><pre>[357404 values with dtype=float64]</pre></div></li><li class='xr-var-item'><div class='xr-var-name'><span>rnf_pis_O2_b</span></div><div class='xr-var-dims'>(t, y, x)</div><div class='xr-var-dtype'>float64</div><div class='xr-var-preview xr-preview'>...</div><input id='attrs-d311940c-a284-4450-b7ed-26afa2883da6' class='xr-var-attrs-in' type='checkbox' disabled><label for='attrs-d311940c-a284-4450-b7ed-26afa2883da6' title='Show/Hide attributes'><svg class='icon xr-icon-file-text2'><use xlink:href='#icon-file-text2'></use></svg></label><input id='data-7a1eb6a1-90f7-4c65-b97b-3bdbb107a30e' class='xr-var-data-in' type='checkbox'><label for='data-7a1eb6a1-90f7-4c65-b97b-3bdbb107a30e' title='Show/Hide data repr'><svg class='icon xr-icon-database'><use xlink:href='#icon-database'></use></svg></label><div class='xr-var-attrs'><dl class='xr-attrs'></dl></div><div class='xr-var-data'><pre>[357404 values with dtype=float64]</pre></div></li><li class='xr-var-item'><div class='xr-var-name'><span>sbc_MICZ_b</span></div><div class='xr-var-dims'>(t, y, x)</div><div class='xr-var-dtype'>float64</div><div class='xr-var-preview xr-preview'>...</div><input id='attrs-d897407b-7d36-479c-a9f2-a32917ca65ce' class='xr-var-attrs-in' type='checkbox' disabled><label for='attrs-d897407b-7d36-479c-a9f2-a32917ca65ce' title='Show/Hide attributes'><svg class='icon xr-icon-file-text2'><use xlink:href='#icon-file-text2'></use></svg></label><input id='data-2faed10a-4717-4dc2-95fa-5554e0cbb18d' class='xr-var-data-in' type='checkbox'><label for='data-2faed10a-4717-4dc2-95fa-5554e0cbb18d' title='Show/Hide data repr'><svg class='icon xr-icon-database'><use xlink:href='#icon-database'></use></svg></label><div class='xr-var-attrs'><dl class='xr-attrs'></dl></div><div class='xr-var-data'><pre>[357404 values with dtype=float64]</pre></div></li><li class='xr-var-item'><div class='xr-var-name'><span>sbc_DIAT_b</span></div><div class='xr-var-dims'>(t, y, x)</div><div class='xr-var-dtype'>float64</div><div class='xr-var-preview xr-preview'>...</div><input id='attrs-82d41a8c-c331-43ac-bd9c-b67e88b1c693' class='xr-var-attrs-in' type='checkbox' disabled><label for='attrs-82d41a8c-c331-43ac-bd9c-b67e88b1c693' title='Show/Hide attributes'><svg class='icon xr-icon-file-text2'><use xlink:href='#icon-file-text2'></use></svg></label><input id='data-63280c33-4e6d-4949-aa64-d8895d5e104a' class='xr-var-data-in' type='checkbox'><label for='data-63280c33-4e6d-4949-aa64-d8895d5e104a' title='Show/Hide data repr'><svg class='icon xr-icon-database'><use xlink:href='#icon-database'></use></svg></label><div class='xr-var-attrs'><dl class='xr-attrs'></dl></div><div class='xr-var-data'><pre>[357404 values with dtype=float64]</pre></div></li><li class='xr-var-item'><div class='xr-var-name'><span>sbc_O2_b</span></div><div class='xr-var-dims'>(t, y, x)</div><div class='xr-var-dtype'>float64</div><div class='xr-var-preview xr-preview'>...</div><input id='attrs-036c4b4d-9464-4e28-b896-7599f6fe27e5' class='xr-var-attrs-in' type='checkbox' disabled><label for='attrs-036c4b4d-9464-4e28-b896-7599f6fe27e5' title='Show/Hide attributes'><svg class='icon xr-icon-file-text2'><use xlink:href='#icon-file-text2'></use></svg></label><input id='data-26d0ccd4-b747-41de-bbad-8d5838b7a90d' class='xr-var-data-in' type='checkbox'><label for='data-26d0ccd4-b747-41de-bbad-8d5838b7a90d' title='Show/Hide data repr'><svg class='icon xr-icon-database'><use xlink:href='#icon-database'></use></svg></label><div class='xr-var-attrs'><dl class='xr-attrs'></dl></div><div class='xr-var-data'><pre>[357404 values with dtype=float64]</pre></div></li><li class='xr-var-item'><div class='xr-var-name'><span>rnf_pis_DIAT_b</span></div><div class='xr-var-dims'>(t, y, x)</div><div class='xr-var-dtype'>float64</div><div class='xr-var-preview xr-preview'>...</div><input id='attrs-14d1660c-9613-41cb-8775-0f4f00dc2f0c' class='xr-var-attrs-in' type='checkbox' disabled><label for='attrs-14d1660c-9613-41cb-8775-0f4f00dc2f0c' title='Show/Hide attributes'><svg class='icon xr-icon-file-text2'><use xlink:href='#icon-file-text2'></use></svg></label><input id='data-8aae6444-9072-4f25-b855-f937fb94e59e' class='xr-var-data-in' type='checkbox'><label for='data-8aae6444-9072-4f25-b855-f937fb94e59e' title='Show/Hide data repr'><svg class='icon xr-icon-database'><use xlink:href='#icon-database'></use></svg></label><div class='xr-var-attrs'><dl class='xr-attrs'></dl></div><div class='xr-var-data'><pre>[357404 values with dtype=float64]</pre></div></li><li class='xr-var-item'><div class='xr-var-name'><span>rnf_pis_TRA_b</span></div><div class='xr-var-dims'>(t, y, x)</div><div class='xr-var-dtype'>float64</div><div class='xr-var-preview xr-preview'>...</div><input id='attrs-39160ef5-a6de-494d-b120-aac57fa76498' class='xr-var-attrs-in' type='checkbox' disabled><label for='attrs-39160ef5-a6de-494d-b120-aac57fa76498' title='Show/Hide attributes'><svg class='icon xr-icon-file-text2'><use xlink:href='#icon-file-text2'></use></svg></label><input id='data-987818e0-134b-4c95-abd3-a2855cec26cd' class='xr-var-data-in' type='checkbox'><label for='data-987818e0-134b-4c95-abd3-a2855cec26cd' title='Show/Hide data repr'><svg class='icon xr-icon-database'><use xlink:href='#icon-database'></use></svg></label><div class='xr-var-attrs'><dl class='xr-attrs'></dl></div><div class='xr-var-data'><pre>[357404 values with dtype=float64]</pre></div></li><li class='xr-var-item'><div class='xr-var-name'><span>sbc_TA_b</span></div><div class='xr-var-dims'>(t, y, x)</div><div class='xr-var-dtype'>float64</div><div class='xr-var-preview xr-preview'>...</div><input id='attrs-e1c21190-0269-4f65-b4db-cdbd6f164792' class='xr-var-attrs-in' type='checkbox' disabled><label for='attrs-e1c21190-0269-4f65-b4db-cdbd6f164792' title='Show/Hide attributes'><svg class='icon xr-icon-file-text2'><use xlink:href='#icon-file-text2'></use></svg></label><input id='data-bbb9f192-d8da-4979-b979-a01ee2c83cbd' class='xr-var-data-in' type='checkbox'><label for='data-bbb9f192-d8da-4979-b979-a01ee2c83cbd' title='Show/Hide data repr'><svg class='icon xr-icon-database'><use xlink:href='#icon-database'></use></svg></label><div class='xr-var-attrs'><dl class='xr-attrs'></dl></div><div class='xr-var-data'><pre>[357404 values with dtype=float64]</pre></div></li><li class='xr-var-item'><div class='xr-var-name'><span>sbc_NH4_b</span></div><div class='xr-var-dims'>(t, y, x)</div><div class='xr-var-dtype'>float64</div><div class='xr-var-preview xr-preview'>...</div><input id='attrs-e8c85fd3-c7dc-41a8-b899-0e0ddae8d824' class='xr-var-attrs-in' type='checkbox' disabled><label for='attrs-e8c85fd3-c7dc-41a8-b899-0e0ddae8d824' title='Show/Hide attributes'><svg class='icon xr-icon-file-text2'><use xlink:href='#icon-file-text2'></use></svg></label><input id='data-08c868c7-6abb-4e6b-a14c-3e45332f8350' class='xr-var-data-in' type='checkbox'><label for='data-08c868c7-6abb-4e6b-a14c-3e45332f8350' title='Show/Hide data repr'><svg class='icon xr-icon-database'><use xlink:href='#icon-database'></use></svg></label><div class='xr-var-attrs'><dl class='xr-attrs'></dl></div><div class='xr-var-data'><pre>[357404 values with dtype=float64]</pre></div></li><li class='xr-var-item'><div class='xr-var-name'><span>sbc_bSi_b</span></div><div class='xr-var-dims'>(t, y, x)</div><div class='xr-var-dtype'>float64</div><div class='xr-var-preview xr-preview'>...</div><input id='attrs-8a4b1a0b-d590-4e85-984a-2183f6c5cdfc' class='xr-var-attrs-in' type='checkbox' disabled><label for='attrs-8a4b1a0b-d590-4e85-984a-2183f6c5cdfc' title='Show/Hide attributes'><svg class='icon xr-icon-file-text2'><use xlink:href='#icon-file-text2'></use></svg></label><input id='data-2159ec93-6066-4ada-a035-2546cad841d9' class='xr-var-data-in' type='checkbox'><label for='data-2159ec93-6066-4ada-a035-2546cad841d9' title='Show/Hide data repr'><svg class='icon xr-icon-database'><use xlink:href='#icon-database'></use></svg></label><div class='xr-var-attrs'><dl class='xr-attrs'></dl></div><div class='xr-var-data'><pre>[357404 values with dtype=float64]</pre></div></li></ul></div></li><li class='xr-section-item'><input id='section-29f1c34c-0921-4b88-8f39-7d7587df1114' class='xr-section-summary-in' type='checkbox' disabled ><label for='section-29f1c34c-0921-4b88-8f39-7d7587df1114' class='xr-section-summary'  title='Expand/collapse section'>Indexes: <span>(0)</span></label><div class='xr-section-inline-details'></div><div class='xr-section-details'><ul class='xr-var-list'></ul></div></li><li class='xr-section-item'><input id='section-c29886df-db7e-4ab3-90e9-031707280343' class='xr-section-summary-in' type='checkbox'  checked><label for='section-c29886df-db7e-4ab3-90e9-031707280343' class='xr-section-summary' >Attributes: <span>(7)</span></label><div class='xr-section-inline-details'></div><div class='xr-section-details'><dl class='xr-attrs'><dt><span>Conventions :</span></dt><dd>CF-1.6</dd><dt><span>title :</span></dt><dd>All tracers for Bathymetry 202310 from nowcast-green 10aug19, with N and Si inc.</dd><dt><span>institution :</span></dt><dd>Dept of Earth, Ocean &amp; Atmospheric Sciences, University of British Columbia</dd><dt><span>source :</span></dt><dd>REQUIRED</dd><dt><span>references :</span></dt><dd>REQUIRED</dd><dt><span>history :</span></dt><dd>[2023-10-25 18:30:34] Created netCDF4 zlib=True dataset.</dd><dt><span>comment :</span></dt><dd>All Tracers, physical and biological</dd></dl></div></li></ul></div></div>"
      ],
      "text/plain": [
       "<xarray.Dataset>\n",
       "Dimensions:         (t: 1, z: 40, y: 898, x: 398)\n",
       "Dimensions without coordinates: t, z, y, x\n",
       "Data variables: (12/104)\n",
       "    tn              (t, z, y, x) float64 ...\n",
       "    sn              (t, z, y, x) float64 ...\n",
       "    tb              (t, z, y, x) float64 ...\n",
       "    sb              (t, z, y, x) float64 ...\n",
       "    TRNDON          (t, z, y, x) float64 ...\n",
       "    TRNMICZ         (t, z, y, x) float64 ...\n",
       "    ...              ...\n",
       "    sbc_O2_b        (t, y, x) float64 ...\n",
       "    rnf_pis_DIAT_b  (t, y, x) float64 ...\n",
       "    rnf_pis_TRA_b   (t, y, x) float64 ...\n",
       "    sbc_TA_b        (t, y, x) float64 ...\n",
       "    sbc_NH4_b       (t, y, x) float64 ...\n",
       "    sbc_bSi_b       (t, y, x) float64 ...\n",
       "Attributes:\n",
       "    Conventions:  CF-1.6\n",
       "    title:        All tracers for Bathymetry 202310 from nowcast-green 10aug1...\n",
       "    institution:  Dept of Earth, Ocean & Atmospheric Sciences, University of ...\n",
       "    source:       REQUIRED\n",
       "    references:   REQUIRED\n",
       "    history:      [2023-10-25 18:30:34] Created netCDF4 zlib=True dataset.\n",
       "    comment:      All Tracers, physical and biological"
      ]
     },
     "execution_count": 28,
     "metadata": {},
     "output_type": "execute_result"
    }
   ],
   "source": [
    "dfnew[var_phy_to_copy]=dfphy[var_phy_to_copy]\n",
    "dfnew[var_bio_to_copy]=dfbio[var_bio_to_copy]\n",
    "dfnew"
   ]
  },
  {
   "cell_type": "code",
   "execution_count": null,
   "metadata": {},
   "outputs": [],
   "source": [
    "dfnew.to_netcdf('restart_PHYBIO_13903920_10aug19_202310.nc', mode='w')"
   ]
  },
  {
   "cell_type": "code",
   "execution_count": 91,
   "metadata": {},
   "outputs": [
    {
     "data": {
      "text/plain": [
       "(1, 40, 898, 398)"
      ]
     },
     "execution_count": 91,
     "metadata": {},
     "output_type": "execute_result"
    }
   ],
   "source": [
    "#\n",
    "Sn = dfnew.variables['sn']\n",
    "Sb = dfnew.variables['sb']\n",
    "Sn.shape"
   ]
  },
  {
   "cell_type": "code",
   "execution_count": 92,
   "metadata": {},
   "outputs": [
    {
     "data": {
      "text/plain": [
       "(1, 40, 898, 398)"
      ]
     },
     "execution_count": 92,
     "metadata": {},
     "output_type": "execute_result"
    }
   ],
   "source": [
    "kk = np.arange(1, 40)\n",
    "jj = np.arange(0, 898)\n",
    "ii = np.arange(0, 398)\n",
    "# box where changes took place (in all salish sea takes too much time, and not necessary I think)\n",
    "pointsi = np.arange(200, 250).astype(int)\n",
    "pointsj = np.arange(350, 380).astype(int)\n",
    "\n",
    "#SSn = np.ones((1, 40, 898, 398))\n",
    "for k in kk:\n",
    "    for j in pointsj:\n",
    "        for i in pointsi:\n",
    "            diffsn = Sn[:, k, j, i] - Sn[:, k-1, j, i]\n",
    "            if diffsn < 0:\n",
    "                Sn[:, k, j, i] = Sn[:, k-1, j, i]\n",
    "#            else:\n",
    "#                sn[:, k, j, i] = sn[:, k, j, i]\n",
    "\n",
    "sn.shape\n"
   ]
  },
  {
   "cell_type": "code",
   "execution_count": 93,
   "metadata": {},
   "outputs": [
    {
     "data": {
      "text/plain": [
       "(1, 40, 898, 398)"
      ]
     },
     "execution_count": 93,
     "metadata": {},
     "output_type": "execute_result"
    }
   ],
   "source": [
    "for k in kk:\n",
    "    for j in pointsj:\n",
    "        for i in pointsi:\n",
    "            diffsb = Sb[:, k, j, i] - Sb[:, k-1, j, i]\n",
    "            if diffsb < 0:\n",
    "                Sb[:, k, j, i] = Sb[:, k-1, j, i]\n",
    "\n",
    "sb.shape"
   ]
  },
  {
   "cell_type": "code",
   "execution_count": 94,
   "metadata": {},
   "outputs": [],
   "source": [
    "dfnew2 = dfnew\n",
    "dfnew2['sn'] = Sn\n",
    "dfnew2['sb'] = Sb\n"
   ]
  },
  {
   "cell_type": "code",
   "execution_count": 96,
   "metadata": {},
   "outputs": [],
   "source": [
    "dfnew2.to_netcdf('restart_PHYBIO_13903920_10aug19_202310_snsbCorrected.nc', mode='w')"
   ]
  },
  {
   "cell_type": "code",
   "execution_count": 97,
   "metadata": {},
   "outputs": [],
   "source": [
    "dfA = xr.open_dataset('restart_PHYBIO_13903920_10aug19_202310.nc')\n",
    "dfB = xr.open_dataset('restart_PHYBIO_13903920_10aug19_202310_snsbCorrected.nc')\n",
    "snA = dfA['sn']\n",
    "snB = dfB['sn']"
   ]
  },
  {
   "cell_type": "code",
   "execution_count": 98,
   "metadata": {},
   "outputs": [
    {
     "data": {
      "text/plain": [
       "[<matplotlib.lines.Line2D at 0x7fdb8b32d910>]"
      ]
     },
     "execution_count": 98,
     "metadata": {},
     "output_type": "execute_result"
    },
    {
     "data": {
      "image/png": "[encoded data removed]",
      "text/plain": [
       "<Figure size 640x480 with 1 Axes>"
      ]
     },
     "metadata": {},
     "output_type": "display_data"
    }
   ],
   "source": [
    "import matplotlib.pyplot as plt\n",
    "plt.plot(snA[0, :30, 363, 235])\n",
    "plt.plot(snB[0, :30, 363, 235])\n"
   ]
  },
  {
   "cell_type": "code",
   "execution_count": null,
   "metadata": {},
   "outputs": [],
   "source": []
  }
 ],
 "metadata": {
  "anaconda-cloud": {},
  "kernelspec": {
   "display_name": "analysis-abdoul",
   "language": "python",
   "name": "python3"
  },
  "language_info": {
   "codemirror_mode": {
    "name": "ipython",
    "version": 3
   },
   "file_extension": ".py",
   "mimetype": "text/x-python",
   "name": "python",
   "nbconvert_exporter": "python",
   "pygments_lexer": "ipython3",
   "version": "3.11.3"
  },
  "toc": {
   "colors": {
    "hover_highlight": "#DAA520",
    "running_highlight": "#FF0000",
    "selected_highlight": "#FFD700"
   },
   "moveMenuLeft": true,
   "nav_menu": {
    "height": "12px",
    "width": "252px"
   },
   "navigate_menu": true,
   "number_sections": true,
   "sideBar": true,
   "threshold": 4,
   "toc_cell": false,
   "toc_section_display": "block",
   "toc_window_display": true,
   "widenNotebook": false
  }
 },
 "nbformat": 4,
 "nbformat_minor": 4
}
