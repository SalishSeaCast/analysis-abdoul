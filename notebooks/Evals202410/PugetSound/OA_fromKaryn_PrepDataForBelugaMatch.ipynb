{
 "cells": [
  {
   "attachments": {},
   "cell_type": "markdown",
   "metadata": {},
   "source": [
    "# To compare with Karyn work (v202111)"
   ]
  },
  {
   "cell_type": "code",
   "execution_count": 2,
   "metadata": {},
   "outputs": [],
   "source": [
    "import numpy as np\n",
    "import pandas as pd\n",
    "import matplotlib.pyplot as plt\n",
    "import datetime as dt\n",
    "from salishsea_tools import evaltools as et, viz_tools\n",
    "import os\n",
    "import datetime as dt\n",
    "import gsw\n",
    "import matplotlib.gridspec as gridspec\n",
    "import matplotlib as mpl\n",
    "import matplotlib.dates as mdates\n",
    "import cmocean as cmo\n",
    "import scipy.interpolate as sinterp\n",
    "import cmocean\n",
    "import json\n",
    "import f90nml\n",
    "from collections import OrderedDict\n",
    "from scipy.stats.mstats import gmean\n",
    "import xarray as xr\n",
    "import netCDF4 as nc\n",
    "import gsw\n",
    "#import mocsy\n",
    "import netCDF4 as nc\n",
    "\n",
    "fs=16\n",
    "mpl.rc('xtick', labelsize=fs)\n",
    "mpl.rc('ytick', labelsize=fs)\n",
    "mpl.rc('legend', fontsize=fs)\n",
    "mpl.rc('axes', titlesize=fs)\n",
    "mpl.rc('axes', labelsize=fs)\n",
    "mpl.rc('figure', titlesize=fs)\n",
    "mpl.rc('font', size=fs)\n",
    "mpl.rc('font', family='sans-serif', weight='normal', style='normal')\n",
    "\n",
    "import warnings\n",
    "#warnings.filterwarnings('ignore')\n",
    "from IPython.display import Markdown, display\n",
    "\n",
    "\n",
    "\n",
    "%matplotlib inline"
   ]
  },
  {
   "cell_type": "code",
   "execution_count": 3,
   "metadata": {},
   "outputs": [],
   "source": [
    "f=xr.open_dataset('/results2/SalishSea/nowcast-green.202111/06apr21/SalishSea_1d_20210406_20210406_chem_T.nc')"
   ]
  },
  {
   "cell_type": "markdown",
   "metadata": {},
   "source": [
    "### Puget Sound data from https://www.ncei.noaa.gov/data/oceans/ncei/ocads/metadata/0238424.html\n",
    "Cite: Alin, Simone R.; Newton, Jan; Greeley, Dana; Curry, Beth; Herndon, Julian; Kozyr, Alex; Feely, Richard A. (2021). A compiled data product of profile, discrete biogeochemical measurements from 35 individual cruise datasets collected from a variety of ships in the southern Salish Sea and northern California Current System (Washington state marine waters) from 2008-02-04 to 2018-10-19 (NCEI Accession 0238424). [indicate subset used]. NOAA National Centers for Environmental Information. Dataset. https://doi.org/10.25921/zgk5-ep63. Accessed [date]."
   ]
  },
  {
   "cell_type": "code",
   "execution_count": 4,
   "metadata": {},
   "outputs": [],
   "source": [
    "PS=pd.read_csv('/ocean/ksuchy/MOAD/analysis-karyn/notebooks/Evaluations/SalishCruise_dataProduct_2008to2018_09202023_allData.csv') ## Data from OCADS dataset"
   ]
  },
  {
   "cell_type": "code",
   "execution_count": 5,
   "metadata": {},
   "outputs": [],
   "source": [
    "PS.rename(columns={'LONGITUDE_DEC':'Lon','LATITUDE_DEC':'Lat','DATE_UTC':'Date','TIME_UTC':'Time',\\\n",
    "                   'CRUISE_ID':'Cruise','CTDPRS_DBAR':'Z',\\\n",
    "                   'CTDTMP_DEG_C_ITS90':'Temp (degC)','STATION_NO':'Name','CTDSAL_PSS78':'Sal (PSS)'},inplace=True) "
   ]
  },
  {
   "cell_type": "code",
   "execution_count": 6,
   "metadata": {},
   "outputs": [],
   "source": [
    "PS=PS[~(PS['Lon'] < -124) & (PS['Lat'] < 50.0)] "
   ]
  },
  {
   "cell_type": "code",
   "execution_count": 7,
   "metadata": {},
   "outputs": [],
   "source": [
    "PS['Sal (g kg-1)']=gsw.conversions.SA_from_SP(PS['Sal (PSS)'],PS['Z'], PS['Lon'], PS['Lat']) ##absolute salinity\n",
    "PS['Temp (CT degC)']=gsw.CT_from_t(PS['Sal (g kg-1)'], PS['Temp (degC)'], PS['Z']) ##conservative temp\n",
    "PS_rho = gsw.density.rho((PS['Sal (g kg-1)']),(PS['Temp (CT degC)']),(PS['Z']))"
   ]
  },
  {
   "cell_type": "code",
   "execution_count": 8,
   "metadata": {},
   "outputs": [],
   "source": [
    "PS['DO (uM)']= PS['RECOMMENDED_OXYGEN_UMOL_KG'] *(PS_rho/1000)\n",
    "PS['NO3 (uM)']= PS['NITRATE_UMOL_KG'] *(PS_rho/1000)\n",
    "PS['NO2 (uM)']= PS['NITRITE_UMOL_KG'] *(PS_rho/1000)\n",
    "PS['NH4 (uM)']= PS['AMMONIUM_UMOL_KG'] *(PS_rho/1000)\n",
    "PS['PO4 (uM)']= PS['PHOSPHATE_UMOL_KG'] *(PS_rho/1000)\n",
    "PS['SIO4 (uM)']= PS['SILICATE_UMOL_KG'] *(PS_rho/1000)\n",
    "PS['TA (uM)']= PS['TA_UMOL_KG'] *(PS_rho/1000)\n",
    "PS['DIC (uM)']= PS['DIC_UMOL_KG'] *(PS_rho/1000)"
   ]
  },
  {
   "cell_type": "code",
   "execution_count": 9,
   "metadata": {},
   "outputs": [],
   "source": [
    " # Retain only selected variables following Parker MacCready https://github.com/parkermac/LO/blob/main/obs/nceiCoastal/process_data.py\n",
    "cols = ['Cruise','Date', 'Time', 'Lat', 'Lon', 'PATH', 'Z',\n",
    "        'Temp (degC)','Temp (CT degC)', 'Sal (g kg-1)','Sal (PSS)' ,'DO (uM)',\n",
    "        'NO3 (uM)', 'NO2 (uM)', 'NH4 (uM)', 'PO4 (uM)', 'SiO4 (uM)',\n",
    "        'TA (uM)', 'DIC (uM)','TA_FLAG_W', 'DIC_FLAG_W']\n",
    "this_cols = [item for item in cols if item in PS.columns]\n",
    "PS = PS[this_cols]"
   ]
  },
  {
   "cell_type": "code",
   "execution_count": 10,
   "metadata": {},
   "outputs": [
    {
     "data": {
      "text/html": [
       "<div>\n",
       "<style scoped>\n",
       "    .dataframe tbody tr th:only-of-type {\n",
       "        vertical-align: middle;\n",
       "    }\n",
       "\n",
       "    .dataframe tbody tr th {\n",
       "        vertical-align: top;\n",
       "    }\n",
       "\n",
       "    .dataframe thead th {\n",
       "        text-align: right;\n",
       "    }\n",
       "</style>\n",
       "<table border=\"1\" class=\"dataframe\">\n",
       "  <thead>\n",
       "    <tr style=\"text-align: right;\">\n",
       "      <th></th>\n",
       "      <th>Cruise</th>\n",
       "      <th>Date</th>\n",
       "      <th>Time</th>\n",
       "      <th>Lat</th>\n",
       "      <th>Lon</th>\n",
       "      <th>Z</th>\n",
       "      <th>Temp (degC)</th>\n",
       "      <th>Temp (CT degC)</th>\n",
       "      <th>Sal (g kg-1)</th>\n",
       "      <th>Sal (PSS)</th>\n",
       "      <th>DO (uM)</th>\n",
       "      <th>NO3 (uM)</th>\n",
       "      <th>NO2 (uM)</th>\n",
       "      <th>NH4 (uM)</th>\n",
       "      <th>PO4 (uM)</th>\n",
       "      <th>TA (uM)</th>\n",
       "      <th>DIC (uM)</th>\n",
       "      <th>TA_FLAG_W</th>\n",
       "      <th>DIC_FLAG_W</th>\n",
       "    </tr>\n",
       "  </thead>\n",
       "  <tbody>\n",
       "    <tr>\n",
       "      <th>35</th>\n",
       "      <td>AQ201610</td>\n",
       "      <td>2016-10-25</td>\n",
       "      <td>6:09:55</td>\n",
       "      <td>48.2240</td>\n",
       "      <td>-123.4811</td>\n",
       "      <td>141.608</td>\n",
       "      <td>8.3447</td>\n",
       "      <td>8.349652</td>\n",
       "      <td>33.391446</td>\n",
       "      <td>33.2297</td>\n",
       "      <td>106.035872</td>\n",
       "      <td>29.788587</td>\n",
       "      <td>0.287416</td>\n",
       "      <td>0.000000</td>\n",
       "      <td>2.545682</td>\n",
       "      <td>2285.776176</td>\n",
       "      <td>2263.398809</td>\n",
       "      <td>2</td>\n",
       "      <td>2</td>\n",
       "    </tr>\n",
       "    <tr>\n",
       "      <th>36</th>\n",
       "      <td>AQ201610</td>\n",
       "      <td>2016-10-25</td>\n",
       "      <td>6:11:19</td>\n",
       "      <td>48.2241</td>\n",
       "      <td>-123.4808</td>\n",
       "      <td>110.587</td>\n",
       "      <td>8.7967</td>\n",
       "      <td>8.812697</td>\n",
       "      <td>32.943459</td>\n",
       "      <td>32.7846</td>\n",
       "      <td>126.599120</td>\n",
       "      <td>28.787450</td>\n",
       "      <td>0.287259</td>\n",
       "      <td>0.000000</td>\n",
       "      <td>2.492997</td>\n",
       "      <td>2264.421219</td>\n",
       "      <td>2234.874585</td>\n",
       "      <td>2</td>\n",
       "      <td>2</td>\n",
       "    </tr>\n",
       "    <tr>\n",
       "      <th>37</th>\n",
       "      <td>AQ201610</td>\n",
       "      <td>2016-10-25</td>\n",
       "      <td>6:12:26</td>\n",
       "      <td>48.2242</td>\n",
       "      <td>-123.4806</td>\n",
       "      <td>80.753</td>\n",
       "      <td>9.3383</td>\n",
       "      <td>9.367434</td>\n",
       "      <td>32.420453</td>\n",
       "      <td>32.2648</td>\n",
       "      <td>149.795861</td>\n",
       "      <td>27.324159</td>\n",
       "      <td>0.307589</td>\n",
       "      <td>0.112783</td>\n",
       "      <td>2.419700</td>\n",
       "      <td>2235.146995</td>\n",
       "      <td>2199.159078</td>\n",
       "      <td>2</td>\n",
       "      <td>2</td>\n",
       "    </tr>\n",
       "    <tr>\n",
       "      <th>38</th>\n",
       "      <td>AQ201610</td>\n",
       "      <td>2016-10-25</td>\n",
       "      <td>6:13:34</td>\n",
       "      <td>48.2243</td>\n",
       "      <td>-123.4804</td>\n",
       "      <td>50.157</td>\n",
       "      <td>9.8490</td>\n",
       "      <td>9.891354</td>\n",
       "      <td>31.944572</td>\n",
       "      <td>31.7917</td>\n",
       "      <td>180.040763</td>\n",
       "      <td>25.463933</td>\n",
       "      <td>0.348400</td>\n",
       "      <td>0.399635</td>\n",
       "      <td>2.336329</td>\n",
       "      <td>2210.494783</td>\n",
       "      <td>2163.460798</td>\n",
       "      <td>2</td>\n",
       "      <td>2</td>\n",
       "    </tr>\n",
       "    <tr>\n",
       "      <th>39</th>\n",
       "      <td>AQ201610</td>\n",
       "      <td>2016-10-25</td>\n",
       "      <td>6:14:23</td>\n",
       "      <td>48.2243</td>\n",
       "      <td>-123.4802</td>\n",
       "      <td>30.641</td>\n",
       "      <td>9.9635</td>\n",
       "      <td>10.010329</td>\n",
       "      <td>31.838209</td>\n",
       "      <td>31.6858</td>\n",
       "      <td>183.798087</td>\n",
       "      <td>25.151856</td>\n",
       "      <td>0.358580</td>\n",
       "      <td>0.399561</td>\n",
       "      <td>2.335895</td>\n",
       "      <td>2203.528012</td>\n",
       "      <td>2154.965975</td>\n",
       "      <td>2</td>\n",
       "      <td>2</td>\n",
       "    </tr>\n",
       "    <tr>\n",
       "      <th>...</th>\n",
       "      <td>...</td>\n",
       "      <td>...</td>\n",
       "      <td>...</td>\n",
       "      <td>...</td>\n",
       "      <td>...</td>\n",
       "      <td>...</td>\n",
       "      <td>...</td>\n",
       "      <td>...</td>\n",
       "      <td>...</td>\n",
       "      <td>...</td>\n",
       "      <td>...</td>\n",
       "      <td>...</td>\n",
       "      <td>...</td>\n",
       "      <td>...</td>\n",
       "      <td>...</td>\n",
       "      <td>...</td>\n",
       "      <td>...</td>\n",
       "      <td>...</td>\n",
       "      <td>...</td>\n",
       "    </tr>\n",
       "    <tr>\n",
       "      <th>7478</th>\n",
       "      <td>SH1604</td>\n",
       "      <td>2016-03-18</td>\n",
       "      <td>21:30:02</td>\n",
       "      <td>48.2472</td>\n",
       "      <td>-123.9837</td>\n",
       "      <td>29.953</td>\n",
       "      <td>9.1606</td>\n",
       "      <td>9.224768</td>\n",
       "      <td>30.627549</td>\n",
       "      <td>30.4809</td>\n",
       "      <td>260.940853</td>\n",
       "      <td>19.399094</td>\n",
       "      <td>0.286636</td>\n",
       "      <td>0.000000</td>\n",
       "      <td>1.678866</td>\n",
       "      <td>-1022.675213</td>\n",
       "      <td>-1022.675213</td>\n",
       "      <td>9</td>\n",
       "      <td>9</td>\n",
       "    </tr>\n",
       "    <tr>\n",
       "      <th>7479</th>\n",
       "      <td>SH1604</td>\n",
       "      <td>2016-03-18</td>\n",
       "      <td>21:30:37</td>\n",
       "      <td>48.2473</td>\n",
       "      <td>-123.9838</td>\n",
       "      <td>20.745</td>\n",
       "      <td>9.1351</td>\n",
       "      <td>9.203877</td>\n",
       "      <td>30.398465</td>\n",
       "      <td>30.2525</td>\n",
       "      <td>271.836961</td>\n",
       "      <td>17.655074</td>\n",
       "      <td>0.286575</td>\n",
       "      <td>0.173992</td>\n",
       "      <td>1.576163</td>\n",
       "      <td>2121.781639</td>\n",
       "      <td>2025.676629</td>\n",
       "      <td>2</td>\n",
       "      <td>2</td>\n",
       "    </tr>\n",
       "    <tr>\n",
       "      <th>7480</th>\n",
       "      <td>SH1604</td>\n",
       "      <td>2016-03-18</td>\n",
       "      <td>21:31:15</td>\n",
       "      <td>48.2473</td>\n",
       "      <td>-123.9840</td>\n",
       "      <td>11.556</td>\n",
       "      <td>9.1476</td>\n",
       "      <td>9.218510</td>\n",
       "      <td>30.330848</td>\n",
       "      <td>30.1851</td>\n",
       "      <td>287.571472</td>\n",
       "      <td>16.722128</td>\n",
       "      <td>0.276314</td>\n",
       "      <td>0.000000</td>\n",
       "      <td>1.524845</td>\n",
       "      <td>-1022.362634</td>\n",
       "      <td>-1022.362634</td>\n",
       "      <td>9</td>\n",
       "      <td>9</td>\n",
       "    </tr>\n",
       "    <tr>\n",
       "      <th>7481</th>\n",
       "      <td>SH1604</td>\n",
       "      <td>2016-03-18</td>\n",
       "      <td>21:31:53</td>\n",
       "      <td>48.2475</td>\n",
       "      <td>-123.9842</td>\n",
       "      <td>5.631</td>\n",
       "      <td>9.1844</td>\n",
       "      <td>9.256224</td>\n",
       "      <td>30.325521</td>\n",
       "      <td>30.1796</td>\n",
       "      <td>289.300818</td>\n",
       "      <td>16.660125</td>\n",
       "      <td>0.307005</td>\n",
       "      <td>0.102335</td>\n",
       "      <td>1.514557</td>\n",
       "      <td>-1022.325848</td>\n",
       "      <td>-1022.325848</td>\n",
       "      <td>9</td>\n",
       "      <td>9</td>\n",
       "    </tr>\n",
       "    <tr>\n",
       "      <th>7482</th>\n",
       "      <td>SH1604</td>\n",
       "      <td>2016-03-18</td>\n",
       "      <td>21:32:21</td>\n",
       "      <td>48.2475</td>\n",
       "      <td>-123.9843</td>\n",
       "      <td>1.339</td>\n",
       "      <td>9.1829</td>\n",
       "      <td>9.255136</td>\n",
       "      <td>30.326608</td>\n",
       "      <td>30.1805</td>\n",
       "      <td>295.435554</td>\n",
       "      <td>16.659823</td>\n",
       "      <td>0.276299</td>\n",
       "      <td>0.000000</td>\n",
       "      <td>1.514529</td>\n",
       "      <td>2117.373418</td>\n",
       "      <td>2012.072696</td>\n",
       "      <td>2</td>\n",
       "      <td>2</td>\n",
       "    </tr>\n",
       "  </tbody>\n",
       "</table>\n",
       "<p>6789 rows × 19 columns</p>\n",
       "</div>"
      ],
      "text/plain": [
       "        Cruise        Date      Time      Lat       Lon        Z  Temp (degC)  \\\n",
       "35    AQ201610  2016-10-25   6:09:55  48.2240 -123.4811  141.608       8.3447   \n",
       "36    AQ201610  2016-10-25   6:11:19  48.2241 -123.4808  110.587       8.7967   \n",
       "37    AQ201610  2016-10-25   6:12:26  48.2242 -123.4806   80.753       9.3383   \n",
       "38    AQ201610  2016-10-25   6:13:34  48.2243 -123.4804   50.157       9.8490   \n",
       "39    AQ201610  2016-10-25   6:14:23  48.2243 -123.4802   30.641       9.9635   \n",
       "...        ...         ...       ...      ...       ...      ...          ...   \n",
       "7478    SH1604  2016-03-18  21:30:02  48.2472 -123.9837   29.953       9.1606   \n",
       "7479    SH1604  2016-03-18  21:30:37  48.2473 -123.9838   20.745       9.1351   \n",
       "7480    SH1604  2016-03-18  21:31:15  48.2473 -123.9840   11.556       9.1476   \n",
       "7481    SH1604  2016-03-18  21:31:53  48.2475 -123.9842    5.631       9.1844   \n",
       "7482    SH1604  2016-03-18  21:32:21  48.2475 -123.9843    1.339       9.1829   \n",
       "\n",
       "      Temp (CT degC)  Sal (g kg-1)  Sal (PSS)     DO (uM)   NO3 (uM)  \\\n",
       "35          8.349652     33.391446    33.2297  106.035872  29.788587   \n",
       "36          8.812697     32.943459    32.7846  126.599120  28.787450   \n",
       "37          9.367434     32.420453    32.2648  149.795861  27.324159   \n",
       "38          9.891354     31.944572    31.7917  180.040763  25.463933   \n",
       "39         10.010329     31.838209    31.6858  183.798087  25.151856   \n",
       "...              ...           ...        ...         ...        ...   \n",
       "7478        9.224768     30.627549    30.4809  260.940853  19.399094   \n",
       "7479        9.203877     30.398465    30.2525  271.836961  17.655074   \n",
       "7480        9.218510     30.330848    30.1851  287.571472  16.722128   \n",
       "7481        9.256224     30.325521    30.1796  289.300818  16.660125   \n",
       "7482        9.255136     30.326608    30.1805  295.435554  16.659823   \n",
       "\n",
       "      NO2 (uM)  NH4 (uM)  PO4 (uM)      TA (uM)     DIC (uM)  TA_FLAG_W  \\\n",
       "35    0.287416  0.000000  2.545682  2285.776176  2263.398809          2   \n",
       "36    0.287259  0.000000  2.492997  2264.421219  2234.874585          2   \n",
       "37    0.307589  0.112783  2.419700  2235.146995  2199.159078          2   \n",
       "38    0.348400  0.399635  2.336329  2210.494783  2163.460798          2   \n",
       "39    0.358580  0.399561  2.335895  2203.528012  2154.965975          2   \n",
       "...        ...       ...       ...          ...          ...        ...   \n",
       "7478  0.286636  0.000000  1.678866 -1022.675213 -1022.675213          9   \n",
       "7479  0.286575  0.173992  1.576163  2121.781639  2025.676629          2   \n",
       "7480  0.276314  0.000000  1.524845 -1022.362634 -1022.362634          9   \n",
       "7481  0.307005  0.102335  1.514557 -1022.325848 -1022.325848          9   \n",
       "7482  0.276299  0.000000  1.514529  2117.373418  2012.072696          2   \n",
       "\n",
       "      DIC_FLAG_W  \n",
       "35             2  \n",
       "36             2  \n",
       "37             2  \n",
       "38             2  \n",
       "39             2  \n",
       "...          ...  \n",
       "7478           9  \n",
       "7479           2  \n",
       "7480           9  \n",
       "7481           9  \n",
       "7482           2  \n",
       "\n",
       "[6789 rows x 19 columns]"
      ]
     },
     "execution_count": 10,
     "metadata": {},
     "output_type": "execute_result"
    }
   ],
   "source": [
    "PS"
   ]
  },
  {
   "cell_type": "code",
   "execution_count": 11,
   "metadata": {},
   "outputs": [
    {
     "name": "stdout",
     "output_type": "stream",
     "text": [
      "(3812,)\n"
     ]
    }
   ],
   "source": [
    "## Code in this cell is based on Tereza's Dataset_dfmaker.ipynb notebook to keep everything consistent. Check with Debby and Susan about using DIC/TA masks and quality flagged. Will need to quality control Puget Sound data too?\n",
    "\n",
    "\n",
    "PS_mask = (((PS['DIC_FLAG_W']==2) | (PS['DIC_FLAG_W']==6)) & \\\n",
    "        ((PS['TA_FLAG_W']==2) | (PS['TA_FLAG_W']==6)) & \\\n",
    "        (PS['DIC (uM)'] > 0) & (PS['TA (uM)'] >0))\n",
    "print(np.shape(PS['DIC (uM)'][PS_mask]))\n",
    "PS['DIC (uM)']=PS['DIC (uM)'][PS_mask]\n",
    "PS['TA (uM)']=PS['TA (uM)'][PS_mask]"
   ]
  },
  {
   "cell_type": "code",
   "execution_count": 12,
   "metadata": {},
   "outputs": [],
   "source": [
    "SoG=pd.read_csv('/ocean/tjarniko/MEOPAR/analysis_tereza/notebooks/PI_CARBON_PAPER/MAIN_ANALYSIS/KEY_MODEVAL/Datasets/combined_fromdf.csv')\n",
    "## data from Tereza Jarnikova's compiled dataset for Canadian waters of Salish Sea"
   ]
  },
  {
   "cell_type": "code",
   "execution_count": 13,
   "metadata": {},
   "outputs": [],
   "source": [
    "SoG['Year']=SoG['crid'].astype(str).str[:4]\n",
    "SoG['mon']=SoG['mon'].astype(str).str[:1]\n",
    "SoG['day']=SoG['day'].astype(str).str[:1]"
   ]
  },
  {
   "cell_type": "code",
   "execution_count": 14,
   "metadata": {},
   "outputs": [],
   "source": [
    "### Combine three columns of date information into a single time column\n",
    "SoG['time'] = SoG.apply(lambda r: dt.datetime.strptime(f\"{r['Year']} {r['mon']} {r['day']} {0}:{0}:{0}\", '%Y %m %d %H:%M:%S'), axis=1)"
   ]
  },
  {
   "cell_type": "code",
   "execution_count": 15,
   "metadata": {},
   "outputs": [],
   "source": [
    "SoG.rename(columns={'lat':'Lat','lon':'Lon','time':'dtUTC','P':'Z',\\\n",
    "                   'T':'Temp (degC)','S':'Sal (PSS)'},inplace=True)"
   ]
  },
  {
   "cell_type": "code",
   "execution_count": 16,
   "metadata": {},
   "outputs": [],
   "source": [
    "SoG['Sal (g kg-1)']=gsw.conversions.SA_from_SP(SoG['Sal (PSS)'],SoG['Z'], SoG['Lon'], SoG['Lat']) ##absolute salinity\n",
    "SoG['Temp (CT degC)']=gsw.CT_from_t(SoG['Sal (g kg-1)'], SoG['Temp (degC)'], SoG['Z']) ##conservative temp\n",
    "SoG_rho = gsw.density.rho((SoG['Sal (g kg-1)']),(SoG['Temp (CT degC)']),(SoG['Z'])) ## check to make sure this is the correct density formula (from teos-10)\n",
    "\n",
    "## used the same equation as Parkers process_data.py file\n",
    "SoG['DIC (uM)']=SoG['dic']*(SoG_rho/1000)\n",
    "SoG['TA (uM)']=SoG['alk']*(SoG_rho/1000)"
   ]
  },
  {
   "cell_type": "code",
   "execution_count": 17,
   "metadata": {},
   "outputs": [
    {
     "name": "stdout",
     "output_type": "stream",
     "text": [
      "(572,)\n"
     ]
    }
   ],
   "source": [
    "## Code in this cell is based on Tereza's Dataset_dfmaker.ipynb notebook to keep everything consistent. Check with Debby and Susan about using DIC/TA masks and quality flagged. Will need to quality control Puget Sound data too?\n",
    "\n",
    "SoG_mask = (((SoG['dic_qf']==2) | (SoG['dic_qf']==6)) & \\\n",
    "        ((SoG['alk_qf']==2) | (SoG['alk_qf']==6)) & \\\n",
    "        (SoG['dic'] > 0) & (SoG['alk'] >0))\n",
    "SoG['DIC (uM)']=SoG['dic'][SoG_mask]\n",
    "SoG['TA (uM)']=SoG['alk'][SoG_mask]\n",
    "print(np.shape(SoG['dic'][SoG_mask]))"
   ]
  },
  {
   "cell_type": "code",
   "execution_count": 18,
   "metadata": {},
   "outputs": [],
   "source": [
    "PS.rename(columns={'Date':'dtUTC','TA_FLAG_W':'TA_FLAG','DIC_FLAG_W':'DIC_FLAG'},inplace=True)\n",
    "SoG.rename(columns={'alk_qf':'TA_FLAG','dic_qf':'DIC_FLAG'},inplace=True)"
   ]
  },
  {
   "cell_type": "code",
   "execution_count": 19,
   "metadata": {},
   "outputs": [],
   "source": [
    "PS['dtUTC']=pd.to_datetime(PS.dtUTC).dt.tz_localize(None)"
   ]
  },
  {
   "cell_type": "code",
   "execution_count": 20,
   "metadata": {},
   "outputs": [],
   "source": [
    "## create data df by combining Becca and Tereza's datasets\n",
    "dataa=pd.concat([PS, SoG], axis=0, join='outer')"
   ]
  },
  {
   "cell_type": "code",
   "execution_count": 21,
   "metadata": {},
   "outputs": [],
   "source": [
    "\n",
    "dataa['dtUTC']=pd.to_datetime(dataa['dtUTC']) "
   ]
  },
  {
   "cell_type": "code",
   "execution_count": 22,
   "metadata": {},
   "outputs": [],
   "source": [
    "dataa['Year']=[ii.year for ii in dataa['dtUTC']]\n",
    "dataa['Month']=[ii.month for ii in dataa['dtUTC']]"
   ]
  },
  {
   "cell_type": "code",
   "execution_count": 23,
   "metadata": {},
   "outputs": [],
   "source": [
    "dataa['YMO']=pd.to_datetime(dataa[['Year', 'Month']].assign(DAY=1))"
   ]
  },
  {
   "cell_type": "code",
   "execution_count": 24,
   "metadata": {},
   "outputs": [],
   "source": [
    "data=dataa[(dataa['Year'] >= 2015) & (dataa['Year'] <= 2018)] "
   ]
  },
  {
   "cell_type": "code",
   "execution_count": 25,
   "metadata": {},
   "outputs": [
    {
     "name": "stderr",
     "output_type": "stream",
     "text": [
      "No artists with labels found to put in legend.  Note that artists whose label start with an underscore are ignored when legend() is called with no argument.\n",
      "No artists with labels found to put in legend.  Note that artists whose label start with an underscore are ignored when legend() is called with no argument.\n"
     ]
    },
    {
     "data": {
      "text/plain": [
       "<matplotlib.legend.Legend at 0x7f2f66923b90>"
      ]
     },
     "execution_count": 25,
     "metadata": {},
     "output_type": "execute_result"
    },
    {
     "data": {
      "image/png": "[encoded data removed]",
      "text/plain": [
       "<Figure size 600x600 with 1 Axes>"
      ]
     },
     "metadata": {},
     "output_type": "display_data"
    }
   ],
   "source": [
    "fig, ax = plt.subplots(1,1,figsize = (6,6))\n",
    "with nc.Dataset('/ocean/ksuchy/MOAD/NEMO-forcing/grid/bathymetry_202108.nc') as grid:\n",
    "    viz_tools.plot_coastline(ax, grid, coords = 'map',isobath=.1)\n",
    "colors=('teal','green','firebrick','darkorange','darkviolet','fuchsia',\n",
    "        'royalblue','darkgoldenrod','mediumspringgreen','deepskyblue','lightblue')\n",
    "ax.scatter(data['Lon'], data['Lat'],marker='o') #color = colors[ind]\n",
    "ax.set_ylim(47,51)\n",
    "plt.yticks(fontsize=12)\n",
    "ax.legend(bbox_to_anchor=[1,.6,0,0])\n",
    "ax.set_xlim(-126, -120)\n",
    "plt.xticks(fontsize=12);\n",
    "ax.set_title('Carbonate Chemistry Observation Locations',fontsize=14);\n",
    "ax.legend(frameon=False)"
   ]
  },
  {
   "cell_type": "code",
   "execution_count": 26,
   "metadata": {},
   "outputs": [
    {
     "data": {
      "text/plain": [
       "Timestamp('2015-04-01 00:00:00')"
      ]
     },
     "execution_count": 26,
     "metadata": {},
     "output_type": "execute_result"
    }
   ],
   "source": [
    "data.dtUTC.min()"
   ]
  },
  {
   "cell_type": "code",
   "execution_count": 27,
   "metadata": {},
   "outputs": [
    {
     "data": {
      "text/plain": [
       "Timestamp('2018-10-19 00:00:00')"
      ]
     },
     "execution_count": 27,
     "metadata": {},
     "output_type": "execute_result"
    }
   ],
   "source": [
    "data.dtUTC.max()"
   ]
  },
  {
   "cell_type": "code",
   "execution_count": 28,
   "metadata": {},
   "outputs": [],
   "source": [
    "data.to_csv('/ocean/atall/MOAD/Obs/SalishCruise_dataProduct_2015to2018_fromKaryn.csv') # /ocean/ksuchy/MOAD/analysis-karyn/notebooks/Evaluations/SalishCruise_dataProduct_2008to2018_09202023_allData.csv"
   ]
  },
  {
   "cell_type": "code",
   "execution_count": null,
   "metadata": {},
   "outputs": [],
   "source": []
  }
 ],
 "metadata": {
  "kernelspec": {
   "display_name": "Python 3",
   "language": "python",
   "name": "python3"
  },
  "language_info": {
   "codemirror_mode": {
    "name": "ipython",
    "version": 3
   },
   "file_extension": ".py",
   "mimetype": "text/x-python",
   "name": "python",
   "nbconvert_exporter": "python",
   "pygments_lexer": "ipython3",
   "version": "3.11.3"
  }
 },
 "nbformat": 4,
 "nbformat_minor": 2
}
